{
 "cells": [
  {
   "cell_type": "code",
   "execution_count": 220,
   "metadata": {
    "collapsed": false
   },
   "outputs": [],
   "source": [
    "import pandas as pd\n",
    "import numpy as np\n",
    "\n",
    "import matplotlib.pyplot as plt\n",
    "import seaborn as sns\n",
    "sns.set_style('whitegrid')\n",
    "%matplotlib inline"
   ]
  },
  {
   "cell_type": "markdown",
   "metadata": {},
   "source": [
    "### Fichier Liste de filleuls.xlsx"
   ]
  },
  {
   "cell_type": "code",
   "execution_count": 251,
   "metadata": {
    "collapsed": false
   },
   "outputs": [],
   "source": [
    "filleuls = pd.read_excel('../data/Liste des filleuls VF.xlsx', encoding='utf-8')\n",
    "filleuls.rename(columns={'Identifiant parrainage ':'Identifiant parrainage'}, inplace=True)"
   ]
  },
  {
   "cell_type": "code",
   "execution_count": 252,
   "metadata": {
    "collapsed": false
   },
   "outputs": [],
   "source": [
    "# Drop rows with no Identifiant parrainage\n",
    "filleuls = filleuls.dropna(subset=[\"Identifiant parrainage\"])\n",
    "\n",
    "# change type to merge\n",
    "filleuls[\"Identifiant parrainage\"] = filleuls[\"Identifiant parrainage\"].astype('int')"
   ]
  },
  {
   "cell_type": "code",
   "execution_count": 253,
   "metadata": {
    "collapsed": false
   },
   "outputs": [
    {
     "data": {
      "text/html": [
       "<div>\n",
       "<table border=\"1\" class=\"dataframe\">\n",
       "  <thead>\n",
       "    <tr style=\"text-align: right;\">\n",
       "      <th></th>\n",
       "      <th>Identifiant filleul</th>\n",
       "      <th>Identifiant parrain</th>\n",
       "      <th>Identifiant parrainage</th>\n",
       "      <th>Sexe</th>\n",
       "      <th>Formation actuelle</th>\n",
       "      <th>Sous-formation actuelle</th>\n",
       "      <th>Statut filleul</th>\n",
       "      <th>Code formation</th>\n",
       "      <th>Lycée du bac</th>\n",
       "      <th>Ville du lycée du bac</th>\n",
       "      <th>...</th>\n",
       "      <th>Etat de l'encordage</th>\n",
       "      <th>Suivi Encordage</th>\n",
       "      <th>Date de l'encordage</th>\n",
       "      <th>Suivi Autre</th>\n",
       "      <th>Motif Annulation</th>\n",
       "      <th>Commentaire programme dédié</th>\n",
       "      <th>Documents reçus</th>\n",
       "      <th>Qualité de l'engagement et réactivité</th>\n",
       "      <th>Evaluation parrainage</th>\n",
       "      <th>Soutien financier hors état</th>\n",
       "    </tr>\n",
       "  </thead>\n",
       "  <tbody>\n",
       "    <tr>\n",
       "      <th>0</th>\n",
       "      <td>1</td>\n",
       "      <td>909.0</td>\n",
       "      <td>1050</td>\n",
       "      <td>H</td>\n",
       "      <td>Ecole de commerce (après bac+2)</td>\n",
       "      <td>4ème année</td>\n",
       "      <td>Ancien</td>\n",
       "      <td>3 : Commerce / Finance / Gestion</td>\n",
       "      <td>Arthur Rimbaud</td>\n",
       "      <td>Sin-le-Noble</td>\n",
       "      <td>...</td>\n",
       "      <td>Non encordé(e)</td>\n",
       "      <td>NaN</td>\n",
       "      <td>NaN</td>\n",
       "      <td>reporting : SAFRAN  Situation financière:  30/...</td>\n",
       "      <td>NaN</td>\n",
       "      <td>Reporting Safran 2010</td>\n",
       "      <td>Non</td>\n",
       "      <td>A : Très bonne</td>\n",
       "      <td>NaN</td>\n",
       "      <td>NaN</td>\n",
       "    </tr>\n",
       "    <tr>\n",
       "      <th>2</th>\n",
       "      <td>4</td>\n",
       "      <td>1516.0</td>\n",
       "      <td>1735</td>\n",
       "      <td>F</td>\n",
       "      <td>CPGE Commerce</td>\n",
       "      <td>ECT ? 1ère année</td>\n",
       "      <td>Parrainé</td>\n",
       "      <td>3 : Commerce / Finance / Gestion</td>\n",
       "      <td>NC</td>\n",
       "      <td>NC</td>\n",
       "      <td>...</td>\n",
       "      <td>Non encordé(e)</td>\n",
       "      <td>NaN</td>\n",
       "      <td>NaN</td>\n",
       "      <td>NaN</td>\n",
       "      <td>NaN</td>\n",
       "      <td>NaN</td>\n",
       "      <td>Oui</td>\n",
       "      <td>C : Moyenne</td>\n",
       "      <td>B : Le parrainage se passe bien</td>\n",
       "      <td>Non.</td>\n",
       "    </tr>\n",
       "    <tr>\n",
       "      <th>3</th>\n",
       "      <td>5</td>\n",
       "      <td>674.0</td>\n",
       "      <td>772</td>\n",
       "      <td>H</td>\n",
       "      <td>Université - Sciences</td>\n",
       "      <td>Autre</td>\n",
       "      <td>Disponible</td>\n",
       "      <td>1 : Ingénieurs / Sciences dures</td>\n",
       "      <td>BUS Blaise Pascal</td>\n",
       "      <td>Reggio nell'Emilia</td>\n",
       "      <td>...</td>\n",
       "      <td>Non encordé(e)</td>\n",
       "      <td>NaN</td>\n",
       "      <td>NaN</td>\n",
       "      <td>Fev-16 : (HM) A parrainer si on a un parrain s...</td>\n",
       "      <td>manque de motivation parrain</td>\n",
       "      <td>NaN</td>\n",
       "      <td>Non</td>\n",
       "      <td>C : Moyenne</td>\n",
       "      <td>C : Le parrainage fonctionne correctement</td>\n",
       "      <td>NaN</td>\n",
       "    </tr>\n",
       "    <tr>\n",
       "      <th>4</th>\n",
       "      <td>6</td>\n",
       "      <td>1967.0</td>\n",
       "      <td>2246</td>\n",
       "      <td>F</td>\n",
       "      <td>Université - Droit</td>\n",
       "      <td>L2 Droit/Sciences politiques</td>\n",
       "      <td>Parrainé</td>\n",
       "      <td>3 : Commerce / Finance / Gestion</td>\n",
       "      <td>NC</td>\n",
       "      <td>NC</td>\n",
       "      <td>...</td>\n",
       "      <td>Non encordé(e)</td>\n",
       "      <td>NaN</td>\n",
       "      <td>NaN</td>\n",
       "      <td>NaN</td>\n",
       "      <td>NaN</td>\n",
       "      <td>NaN</td>\n",
       "      <td>Non</td>\n",
       "      <td>C : Moyenne</td>\n",
       "      <td>B : Le parrainage se passe bien</td>\n",
       "      <td>NaN</td>\n",
       "    </tr>\n",
       "    <tr>\n",
       "      <th>5</th>\n",
       "      <td>7</td>\n",
       "      <td>1215.0</td>\n",
       "      <td>1413</td>\n",
       "      <td>H</td>\n",
       "      <td>Autres</td>\n",
       "      <td>Autre (à renseigner)</td>\n",
       "      <td>Sorti</td>\n",
       "      <td>1 : Ingénieurs / Sciences dures</td>\n",
       "      <td>Lycée Jacques Feyder</td>\n",
       "      <td>Epinay-sur-Seine</td>\n",
       "      <td>...</td>\n",
       "      <td>Non encordé(e)</td>\n",
       "      <td>NaN</td>\n",
       "      <td>NaN</td>\n",
       "      <td>Boursiers Jean Guyot 2009-2010  Situation fina...</td>\n",
       "      <td>NaN</td>\n",
       "      <td>NaN</td>\n",
       "      <td>Oui</td>\n",
       "      <td>A : Très bonne</td>\n",
       "      <td>NaN</td>\n",
       "      <td>NaN</td>\n",
       "    </tr>\n",
       "  </tbody>\n",
       "</table>\n",
       "<p>5 rows × 69 columns</p>\n",
       "</div>"
      ],
      "text/plain": [
       "   Identifiant filleul  Identifiant parrain  Identifiant parrainage Sexe  \\\n",
       "0                    1                909.0                    1050    H   \n",
       "2                    4               1516.0                    1735    F   \n",
       "3                    5                674.0                     772    H   \n",
       "4                    6               1967.0                    2246    F   \n",
       "5                    7               1215.0                    1413    H   \n",
       "\n",
       "                Formation actuelle       Sous-formation actuelle  \\\n",
       "0  Ecole de commerce (après bac+2)                    4ème année   \n",
       "2                    CPGE Commerce              ECT ? 1ère année   \n",
       "3            Université - Sciences                         Autre   \n",
       "4               Université - Droit  L2 Droit/Sciences politiques   \n",
       "5                           Autres          Autre (à renseigner)   \n",
       "\n",
       "  Statut filleul                    Code formation          Lycée du bac  \\\n",
       "0         Ancien  3 : Commerce / Finance / Gestion        Arthur Rimbaud   \n",
       "2       Parrainé  3 : Commerce / Finance / Gestion                    NC   \n",
       "3     Disponible   1 : Ingénieurs / Sciences dures     BUS Blaise Pascal   \n",
       "4       Parrainé  3 : Commerce / Finance / Gestion                    NC   \n",
       "5          Sorti   1 : Ingénieurs / Sciences dures  Lycée Jacques Feyder   \n",
       "\n",
       "  Ville du lycée du bac             ...             Etat de l'encordage  \\\n",
       "0          Sin-le-Noble             ...                  Non encordé(e)   \n",
       "2                    NC             ...                  Non encordé(e)   \n",
       "3    Reggio nell'Emilia             ...                  Non encordé(e)   \n",
       "4                    NC             ...                  Non encordé(e)   \n",
       "5      Epinay-sur-Seine             ...                  Non encordé(e)   \n",
       "\n",
       "  Suivi Encordage Date de l'encordage  \\\n",
       "0             NaN                 NaN   \n",
       "2             NaN                 NaN   \n",
       "3             NaN                 NaN   \n",
       "4             NaN                 NaN   \n",
       "5             NaN                 NaN   \n",
       "\n",
       "                                         Suivi Autre  \\\n",
       "0  reporting : SAFRAN  Situation financière:  30/...   \n",
       "2                                                NaN   \n",
       "3  Fev-16 : (HM) A parrainer si on a un parrain s...   \n",
       "4                                                NaN   \n",
       "5  Boursiers Jean Guyot 2009-2010  Situation fina...   \n",
       "\n",
       "               Motif Annulation Commentaire programme dédié Documents reçus  \\\n",
       "0                           NaN       Reporting Safran 2010             Non   \n",
       "2                           NaN                         NaN             Oui   \n",
       "3  manque de motivation parrain                         NaN             Non   \n",
       "4                           NaN                         NaN             Non   \n",
       "5                           NaN                         NaN             Oui   \n",
       "\n",
       "  Qualité de l'engagement et réactivité  \\\n",
       "0                        A : Très bonne   \n",
       "2                           C : Moyenne   \n",
       "3                           C : Moyenne   \n",
       "4                           C : Moyenne   \n",
       "5                        A : Très bonne   \n",
       "\n",
       "                       Evaluation parrainage Soutien financier hors état  \n",
       "0                                        NaN                         NaN  \n",
       "2            B : Le parrainage se passe bien                        Non.  \n",
       "3  C : Le parrainage fonctionne correctement                         NaN  \n",
       "4            B : Le parrainage se passe bien                         NaN  \n",
       "5                                        NaN                         NaN  \n",
       "\n",
       "[5 rows x 69 columns]"
      ]
     },
     "execution_count": 253,
     "metadata": {},
     "output_type": "execute_result"
    }
   ],
   "source": [
    "filleuls.head()"
   ]
  },
  {
   "cell_type": "code",
   "execution_count": 254,
   "metadata": {
    "collapsed": false
   },
   "outputs": [
    {
     "data": {
      "text/plain": [
       "B : Le parrainage se passe bien              670\n",
       "C : Le parrainage fonctionne correctement    350\n",
       "A : Le parrainage se passe très bien         208\n",
       "Non encore parrainé                          151\n",
       "D : Le parrainage ne se passe pas bien       134\n",
       "E : Le parrainage ne fonctionne pas           90\n",
       "Name: Evaluation parrainage, dtype: int64"
      ]
     },
     "execution_count": 254,
     "metadata": {},
     "output_type": "execute_result"
    }
   ],
   "source": [
    "filleuls[u\"Evaluation parrainage\"].value_counts()"
   ]
  },
  {
   "cell_type": "code",
   "execution_count": 255,
   "metadata": {
    "collapsed": false
   },
   "outputs": [],
   "source": [
    "map_eval_fil = {u\"A : Le parrainage se passe tr\\xe8s bien\" : 1,\n",
    "                'B : Le parrainage se passe bien' : 1,\n",
    "                'C : Le parrainage fonctionne correctement' : 1,\n",
    "                'D : Le parrainage ne se passe pas bien' : 0,\n",
    "                'E : Le parrainage ne fonctionne pas' : 0}"
   ]
  },
  {
   "cell_type": "code",
   "execution_count": 256,
   "metadata": {
    "collapsed": false
   },
   "outputs": [],
   "source": [
    "filleuls['target'] = filleuls[u\"Evaluation parrainage\"].map(map_eval_fil)"
   ]
  },
  {
   "cell_type": "markdown",
   "metadata": {},
   "source": [
    "Il y a 622 lignes ou il n'y a pas d'évalutation."
   ]
  },
  {
   "cell_type": "code",
   "execution_count": 257,
   "metadata": {
    "collapsed": false
   },
   "outputs": [
    {
     "data": {
      "text/plain": [
       "1.0    1228\n",
       "0.0     224\n",
       "Name: target, dtype: int64"
      ]
     },
     "execution_count": 257,
     "metadata": {},
     "output_type": "execute_result"
    }
   ],
   "source": [
    "filleuls['target'].value_counts()"
   ]
  },
  {
   "cell_type": "code",
   "execution_count": 258,
   "metadata": {
    "collapsed": false
   },
   "outputs": [],
   "source": [
    "filleuls = filleuls.dropna(subset=['target'])"
   ]
  },
  {
   "cell_type": "code",
   "execution_count": 259,
   "metadata": {
    "collapsed": false
   },
   "outputs": [
    {
     "data": {
      "text/plain": [
       "Evaluation parrainage                      target\n",
       "A : Le parrainage se passe très bien       1.0       208\n",
       "B : Le parrainage se passe bien            1.0       670\n",
       "C : Le parrainage fonctionne correctement  1.0       350\n",
       "D : Le parrainage ne se passe pas bien     0.0       134\n",
       "E : Le parrainage ne fonctionne pas        0.0        90\n",
       "dtype: int64"
      ]
     },
     "execution_count": 259,
     "metadata": {},
     "output_type": "execute_result"
    }
   ],
   "source": [
    "filleuls.groupby([u\"Evaluation parrainage\", 'target']).size()"
   ]
  },
  {
   "cell_type": "code",
   "execution_count": 260,
   "metadata": {
    "collapsed": false
   },
   "outputs": [
    {
     "data": {
      "text/plain": [
       "1.0    0.84573\n",
       "0.0    0.15427\n",
       "Name: target, dtype: float64"
      ]
     },
     "execution_count": 260,
     "metadata": {},
     "output_type": "execute_result"
    }
   ],
   "source": [
    "filleuls.target.value_counts(normalize=True)"
   ]
  },
  {
   "cell_type": "markdown",
   "metadata": {},
   "source": [
    "Il y a 15,6 % des parainages qui ne sont pas satisfaisant"
   ]
  },
  {
   "cell_type": "code",
   "execution_count": 261,
   "metadata": {
    "collapsed": false
   },
   "outputs": [
    {
     "data": {
      "text/plain": [
       "[<matplotlib.text.Text at 0x11e24d290>,\n",
       " <matplotlib.text.Text at 0x121fd1a10>,\n",
       " <matplotlib.text.Text at 0x121ea1e90>,\n",
       " <matplotlib.text.Text at 0x121e7e650>,\n",
       " <matplotlib.text.Text at 0x121e7edd0>]"
      ]
     },
     "execution_count": 261,
     "metadata": {},
     "output_type": "execute_result"
    },
    {
     "data": {
      "image/png": "[encoded data removed]",
      "text/plain": [
       "<matplotlib.figure.Figure at 0x11e218790>"
      ]
     },
     "metadata": {},
     "output_type": "display_data"
    }
   ],
   "source": [
    "ax = sns.countplot(x=u\"Evaluation parrainage\", data=filleuls)\n",
    "ax.set_xticklabels(filleuls[u\"Evaluation parrainage\"].unique().tolist(), rotation=80)"
   ]
  },
  {
   "cell_type": "code",
   "execution_count": 262,
   "metadata": {
    "collapsed": false
   },
   "outputs": [],
   "source": [
    "## Diplome"
   ]
  },
  {
   "cell_type": "code",
   "execution_count": 263,
   "metadata": {
    "collapsed": false
   },
   "outputs": [
    {
     "data": {
      "text/plain": [
       "Ecole de commerce (après bac+2)       266\n",
       "Ecole d?ingénieurs (après bac+2)      187\n",
       "CPGE Scientifique                     126\n",
       "Université - Droit                    121\n",
       "CPGE Commerce                         117\n",
       "Université - Economie / Gestion        95\n",
       "Institut d'Etudes Politiques           87\n",
       "Autres                                 58\n",
       "Université - IUT                       43\n",
       "Université - Sciences                  38\n",
       "Université - Autres                    36\n",
       "Université - Médecine                  36\n",
       "Université - Lettres / langues         35\n",
       "Ecole d?ingénieurs (après bac)         29\n",
       "CPGE Littéraire                        29\n",
       "Ecole de commerce (après bac)          21\n",
       "BTS                                    20\n",
       "Université - Sciences Humaines         19\n",
       "CPGE Economie - Droit                  18\n",
       "Université - Histoire / Géographie     17\n",
       "Ecole Normale Supérieure               15\n",
       "Ecole d?arts                           11\n",
       "Diplôme de Comptabilité et Gestion      7\n",
       "Ecole d'agronomie                       5\n",
       "CPES                                    5\n",
       "Prép ENA                                4\n",
       "Ecole de chimie                         3\n",
       "Université - Enseignement               3\n",
       "Ecole vétérinaire                       1\n",
       "Name: Formation actuelle, dtype: int64"
      ]
     },
     "execution_count": 263,
     "metadata": {},
     "output_type": "execute_result"
    }
   ],
   "source": [
    "filleuls[u\"Formation actuelle\"].value_counts()"
   ]
  },
  {
   "cell_type": "code",
   "execution_count": null,
   "metadata": {
    "collapsed": false
   },
   "outputs": [],
   "source": []
  },
  {
   "cell_type": "code",
   "execution_count": null,
   "metadata": {
    "collapsed": true
   },
   "outputs": [],
   "source": []
  },
  {
   "cell_type": "code",
   "execution_count": null,
   "metadata": {
    "collapsed": false
   },
   "outputs": [],
   "source": []
  },
  {
   "cell_type": "markdown",
   "metadata": {},
   "source": [
    "## Parrains"
   ]
  },
  {
   "cell_type": "code",
   "execution_count": 276,
   "metadata": {
    "collapsed": false
   },
   "outputs": [],
   "source": [
    "parrains = pd.read_excel('../data/Liste des parrains VF.xlsx', encoding='utf-8')\n",
    "\n",
    "parrains.rename(columns={'Identifiant parrainage ':'Identifiant parrainage'}, inplace=True)\n"
   ]
  },
  {
   "cell_type": "code",
   "execution_count": null,
   "metadata": {
    "collapsed": false
   },
   "outputs": [],
   "source": []
  },
  {
   "cell_type": "code",
   "execution_count": 279,
   "metadata": {
    "collapsed": false
   },
   "outputs": [],
   "source": [
    "# Drop row with no id\n",
    "parrains = parrains.dropna(subset=[\"Identifiant parrain \", \"Identifiant filleul\", \"Identifiant parrainage\"]) # 1 row\n",
    "\n",
    "# change type to merge\n",
    "parrains[\"Identifiant parrainage\"] = parrains[\"Identifiant parrainage\"].astype('int')"
   ]
  },
  {
   "cell_type": "code",
   "execution_count": 280,
   "metadata": {
    "collapsed": false
   },
   "outputs": [
    {
     "data": {
      "text/html": [
       "<div>\n",
       "<table border=\"1\" class=\"dataframe\">\n",
       "  <thead>\n",
       "    <tr style=\"text-align: right;\">\n",
       "      <th></th>\n",
       "      <th>Identifiant parrain</th>\n",
       "      <th>Identifiant filleul</th>\n",
       "      <th>Identifiant parrainage</th>\n",
       "      <th>Diplôme Principal</th>\n",
       "      <th>Précision diplôme principal</th>\n",
       "      <th>Etablissement du diplôme principal</th>\n",
       "      <th>Ville établissement diplôme principal</th>\n",
       "      <th>Année diplôme</th>\n",
       "      <th>Niveau diplôme</th>\n",
       "      <th>Autre formation</th>\n",
       "      <th>...</th>\n",
       "      <th>A déjà eu un parrainage annulé ?</th>\n",
       "      <th>Temporairement indisponible</th>\n",
       "      <th>Suivi parrainage 1</th>\n",
       "      <th>Suivi parrainage 2</th>\n",
       "      <th>Suivi parrainage 3</th>\n",
       "      <th>Suivi Evènements</th>\n",
       "      <th>Programmes dédiés et reporting</th>\n",
       "      <th>Quel engagement souhaitez-vous  proposer à Frateli ?</th>\n",
       "      <th>Code filière</th>\n",
       "      <th>Disponible pour un parrainage supplémentaire</th>\n",
       "    </tr>\n",
       "  </thead>\n",
       "  <tbody>\n",
       "    <tr>\n",
       "      <th>0</th>\n",
       "      <td>5</td>\n",
       "      <td>2369.0</td>\n",
       "      <td>7</td>\n",
       "      <td>Université/Ecole - Lettres/langues/édition</td>\n",
       "      <td>Chef de projets Traduction</td>\n",
       "      <td>Université Paris 7 - Diderot</td>\n",
       "      <td>Paris</td>\n",
       "      <td>2011.0</td>\n",
       "      <td>Bac +5</td>\n",
       "      <td>NaN</td>\n",
       "      <td>...</td>\n",
       "      <td>Non</td>\n",
       "      <td>Non</td>\n",
       "      <td>07/03/2016 GD bons échanges avec Chaymae, fill...</td>\n",
       "      <td>NaN</td>\n",
       "      <td>NaN</td>\n",
       "      <td>NaN</td>\n",
       "      <td>Reporting Safran</td>\n",
       "      <td>parrain post-bac</td>\n",
       "      <td>Industrie santé</td>\n",
       "      <td>Non</td>\n",
       "    </tr>\n",
       "    <tr>\n",
       "      <th>1</th>\n",
       "      <td>8</td>\n",
       "      <td>202.0</td>\n",
       "      <td>11</td>\n",
       "      <td>Ecole d'ingénieur après bac+2 - logistique/man...</td>\n",
       "      <td>NaN</td>\n",
       "      <td>Institut National des Sciences Appliquées (INS...</td>\n",
       "      <td>Lyon</td>\n",
       "      <td>2011.0</td>\n",
       "      <td>Bac +5</td>\n",
       "      <td>Ecole de commerce - autre</td>\n",
       "      <td>...</td>\n",
       "      <td>Non</td>\n",
       "      <td>Non</td>\n",
       "      <td>NaN</td>\n",
       "      <td>NaN</td>\n",
       "      <td>NaN</td>\n",
       "      <td>NaN</td>\n",
       "      <td>Aucun</td>\n",
       "      <td>parrain post-bac</td>\n",
       "      <td>NaN</td>\n",
       "      <td>Non</td>\n",
       "    </tr>\n",
       "    <tr>\n",
       "      <th>2</th>\n",
       "      <td>11</td>\n",
       "      <td>335.0</td>\n",
       "      <td>14</td>\n",
       "      <td>Ecole d'ingénieur après bac+2 - finance/économie</td>\n",
       "      <td>X / Harvard</td>\n",
       "      <td>Ecole Polytechnique</td>\n",
       "      <td>PALAISEAU</td>\n",
       "      <td>NaN</td>\n",
       "      <td>Bac +5</td>\n",
       "      <td>Université  - finance/économie</td>\n",
       "      <td>...</td>\n",
       "      <td>Non</td>\n",
       "      <td>Non</td>\n",
       "      <td>06/09/2010 (mail) : Tjrs en Afrique du sud. Va...</td>\n",
       "      <td>NaN</td>\n",
       "      <td>NaN</td>\n",
       "      <td>NaN</td>\n",
       "      <td>Aucun</td>\n",
       "      <td>parrain post-bac</td>\n",
       "      <td>NaN</td>\n",
       "      <td>Non</td>\n",
       "    </tr>\n",
       "    <tr>\n",
       "      <th>3</th>\n",
       "      <td>12</td>\n",
       "      <td>1115.0</td>\n",
       "      <td>15</td>\n",
       "      <td>Ecole de commerce - autre</td>\n",
       "      <td>ESSCA - ESC post bac en 5 ans</td>\n",
       "      <td>Ecole Supérieure des Sciences Commerciales d'A...</td>\n",
       "      <td>Boulogne-Billancourt</td>\n",
       "      <td>NaN</td>\n",
       "      <td>Bac +5</td>\n",
       "      <td>NaN</td>\n",
       "      <td>...</td>\n",
       "      <td>Oui</td>\n",
       "      <td>Non</td>\n",
       "      <td>01/03/15 : mail De mon côté tout se passe très...</td>\n",
       "      <td>NaN</td>\n",
       "      <td>NaN</td>\n",
       "      <td>NaN</td>\n",
       "      <td>Aucun</td>\n",
       "      <td>parrain post-bac</td>\n",
       "      <td>Finance/Banque/Assurance,Communautés professio...</td>\n",
       "      <td>Non</td>\n",
       "    </tr>\n",
       "    <tr>\n",
       "      <th>4</th>\n",
       "      <td>13</td>\n",
       "      <td>1085.0</td>\n",
       "      <td>18</td>\n",
       "      <td>Ecole de commerce après bac+2 -achat/marketing...</td>\n",
       "      <td>NaN</td>\n",
       "      <td>France Business School</td>\n",
       "      <td>Amiens Campus</td>\n",
       "      <td>1994.0</td>\n",
       "      <td>Bac +5</td>\n",
       "      <td>NaN</td>\n",
       "      <td>...</td>\n",
       "      <td>Non</td>\n",
       "      <td>Oui</td>\n",
       "      <td>15/12/14 : mail sp : je le relance pour qu'il ...</td>\n",
       "      <td>NaN</td>\n",
       "      <td>NaN</td>\n",
       "      <td>NaN</td>\n",
       "      <td>Aucun</td>\n",
       "      <td>parrain post-bac</td>\n",
       "      <td>NaN</td>\n",
       "      <td>Non</td>\n",
       "    </tr>\n",
       "  </tbody>\n",
       "</table>\n",
       "<p>5 rows × 56 columns</p>\n",
       "</div>"
      ],
      "text/plain": [
       "   Identifiant parrain   Identifiant filleul  Identifiant parrainage  \\\n",
       "0                     5               2369.0                       7   \n",
       "1                     8                202.0                      11   \n",
       "2                    11                335.0                      14   \n",
       "3                    12               1115.0                      15   \n",
       "4                    13               1085.0                      18   \n",
       "\n",
       "                                   Diplôme Principal  \\\n",
       "0         Université/Ecole - Lettres/langues/édition   \n",
       "1  Ecole d'ingénieur après bac+2 - logistique/man...   \n",
       "2   Ecole d'ingénieur après bac+2 - finance/économie   \n",
       "3                          Ecole de commerce - autre   \n",
       "4  Ecole de commerce après bac+2 -achat/marketing...   \n",
       "\n",
       "     Précision diplôme principal  \\\n",
       "0     Chef de projets Traduction   \n",
       "1                            NaN   \n",
       "2                    X / Harvard   \n",
       "3  ESSCA - ESC post bac en 5 ans   \n",
       "4                            NaN   \n",
       "\n",
       "                  Etablissement du diplôme principal  \\\n",
       "0                       Université Paris 7 - Diderot   \n",
       "1  Institut National des Sciences Appliquées (INS...   \n",
       "2                               Ecole Polytechnique    \n",
       "3  Ecole Supérieure des Sciences Commerciales d'A...   \n",
       "4                             France Business School   \n",
       "\n",
       "  Ville établissement diplôme principal  Année diplôme Niveau diplôme  \\\n",
       "0                                 Paris         2011.0         Bac +5   \n",
       "1                                  Lyon         2011.0         Bac +5   \n",
       "2                             PALAISEAU            NaN         Bac +5   \n",
       "3                  Boulogne-Billancourt            NaN         Bac +5   \n",
       "4                         Amiens Campus         1994.0         Bac +5   \n",
       "\n",
       "                  Autre formation  \\\n",
       "0                             NaN   \n",
       "1       Ecole de commerce - autre   \n",
       "2  Université  - finance/économie   \n",
       "3                             NaN   \n",
       "4                             NaN   \n",
       "\n",
       "                      ...                       \\\n",
       "0                     ...                        \n",
       "1                     ...                        \n",
       "2                     ...                        \n",
       "3                     ...                        \n",
       "4                     ...                        \n",
       "\n",
       "  A déjà eu un parrainage annulé ? Temporairement indisponible  \\\n",
       "0                              Non                         Non   \n",
       "1                              Non                         Non   \n",
       "2                              Non                         Non   \n",
       "3                              Oui                         Non   \n",
       "4                              Non                         Oui   \n",
       "\n",
       "                                  Suivi parrainage 1 Suivi parrainage 2  \\\n",
       "0  07/03/2016 GD bons échanges avec Chaymae, fill...                NaN   \n",
       "1                                                NaN                NaN   \n",
       "2  06/09/2010 (mail) : Tjrs en Afrique du sud. Va...                NaN   \n",
       "3  01/03/15 : mail De mon côté tout se passe très...                NaN   \n",
       "4  15/12/14 : mail sp : je le relance pour qu'il ...                NaN   \n",
       "\n",
       "  Suivi parrainage 3 Suivi Evènements Programmes dédiés et reporting  \\\n",
       "0                NaN              NaN               Reporting Safran   \n",
       "1                NaN              NaN                          Aucun   \n",
       "2                NaN              NaN                          Aucun   \n",
       "3                NaN              NaN                          Aucun   \n",
       "4                NaN              NaN                          Aucun   \n",
       "\n",
       "  Quel engagement souhaitez-vous  proposer à Frateli ?  \\\n",
       "0                                   parrain post-bac     \n",
       "1                                   parrain post-bac     \n",
       "2                                   parrain post-bac     \n",
       "3                                   parrain post-bac     \n",
       "4                                   parrain post-bac     \n",
       "\n",
       "                                        Code filière  \\\n",
       "0                                    Industrie santé   \n",
       "1                                                NaN   \n",
       "2                                                NaN   \n",
       "3  Finance/Banque/Assurance,Communautés professio...   \n",
       "4                                                NaN   \n",
       "\n",
       "  Disponible pour un parrainage supplémentaire  \n",
       "0                                          Non  \n",
       "1                                          Non  \n",
       "2                                          Non  \n",
       "3                                          Non  \n",
       "4                                          Non  \n",
       "\n",
       "[5 rows x 56 columns]"
      ]
     },
     "execution_count": 280,
     "metadata": {},
     "output_type": "execute_result"
    }
   ],
   "source": [
    "parrains.head()"
   ]
  },
  {
   "cell_type": "code",
   "execution_count": 281,
   "metadata": {
    "collapsed": false
   },
   "outputs": [
    {
     "data": {
      "text/plain": [
       "(1705, 56)"
      ]
     },
     "execution_count": 281,
     "metadata": {},
     "output_type": "execute_result"
    }
   ],
   "source": [
    "parrains.shape"
   ]
  },
  {
   "cell_type": "markdown",
   "metadata": {},
   "source": [
    "## Merging parains / filleuls"
   ]
  },
  {
   "cell_type": "code",
   "execution_count": 285,
   "metadata": {
    "collapsed": false
   },
   "outputs": [],
   "source": [
    "data = pd.merge(filleuls, parrains, how='inner', on=\"Identifiant parrainage\", suffixes=('_f', '_p'))"
   ]
  },
  {
   "cell_type": "code",
   "execution_count": 283,
   "metadata": {
    "collapsed": false
   },
   "outputs": [
    {
     "data": {
      "text/plain": [
       "(1705, 56)"
      ]
     },
     "execution_count": 283,
     "metadata": {},
     "output_type": "execute_result"
    }
   ],
   "source": [
    "parrains.shape"
   ]
  },
  {
   "cell_type": "code",
   "execution_count": null,
   "metadata": {
    "collapsed": false
   },
   "outputs": [],
   "source": []
  },
  {
   "cell_type": "code",
   "execution_count": 286,
   "metadata": {
    "collapsed": false
   },
   "outputs": [
    {
     "data": {
      "text/plain": [
       "(962, 125)"
      ]
     },
     "execution_count": 286,
     "metadata": {},
     "output_type": "execute_result"
    }
   ],
   "source": [
    "data.shape"
   ]
  },
  {
   "cell_type": "code",
   "execution_count": 271,
   "metadata": {
    "collapsed": false
   },
   "outputs": [
    {
     "data": {
      "text/html": [
       "<div>\n",
       "<table border=\"1\" class=\"dataframe\">\n",
       "  <thead>\n",
       "    <tr style=\"text-align: right;\">\n",
       "      <th></th>\n",
       "      <th>Identifiant filleul_f</th>\n",
       "      <th>Identifiant parrain</th>\n",
       "      <th>Identifiant parrainage</th>\n",
       "      <th>Sexe</th>\n",
       "      <th>Formation actuelle</th>\n",
       "      <th>Sous-formation actuelle</th>\n",
       "      <th>Statut filleul</th>\n",
       "      <th>Code formation</th>\n",
       "      <th>Lycée du bac</th>\n",
       "      <th>Ville du lycée du bac</th>\n",
       "      <th>...</th>\n",
       "      <th>Programmes dédiés et reporting_p</th>\n",
       "      <th>Ville.1</th>\n",
       "      <th>Programmes dédiés et reporting.1</th>\n",
       "      <th>Date de création</th>\n",
       "      <th>Statut</th>\n",
       "      <th>Date de lancement parrainage</th>\n",
       "      <th>Date de fin</th>\n",
       "      <th>Motif Annulation_p</th>\n",
       "      <th>Unnamed: 12</th>\n",
       "      <th>Unnamed: 13</th>\n",
       "    </tr>\n",
       "  </thead>\n",
       "  <tbody>\n",
       "    <tr>\n",
       "      <th>0</th>\n",
       "      <td>4</td>\n",
       "      <td>1516.0</td>\n",
       "      <td>1735</td>\n",
       "      <td>F</td>\n",
       "      <td>CPGE Commerce</td>\n",
       "      <td>ECT ? 1ère année</td>\n",
       "      <td>Parrainé</td>\n",
       "      <td>3 : Commerce / Finance / Gestion</td>\n",
       "      <td>NC</td>\n",
       "      <td>NC</td>\n",
       "      <td>...</td>\n",
       "      <td>Aucun</td>\n",
       "      <td>Reims</td>\n",
       "      <td>1 Quizz</td>\n",
       "      <td>2014-11-14 12:06:54</td>\n",
       "      <td>LANCE</td>\n",
       "      <td>2014-11-18 14:51:06</td>\n",
       "      <td>NaN</td>\n",
       "      <td>NaN</td>\n",
       "      <td>NaN</td>\n",
       "      <td>NaN</td>\n",
       "    </tr>\n",
       "    <tr>\n",
       "      <th>1</th>\n",
       "      <td>5</td>\n",
       "      <td>674.0</td>\n",
       "      <td>772</td>\n",
       "      <td>H</td>\n",
       "      <td>Université - Sciences</td>\n",
       "      <td>Autre</td>\n",
       "      <td>Disponible</td>\n",
       "      <td>1 : Ingénieurs / Sciences dures</td>\n",
       "      <td>BUS Blaise Pascal</td>\n",
       "      <td>Reggio nell'Emilia</td>\n",
       "      <td>...</td>\n",
       "      <td>Aucun</td>\n",
       "      <td>MONTPELLIER</td>\n",
       "      <td>Aucun</td>\n",
       "      <td>2016-03-01 09:49:43</td>\n",
       "      <td>REFUSE</td>\n",
       "      <td>NaN</td>\n",
       "      <td>NaN</td>\n",
       "      <td>NaN</td>\n",
       "      <td>NaN</td>\n",
       "      <td>NaN</td>\n",
       "    </tr>\n",
       "    <tr>\n",
       "      <th>2</th>\n",
       "      <td>6</td>\n",
       "      <td>1967.0</td>\n",
       "      <td>2246</td>\n",
       "      <td>F</td>\n",
       "      <td>Université - Droit</td>\n",
       "      <td>L2 Droit/Sciences politiques</td>\n",
       "      <td>Parrainé</td>\n",
       "      <td>3 : Commerce / Finance / Gestion</td>\n",
       "      <td>NC</td>\n",
       "      <td>NC</td>\n",
       "      <td>...</td>\n",
       "      <td>Aucun</td>\n",
       "      <td>NICE</td>\n",
       "      <td>Aucun</td>\n",
       "      <td>2015-01-30 15:22:38</td>\n",
       "      <td>LANCE</td>\n",
       "      <td>2015-02-02 10:18:57</td>\n",
       "      <td>NaN</td>\n",
       "      <td>NaN</td>\n",
       "      <td>NaN</td>\n",
       "      <td>NaN</td>\n",
       "    </tr>\n",
       "    <tr>\n",
       "      <th>3</th>\n",
       "      <td>10</td>\n",
       "      <td>2049.0</td>\n",
       "      <td>2336</td>\n",
       "      <td>H</td>\n",
       "      <td>Ecole de commerce (après bac+2)</td>\n",
       "      <td>4ème année</td>\n",
       "      <td>Parrainé</td>\n",
       "      <td>3 : Commerce / Finance / Gestion</td>\n",
       "      <td>Evariste Galois</td>\n",
       "      <td>Beaumont sur Oise</td>\n",
       "      <td>...</td>\n",
       "      <td>Aucun</td>\n",
       "      <td>Beaumont sur Oise</td>\n",
       "      <td>Aucun</td>\n",
       "      <td>2012-03-05 12:06:19</td>\n",
       "      <td>LANCE</td>\n",
       "      <td>2012-03-05 12:06:19</td>\n",
       "      <td>NaN</td>\n",
       "      <td>NaN</td>\n",
       "      <td>NaN</td>\n",
       "      <td>NaN</td>\n",
       "    </tr>\n",
       "    <tr>\n",
       "      <th>4</th>\n",
       "      <td>11</td>\n",
       "      <td>764.0</td>\n",
       "      <td>871</td>\n",
       "      <td>H</td>\n",
       "      <td>Ecole de commerce (après bac+2)</td>\n",
       "      <td>Autre</td>\n",
       "      <td>Parrainé</td>\n",
       "      <td>3 : Commerce / Finance / Gestion</td>\n",
       "      <td>Lycée Fragonard</td>\n",
       "      <td>L'Isle-Adam</td>\n",
       "      <td>...</td>\n",
       "      <td>Aucun</td>\n",
       "      <td>Beaumont sur oise</td>\n",
       "      <td>Campus 2012 /Perfac 2012/2013</td>\n",
       "      <td>2014-02-10 11:19:18</td>\n",
       "      <td>ANNULE</td>\n",
       "      <td>2014-02-11 16:09:59</td>\n",
       "      <td>2015-02-24 11:08:36</td>\n",
       "      <td>manque de motivation parrain et filleul</td>\n",
       "      <td>NaN</td>\n",
       "      <td>NaN</td>\n",
       "    </tr>\n",
       "  </tbody>\n",
       "</table>\n",
       "<p>5 rows × 83 columns</p>\n",
       "</div>"
      ],
      "text/plain": [
       "   Identifiant filleul_f  Identifiant parrain  Identifiant parrainage Sexe  \\\n",
       "0                      4               1516.0                    1735    F   \n",
       "1                      5                674.0                     772    H   \n",
       "2                      6               1967.0                    2246    F   \n",
       "3                     10               2049.0                    2336    H   \n",
       "4                     11                764.0                     871    H   \n",
       "\n",
       "                Formation actuelle       Sous-formation actuelle  \\\n",
       "0                    CPGE Commerce              ECT ? 1ère année   \n",
       "1            Université - Sciences                         Autre   \n",
       "2               Université - Droit  L2 Droit/Sciences politiques   \n",
       "3  Ecole de commerce (après bac+2)                    4ème année   \n",
       "4  Ecole de commerce (après bac+2)                         Autre   \n",
       "\n",
       "  Statut filleul                    Code formation       Lycée du bac  \\\n",
       "0       Parrainé  3 : Commerce / Finance / Gestion                 NC   \n",
       "1     Disponible   1 : Ingénieurs / Sciences dures  BUS Blaise Pascal   \n",
       "2       Parrainé  3 : Commerce / Finance / Gestion                 NC   \n",
       "3       Parrainé  3 : Commerce / Finance / Gestion    Evariste Galois   \n",
       "4       Parrainé  3 : Commerce / Finance / Gestion    Lycée Fragonard   \n",
       "\n",
       "  Ville du lycée du bac     ...     Programmes dédiés et reporting_p  \\\n",
       "0                    NC     ...                               Aucun    \n",
       "1    Reggio nell'Emilia     ...                               Aucun    \n",
       "2                    NC     ...                               Aucun    \n",
       "3     Beaumont sur Oise     ...                               Aucun    \n",
       "4           L'Isle-Adam     ...                               Aucun    \n",
       "\n",
       "             Ville.1 Programmes dédiés et reporting.1     Date de création  \\\n",
       "0              Reims                         1 Quizz   2014-11-14 12:06:54   \n",
       "1        MONTPELLIER                           Aucun   2016-03-01 09:49:43   \n",
       "2               NICE                           Aucun   2015-01-30 15:22:38   \n",
       "3  Beaumont sur Oise                           Aucun   2012-03-05 12:06:19   \n",
       "4  Beaumont sur oise   Campus 2012 /Perfac 2012/2013   2014-02-10 11:19:18   \n",
       "\n",
       "   Statut Date de lancement parrainage          Date de fin  \\\n",
       "0   LANCE          2014-11-18 14:51:06                  NaN   \n",
       "1  REFUSE                          NaN                  NaN   \n",
       "2   LANCE          2015-02-02 10:18:57                  NaN   \n",
       "3   LANCE          2012-03-05 12:06:19                  NaN   \n",
       "4  ANNULE          2014-02-11 16:09:59  2015-02-24 11:08:36   \n",
       "\n",
       "                        Motif Annulation_p Unnamed: 12 Unnamed: 13  \n",
       "0                                      NaN         NaN         NaN  \n",
       "1                                      NaN         NaN         NaN  \n",
       "2                                      NaN         NaN         NaN  \n",
       "3                                      NaN         NaN         NaN  \n",
       "4  manque de motivation parrain et filleul         NaN         NaN  \n",
       "\n",
       "[5 rows x 83 columns]"
      ]
     },
     "execution_count": 271,
     "metadata": {},
     "output_type": "execute_result"
    }
   ],
   "source": [
    "data.head()"
   ]
  },
  {
   "cell_type": "code",
   "execution_count": null,
   "metadata": {
    "collapsed": true
   },
   "outputs": [],
   "source": []
  }
 ],
 "metadata": {
  "kernelspec": {
   "display_name": "Python 2",
   "language": "python",
   "name": "python2"
  },
  "language_info": {
   "codemirror_mode": {
    "name": "ipython",
    "version": 2
   },
   "file_extension": ".py",
   "mimetype": "text/x-python",
   "name": "python",
   "nbconvert_exporter": "python",
   "pygments_lexer": "ipython2",
   "version": "2.7.11"
  }
 },
 "nbformat": 4,
 "nbformat_minor": 0
}
