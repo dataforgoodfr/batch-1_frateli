{
 "cells": [
  {
   "cell_type": "code",
   "execution_count": 112,
   "metadata": {
    "collapsed": true
   },
   "outputs": [],
   "source": [
    "import pandas as pd\n",
    "import numpy as np\n",
    "from sklearn.feature_selection import RFECV\n",
    "from sklearn.linear_model import LogisticRegression\n",
    "import xgboost as xgb\n",
    "from mlxtend.classifier import EnsembleVoteClassifier\n",
    "from sklearn.cross_validation import cross_val_score\n",
    "\n",
    "from mlxtend.feature_selection import SequentialFeatureSelector as SFS\n",
    "from mlxtend.feature_selection import plot_sequential_feature_selection as plot_sfs\n",
    "import matplotlib.pyplot as plt\n",
    "%matplotlib inline"
   ]
  },
  {
   "cell_type": "markdown",
   "metadata": {},
   "source": [
    "### Read data"
   ]
  },
  {
   "cell_type": "code",
   "execution_count": 42,
   "metadata": {
    "collapsed": true
   },
   "outputs": [],
   "source": [
    "data = pd.read_csv(\"https://gist.githubusercontent.com/armgilles/53e510e179e98acaa11bc68d6b4ebbce/raw/ef2e3d835720aea6125227479fac500f982b04c8/my_data_test.csv\")"
   ]
  },
  {
   "cell_type": "code",
   "execution_count": 43,
   "metadata": {
    "collapsed": false
   },
   "outputs": [
    {
     "data": {
      "text/html": [
       "<div>\n",
       "<table border=\"1\" class=\"dataframe\">\n",
       "  <thead>\n",
       "    <tr style=\"text-align: right;\">\n",
       "      <th></th>\n",
       "      <th>col_0</th>\n",
       "      <th>col_1</th>\n",
       "      <th>col_2</th>\n",
       "      <th>col_3</th>\n",
       "      <th>col_4</th>\n",
       "      <th>col_5</th>\n",
       "      <th>col_6</th>\n",
       "      <th>col_7</th>\n",
       "      <th>col_8</th>\n",
       "      <th>col_9</th>\n",
       "      <th>...</th>\n",
       "      <th>col_27</th>\n",
       "      <th>col_28</th>\n",
       "      <th>col_29</th>\n",
       "      <th>col_30</th>\n",
       "      <th>col_31</th>\n",
       "      <th>col_32</th>\n",
       "      <th>col_33</th>\n",
       "      <th>col_34</th>\n",
       "      <th>col_35</th>\n",
       "      <th>target</th>\n",
       "    </tr>\n",
       "  </thead>\n",
       "  <tbody>\n",
       "    <tr>\n",
       "      <th>0</th>\n",
       "      <td>1</td>\n",
       "      <td>-0.557099</td>\n",
       "      <td>-1.415828</td>\n",
       "      <td>0</td>\n",
       "      <td>1</td>\n",
       "      <td>0</td>\n",
       "      <td>0</td>\n",
       "      <td>0</td>\n",
       "      <td>0</td>\n",
       "      <td>-1.091727</td>\n",
       "      <td>...</td>\n",
       "      <td>0.0</td>\n",
       "      <td>1.0</td>\n",
       "      <td>0.0</td>\n",
       "      <td>0.0</td>\n",
       "      <td>0.0</td>\n",
       "      <td>0.0</td>\n",
       "      <td>0.0</td>\n",
       "      <td>0.0</td>\n",
       "      <td>0.0</td>\n",
       "      <td>1.0</td>\n",
       "    </tr>\n",
       "    <tr>\n",
       "      <th>1</th>\n",
       "      <td>1</td>\n",
       "      <td>0.794916</td>\n",
       "      <td>-1.735269</td>\n",
       "      <td>1</td>\n",
       "      <td>1</td>\n",
       "      <td>1</td>\n",
       "      <td>0</td>\n",
       "      <td>1</td>\n",
       "      <td>1</td>\n",
       "      <td>1.295000</td>\n",
       "      <td>...</td>\n",
       "      <td>0.0</td>\n",
       "      <td>0.0</td>\n",
       "      <td>0.0</td>\n",
       "      <td>0.0</td>\n",
       "      <td>0.0</td>\n",
       "      <td>1.0</td>\n",
       "      <td>0.0</td>\n",
       "      <td>0.0</td>\n",
       "      <td>0.0</td>\n",
       "      <td>1.0</td>\n",
       "    </tr>\n",
       "    <tr>\n",
       "      <th>2</th>\n",
       "      <td>0</td>\n",
       "      <td>0.254110</td>\n",
       "      <td>-0.457507</td>\n",
       "      <td>1</td>\n",
       "      <td>1</td>\n",
       "      <td>0</td>\n",
       "      <td>0</td>\n",
       "      <td>0</td>\n",
       "      <td>1</td>\n",
       "      <td>1.295000</td>\n",
       "      <td>...</td>\n",
       "      <td>0.0</td>\n",
       "      <td>0.0</td>\n",
       "      <td>0.0</td>\n",
       "      <td>0.0</td>\n",
       "      <td>1.0</td>\n",
       "      <td>0.0</td>\n",
       "      <td>0.0</td>\n",
       "      <td>0.0</td>\n",
       "      <td>0.0</td>\n",
       "      <td>1.0</td>\n",
       "    </tr>\n",
       "    <tr>\n",
       "      <th>3</th>\n",
       "      <td>1</td>\n",
       "      <td>-0.827502</td>\n",
       "      <td>-0.138066</td>\n",
       "      <td>1</td>\n",
       "      <td>1</td>\n",
       "      <td>0</td>\n",
       "      <td>0</td>\n",
       "      <td>0</td>\n",
       "      <td>0</td>\n",
       "      <td>-1.688408</td>\n",
       "      <td>...</td>\n",
       "      <td>0.0</td>\n",
       "      <td>1.0</td>\n",
       "      <td>0.0</td>\n",
       "      <td>0.0</td>\n",
       "      <td>0.0</td>\n",
       "      <td>0.0</td>\n",
       "      <td>0.0</td>\n",
       "      <td>0.0</td>\n",
       "      <td>0.0</td>\n",
       "      <td>1.0</td>\n",
       "    </tr>\n",
       "    <tr>\n",
       "      <th>4</th>\n",
       "      <td>1</td>\n",
       "      <td>-0.016293</td>\n",
       "      <td>0.500815</td>\n",
       "      <td>1</td>\n",
       "      <td>1</td>\n",
       "      <td>0</td>\n",
       "      <td>1</td>\n",
       "      <td>1</td>\n",
       "      <td>0</td>\n",
       "      <td>0.698318</td>\n",
       "      <td>...</td>\n",
       "      <td>0.0</td>\n",
       "      <td>0.0</td>\n",
       "      <td>0.0</td>\n",
       "      <td>0.0</td>\n",
       "      <td>1.0</td>\n",
       "      <td>0.0</td>\n",
       "      <td>0.0</td>\n",
       "      <td>0.0</td>\n",
       "      <td>0.0</td>\n",
       "      <td>1.0</td>\n",
       "    </tr>\n",
       "  </tbody>\n",
       "</table>\n",
       "<p>5 rows × 37 columns</p>\n",
       "</div>"
      ],
      "text/plain": [
       "   col_0     col_1     col_2  col_3  col_4  col_5  col_6  col_7  col_8  \\\n",
       "0      1 -0.557099 -1.415828      0      1      0      0      0      0   \n",
       "1      1  0.794916 -1.735269      1      1      1      0      1      1   \n",
       "2      0  0.254110 -0.457507      1      1      0      0      0      1   \n",
       "3      1 -0.827502 -0.138066      1      1      0      0      0      0   \n",
       "4      1 -0.016293  0.500815      1      1      0      1      1      0   \n",
       "\n",
       "      col_9   ...    col_27  col_28  col_29  col_30  col_31  col_32  col_33  \\\n",
       "0 -1.091727   ...       0.0     1.0     0.0     0.0     0.0     0.0     0.0   \n",
       "1  1.295000   ...       0.0     0.0     0.0     0.0     0.0     1.0     0.0   \n",
       "2  1.295000   ...       0.0     0.0     0.0     0.0     1.0     0.0     0.0   \n",
       "3 -1.688408   ...       0.0     1.0     0.0     0.0     0.0     0.0     0.0   \n",
       "4  0.698318   ...       0.0     0.0     0.0     0.0     1.0     0.0     0.0   \n",
       "\n",
       "   col_34  col_35  target  \n",
       "0     0.0     0.0     1.0  \n",
       "1     0.0     0.0     1.0  \n",
       "2     0.0     0.0     1.0  \n",
       "3     0.0     0.0     1.0  \n",
       "4     0.0     0.0     1.0  \n",
       "\n",
       "[5 rows x 37 columns]"
      ]
     },
     "execution_count": 43,
     "metadata": {},
     "output_type": "execute_result"
    }
   ],
   "source": [
    "data.head()"
   ]
  },
  {
   "cell_type": "code",
   "execution_count": 44,
   "metadata": {
    "collapsed": false
   },
   "outputs": [
    {
     "data": {
      "text/plain": [
       "(863, 37)"
      ]
     },
     "execution_count": 44,
     "metadata": {},
     "output_type": "execute_result"
    }
   ],
   "source": [
    "data.shape"
   ]
  },
  {
   "cell_type": "code",
   "execution_count": 45,
   "metadata": {
    "collapsed": true
   },
   "outputs": [],
   "source": [
    "y = data.target"
   ]
  },
  {
   "cell_type": "code",
   "execution_count": 46,
   "metadata": {
    "collapsed": false
   },
   "outputs": [],
   "source": [
    "data = data.drop('target', axis=1)"
   ]
  },
  {
   "cell_type": "code",
   "execution_count": 47,
   "metadata": {
    "collapsed": false
   },
   "outputs": [
    {
     "data": {
      "text/plain": [
       "1.0    0.877173\n",
       "0.0    0.122827\n",
       "Name: target, dtype: float64"
      ]
     },
     "execution_count": 47,
     "metadata": {},
     "output_type": "execute_result"
    }
   ],
   "source": [
    "y.value_counts(normalize=True)"
   ]
  },
  {
   "cell_type": "markdown",
   "metadata": {},
   "source": [
    "### Serious business"
   ]
  },
  {
   "cell_type": "code",
   "execution_count": 14,
   "metadata": {
    "collapsed": false
   },
   "outputs": [
    {
     "name": "stdout",
     "output_type": "stream",
     "text": [
      "roc_auc: 0.6755 (+/- 0.05) [Logistic Newton]\n",
      "roc_auc: 0.6304 (+/- 0.04) [Xgb1]\n",
      "roc_auc: 0.6239 (+/- 0.04) [Xgb2]\n",
      "roc_auc: 0.6751 (+/- 0.05) [Logistic lbfgs]\n",
      "roc_auc: 0.6838 (+/- 0.04) [Ensemble]\n"
     ]
    }
   ],
   "source": [
    "clf1 = LogisticRegression(class_weight='balanced', solver='newton-cg', C=100.0, random_state=17)\n",
    "clf2 = xgb.XGBClassifier(n_estimators=5, learning_rate=0.1, max_depth=8, seed=17)\n",
    "clf3 = xgb.XGBClassifier(n_estimators=7,learning_rate=0.05, max_depth=6, seed=17)\n",
    "clf4 = LogisticRegression(class_weight='balanced', solver='lbfgs', C=100.0, random_state=17)\n",
    "\n",
    "eclf = EnsembleVoteClassifier(clfs=[clf1, clf2, clf3, clf4], voting='soft', weights=[1, 4, 4, 1])\n",
    "\n",
    "for clf, label in zip([clf1, clf2, clf3,clf4, eclf], ['Logistic Newton', 'Xgb1', \n",
    "                      'Xgb2', 'Logistic lbfgs', 'Ensemble']):\n",
    "\n",
    "    scores = cross_val_score(clf, data, y, cv=5, scoring='roc_auc')\n",
    "    print(\"roc_auc: %0.4f (+/- %0.2f) [%s]\" % (scores.mean(), scores.std(), label))"
   ]
  },
  {
   "cell_type": "markdown",
   "metadata": {},
   "source": [
    "### Features selection on  (Logistic Newton)"
   ]
  },
  {
   "cell_type": "code",
   "execution_count": 18,
   "metadata": {
    "collapsed": false
   },
   "outputs": [
    {
     "name": "stderr",
     "output_type": "stream",
     "text": [
      "Features: 25/25"
     ]
    }
   ],
   "source": [
    "sfs1 = SFS(clf1, \n",
    "           k_features=25, \n",
    "           forward=True, \n",
    "           floating=False, \n",
    "           scoring='roc_auc',\n",
    "           cv=5)\n",
    "sfs1 = sfs1.fit(data.values, y.values)"
   ]
  },
  {
   "cell_type": "code",
   "execution_count": 20,
   "metadata": {
    "collapsed": false
   },
   "outputs": [
    {
     "data": {
      "image/png": "[encoded data removed]",
      "text/plain": [
       "<matplotlib.figure.Figure at 0x115b13990>"
      ]
     },
     "metadata": {},
     "output_type": "display_data"
    }
   ],
   "source": [
    "fig1 = plot_sfs(sfs1.get_metric_dict(), kind='std_dev')"
   ]
  },
  {
   "cell_type": "code",
   "execution_count": 22,
   "metadata": {
    "collapsed": false
   },
   "outputs": [
    {
     "data": {
      "text/html": [
       "<div>\n",
       "<table border=\"1\" class=\"dataframe\">\n",
       "  <thead>\n",
       "    <tr style=\"text-align: right;\">\n",
       "      <th></th>\n",
       "      <th>avg_score</th>\n",
       "      <th>ci_bound</th>\n",
       "      <th>cv_scores</th>\n",
       "      <th>feature_idx</th>\n",
       "      <th>std_dev</th>\n",
       "      <th>std_err</th>\n",
       "    </tr>\n",
       "  </thead>\n",
       "  <tbody>\n",
       "    <tr>\n",
       "      <th>10</th>\n",
       "      <td>0.7161</td>\n",
       "      <td>0.0535366</td>\n",
       "      <td>[0.689443779904, 0.807644110276, 0.66146326080...</td>\n",
       "      <td>(1, 34, 4, 5, 9, 15, 21, 22, 23, 27)</td>\n",
       "      <td>0.0531368</td>\n",
       "      <td>0.0265684</td>\n",
       "    </tr>\n",
       "    <tr>\n",
       "      <th>9</th>\n",
       "      <td>0.7161</td>\n",
       "      <td>0.0535366</td>\n",
       "      <td>[0.689443779904, 0.807644110276, 0.66146326080...</td>\n",
       "      <td>(1, 34, 4, 5, 9, 15, 21, 23, 27)</td>\n",
       "      <td>0.0531368</td>\n",
       "      <td>0.0265684</td>\n",
       "    </tr>\n",
       "    <tr>\n",
       "      <th>11</th>\n",
       "      <td>0.716091</td>\n",
       "      <td>0.0531213</td>\n",
       "      <td>[0.690340909091, 0.806704260652, 0.66146326080...</td>\n",
       "      <td>(1, 34, 35, 4, 5, 9, 15, 21, 22, 23, 27)</td>\n",
       "      <td>0.0527245</td>\n",
       "      <td>0.0263623</td>\n",
       "    </tr>\n",
       "    <tr>\n",
       "      <th>8</th>\n",
       "      <td>0.71601</td>\n",
       "      <td>0.0554486</td>\n",
       "      <td>[0.691238038278, 0.812969924812, 0.66114790287...</td>\n",
       "      <td>(1, 34, 4, 5, 23, 9, 27, 21)</td>\n",
       "      <td>0.0550345</td>\n",
       "      <td>0.0275172</td>\n",
       "    </tr>\n",
       "    <tr>\n",
       "      <th>12</th>\n",
       "      <td>0.715621</td>\n",
       "      <td>0.0560501</td>\n",
       "      <td>[0.683612440191, 0.812343358396, 0.66099022390...</td>\n",
       "      <td>(1, 34, 35, 4, 5, 9, 11, 15, 21, 22, 23, 27)</td>\n",
       "      <td>0.0556315</td>\n",
       "      <td>0.0278158</td>\n",
       "    </tr>\n",
       "  </tbody>\n",
       "</table>\n",
       "</div>"
      ],
      "text/plain": [
       "   avg_score   ci_bound                                          cv_scores  \\\n",
       "10    0.7161  0.0535366  [0.689443779904, 0.807644110276, 0.66146326080...   \n",
       "9     0.7161  0.0535366  [0.689443779904, 0.807644110276, 0.66146326080...   \n",
       "11  0.716091  0.0531213  [0.690340909091, 0.806704260652, 0.66146326080...   \n",
       "8    0.71601  0.0554486  [0.691238038278, 0.812969924812, 0.66114790287...   \n",
       "12  0.715621  0.0560501  [0.683612440191, 0.812343358396, 0.66099022390...   \n",
       "\n",
       "                                     feature_idx    std_dev    std_err  \n",
       "10          (1, 34, 4, 5, 9, 15, 21, 22, 23, 27)  0.0531368  0.0265684  \n",
       "9               (1, 34, 4, 5, 9, 15, 21, 23, 27)  0.0531368  0.0265684  \n",
       "11      (1, 34, 35, 4, 5, 9, 15, 21, 22, 23, 27)  0.0527245  0.0263623  \n",
       "8                   (1, 34, 4, 5, 23, 9, 27, 21)  0.0550345  0.0275172  \n",
       "12  (1, 34, 35, 4, 5, 9, 11, 15, 21, 22, 23, 27)  0.0556315  0.0278158  "
      ]
     },
     "execution_count": 22,
     "metadata": {},
     "output_type": "execute_result"
    }
   ],
   "source": [
    "result_clf1 = pd.DataFrame.from_dict(sfs1.get_metric_dict(confidence_interval=0.90)).T\n",
    "result_clf1.sort_values('avg_score', ascending=0, inplace=True)\n",
    "result_clf1.head()"
   ]
  },
  {
   "cell_type": "markdown",
   "metadata": {},
   "source": [
    "We want the best avg_score so we take the first row of feature_idx"
   ]
  },
  {
   "cell_type": "code",
   "execution_count": 23,
   "metadata": {
    "collapsed": true
   },
   "outputs": [],
   "source": [
    "best_features_clf1 = result_clf1.feature_idx.head(1).tolist()"
   ]
  },
  {
   "cell_type": "code",
   "execution_count": 24,
   "metadata": {
    "collapsed": false
   },
   "outputs": [
    {
     "data": {
      "text/plain": [
       "Index([u'col_1', u'col_34', u'col_4', u'col_5', u'col_9', u'col_15', u'col_21',\n",
       "       u'col_22', u'col_23', u'col_27'],\n",
       "      dtype='object')"
      ]
     },
     "execution_count": 24,
     "metadata": {},
     "output_type": "execute_result"
    }
   ],
   "source": [
    "select_features_clf1 = data.columns[best_features_clf1]\n",
    "select_features_clf1"
   ]
  },
  {
   "cell_type": "markdown",
   "metadata": {},
   "source": [
    "Let's do a CV just to be sure :"
   ]
  },
  {
   "cell_type": "code",
   "execution_count": 29,
   "metadata": {
    "collapsed": false
   },
   "outputs": [
    {
     "data": {
      "text/plain": [
       "0.7161000125992284"
      ]
     },
     "execution_count": 29,
     "metadata": {},
     "output_type": "execute_result"
    }
   ],
   "source": [
    "cross_val_score(clf1, data[select_features_clf1], y, cv=5, scoring='roc_auc').mean()"
   ]
  },
  {
   "cell_type": "markdown",
   "metadata": {},
   "source": [
    "Ok, we have the same result as our best result_clf1 ! :)"
   ]
  },
  {
   "cell_type": "markdown",
   "metadata": {},
   "source": [
    "### Let's do again our EnsembleVoteClassifier with our new features selections"
   ]
  },
  {
   "cell_type": "code",
   "execution_count": 31,
   "metadata": {
    "collapsed": false
   },
   "outputs": [
    {
     "name": "stdout",
     "output_type": "stream",
     "text": [
      "roc_auc: 0.7161 (+/- 0.05) [Logistic Newton]\n",
      "roc_auc: 0.6790 (+/- 0.04) [Xgb1]\n",
      "roc_auc: 0.6735 (+/- 0.04) [Xgb2]\n",
      "roc_auc: 0.7161 (+/- 0.05) [Logistic lbfgs]\n",
      "roc_auc: 0.7218 (+/- 0.05) [Ensemble]\n"
     ]
    }
   ],
   "source": [
    "for clf, label in zip([clf1, clf2, clf3,clf4, eclf], ['Logistic Newton', 'Xgb1', \n",
    "                      'Xgb2', 'Logistic lbfgs', 'Ensemble']):\n",
    "\n",
    "    scores = cross_val_score(clf, data[select_features_clf1], y, cv=5, scoring='roc_auc')\n",
    "    print(\"roc_auc: %0.4f (+/- %0.2f) [%s]\" % (scores.mean(), scores.std(), label))"
   ]
  },
  {
   "cell_type": "markdown",
   "metadata": {},
   "source": [
    "We now have better result for our Ensemble (0.7218 / 0.6838)"
   ]
  },
  {
   "cell_type": "markdown",
   "metadata": {},
   "source": [
    "## Let's try to have the best features selection for our xgb2 (lowest AUC)"
   ]
  },
  {
   "cell_type": "code",
   "execution_count": 32,
   "metadata": {
    "collapsed": false
   },
   "outputs": [
    {
     "name": "stderr",
     "output_type": "stream",
     "text": [
      "Features: 25/25"
     ]
    }
   ],
   "source": [
    "sfs2 = SFS(clf3, \n",
    "           k_features=25, \n",
    "           forward=True, \n",
    "           floating=False, \n",
    "           scoring='roc_auc',\n",
    "           cv=5)\n",
    "sfs2 = sfs2.fit(data.values, y.values)"
   ]
  },
  {
   "cell_type": "code",
   "execution_count": 33,
   "metadata": {
    "collapsed": false
   },
   "outputs": [
    {
     "data": {
      "image/png": "[encoded data removed]",
      "text/plain": [
       "<matplotlib.figure.Figure at 0x1167ca390>"
      ]
     },
     "metadata": {},
     "output_type": "display_data"
    }
   ],
   "source": [
    "fig2 = plot_sfs(sfs2.get_metric_dict(), kind='std_dev')"
   ]
  },
  {
   "cell_type": "code",
   "execution_count": 34,
   "metadata": {
    "collapsed": false
   },
   "outputs": [
    {
     "data": {
      "text/html": [
       "<div>\n",
       "<table border=\"1\" class=\"dataframe\">\n",
       "  <thead>\n",
       "    <tr style=\"text-align: right;\">\n",
       "      <th></th>\n",
       "      <th>avg_score</th>\n",
       "      <th>ci_bound</th>\n",
       "      <th>cv_scores</th>\n",
       "      <th>feature_idx</th>\n",
       "      <th>std_dev</th>\n",
       "      <th>std_err</th>\n",
       "    </tr>\n",
       "  </thead>\n",
       "  <tbody>\n",
       "    <tr>\n",
       "      <th>13</th>\n",
       "      <td>0.699897</td>\n",
       "      <td>0.0482455</td>\n",
       "      <td>[0.753289473684, 0.753289473684, 0.65184484389...</td>\n",
       "      <td>(1, 34, 35, 5, 13, 15, 19, 22, 24, 27, 29, 30,...</td>\n",
       "      <td>0.0478852</td>\n",
       "      <td>0.0239426</td>\n",
       "    </tr>\n",
       "    <tr>\n",
       "      <th>14</th>\n",
       "      <td>0.699845</td>\n",
       "      <td>0.0485822</td>\n",
       "      <td>[0.752093301435, 0.754542606516, 0.65263323872...</td>\n",
       "      <td>(1, 34, 35, 5, 13, 15, 19, 22, 24, 25, 27, 29,...</td>\n",
       "      <td>0.0482194</td>\n",
       "      <td>0.0241097</td>\n",
       "    </tr>\n",
       "    <tr>\n",
       "      <th>9</th>\n",
       "      <td>0.699766</td>\n",
       "      <td>0.0460857</td>\n",
       "      <td>[0.748056220096, 0.752192982456, 0.65373699148...</td>\n",
       "      <td>(1, 13, 15, 19, 22, 24, 27, 29, 30)</td>\n",
       "      <td>0.0457416</td>\n",
       "      <td>0.0228708</td>\n",
       "    </tr>\n",
       "    <tr>\n",
       "      <th>11</th>\n",
       "      <td>0.699766</td>\n",
       "      <td>0.0460857</td>\n",
       "      <td>[0.748056220096, 0.752192982456, 0.65373699148...</td>\n",
       "      <td>(1, 34, 35, 13, 15, 19, 22, 24, 27, 29, 30)</td>\n",
       "      <td>0.0457416</td>\n",
       "      <td>0.0228708</td>\n",
       "    </tr>\n",
       "    <tr>\n",
       "      <th>10</th>\n",
       "      <td>0.699766</td>\n",
       "      <td>0.0460857</td>\n",
       "      <td>[0.748056220096, 0.752192982456, 0.65373699148...</td>\n",
       "      <td>(1, 34, 13, 15, 19, 22, 24, 27, 29, 30)</td>\n",
       "      <td>0.0457416</td>\n",
       "      <td>0.0228708</td>\n",
       "    </tr>\n",
       "  </tbody>\n",
       "</table>\n",
       "</div>"
      ],
      "text/plain": [
       "   avg_score   ci_bound                                          cv_scores  \\\n",
       "13  0.699897  0.0482455  [0.753289473684, 0.753289473684, 0.65184484389...   \n",
       "14  0.699845  0.0485822  [0.752093301435, 0.754542606516, 0.65263323872...   \n",
       "9   0.699766  0.0460857  [0.748056220096, 0.752192982456, 0.65373699148...   \n",
       "11  0.699766  0.0460857  [0.748056220096, 0.752192982456, 0.65373699148...   \n",
       "10  0.699766  0.0460857  [0.748056220096, 0.752192982456, 0.65373699148...   \n",
       "\n",
       "                                          feature_idx    std_dev    std_err  \n",
       "13  (1, 34, 35, 5, 13, 15, 19, 22, 24, 27, 29, 30,...  0.0478852  0.0239426  \n",
       "14  (1, 34, 35, 5, 13, 15, 19, 22, 24, 25, 27, 29,...  0.0482194  0.0241097  \n",
       "9                 (1, 13, 15, 19, 22, 24, 27, 29, 30)  0.0457416  0.0228708  \n",
       "11        (1, 34, 35, 13, 15, 19, 22, 24, 27, 29, 30)  0.0457416  0.0228708  \n",
       "10            (1, 34, 13, 15, 19, 22, 24, 27, 29, 30)  0.0457416  0.0228708  "
      ]
     },
     "execution_count": 34,
     "metadata": {},
     "output_type": "execute_result"
    }
   ],
   "source": [
    "result_clf2 = pd.DataFrame.from_dict(sfs2.get_metric_dict(confidence_interval=0.90)).T\n",
    "result_clf2.sort_values('avg_score', ascending=0, inplace=True)\n",
    "result_clf2.head()"
   ]
  },
  {
   "cell_type": "markdown",
   "metadata": {},
   "source": [
    "So we can improve our AUC score to 0.6998 (standart was 0.6239 and 1st features selection was 0.6735)"
   ]
  },
  {
   "cell_type": "code",
   "execution_count": 35,
   "metadata": {
    "collapsed": true
   },
   "outputs": [],
   "source": [
    "best_features_clf2 = result_clf2.feature_idx.head(1).tolist()"
   ]
  },
  {
   "cell_type": "code",
   "execution_count": 36,
   "metadata": {
    "collapsed": false
   },
   "outputs": [
    {
     "data": {
      "text/plain": [
       "Index([u'col_1', u'col_34', u'col_35', u'col_5', u'col_13', u'col_15',\n",
       "       u'col_19', u'col_22', u'col_24', u'col_27', u'col_29', u'col_30',\n",
       "       u'col_31'],\n",
       "      dtype='object')"
      ]
     },
     "execution_count": 36,
     "metadata": {},
     "output_type": "execute_result"
    }
   ],
   "source": [
    "select_features_clf2 = data.columns[best_features_clf2]\n",
    "select_features_clf2"
   ]
  },
  {
   "cell_type": "markdown",
   "metadata": {},
   "source": [
    "As we can see, select_features_clf1 & select_features_clf2 are not the same"
   ]
  },
  {
   "cell_type": "code",
   "execution_count": 38,
   "metadata": {
    "collapsed": false
   },
   "outputs": [
    {
     "data": {
      "text/plain": [
       "0.6998966787830504"
      ]
     },
     "execution_count": 38,
     "metadata": {},
     "output_type": "execute_result"
    }
   ],
   "source": [
    "cross_val_score(clf3, data[select_features_clf2], y, cv=5, scoring='roc_auc').mean()"
   ]
  },
  {
   "cell_type": "markdown",
   "metadata": {},
   "source": [
    "### Let's do again (3) our EnsembleVoteClassifier with our new features selections (clf3)"
   ]
  },
  {
   "cell_type": "code",
   "execution_count": 40,
   "metadata": {
    "collapsed": false
   },
   "outputs": [
    {
     "name": "stdout",
     "output_type": "stream",
     "text": [
      "roc_auc: 0.6823 (+/- 0.06) [Logistic Newton]\n",
      "roc_auc: 0.7061 (+/- 0.05) [Xgb1]\n",
      "roc_auc: 0.6999 (+/- 0.05) [Xgb2]\n",
      "roc_auc: 0.6823 (+/- 0.06) [Logistic lbfgs]\n",
      "roc_auc: 0.7104 (+/- 0.06) [Ensemble]\n"
     ]
    }
   ],
   "source": [
    "for clf, label in zip([clf1, clf2, clf3,clf4, eclf], ['Logistic Newton', 'Xgb1', \n",
    "                      'Xgb2', 'Logistic lbfgs', 'Ensemble']):\n",
    "\n",
    "    scores = cross_val_score(clf, data[select_features_clf2], y, cv=5, scoring='roc_auc')\n",
    "    print(\"roc_auc: %0.4f (+/- %0.2f) [%s]\" % (scores.mean(), scores.std(), label))"
   ]
  },
  {
   "cell_type": "markdown",
   "metadata": {},
   "source": [
    "## Results :\n",
    "    - Our Ensemble (features selection clf3: 0.7104) is lower than our Ensemble (features selection clf1: 0.7218)\n",
    "    - But our last Xgb2 is is higher from our first features selection (0.6999 vs 0.6735)\n",
    "\n",
    "## Questions :\n",
    "    - Is could nice to use for each Estimators (clf) in our Ensemble (EnsembleVoteClassifier) the best features selection to perform a better score\n",
    "    - Do we need to tune (gridsearchCV) our clf on all features or on features selections ?\n",
    "    - Do we need to tune our Ensemble (Weight) on all features or on features selections (on ensemble) ?\n",
    "    "
   ]
  },
  {
   "cell_type": "markdown",
   "metadata": {},
   "source": [
    "___"
   ]
  },
  {
   "cell_type": "markdown",
   "metadata": {},
   "source": [
    "## Using Pipieline to do it "
   ]
  },
  {
   "cell_type": "code",
   "execution_count": 176,
   "metadata": {
    "collapsed": true
   },
   "outputs": [],
   "source": [
    "from sklearn.pipeline import Pipeline"
   ]
  },
  {
   "cell_type": "code",
   "execution_count": 178,
   "metadata": {
    "collapsed": false
   },
   "outputs": [
    {
     "name": "stderr",
     "output_type": "stream",
     "text": [
      "Features: 25/25"
     ]
    }
   ],
   "source": [
    "# CLF1 : Logistic Newton\n",
    "sfs1 = SFS(clf1, \n",
    "           k_features=25, \n",
    "           forward=True, \n",
    "           floating=False, \n",
    "           scoring='roc_auc',\n",
    "           cv=5)\n",
    "#sfs1 = sfs1.fit(data.values, y.values)\n",
    "\n",
    "clf1_pipe = Pipeline([('sfs1', sfs1),\n",
    "                      ('Logistic Newton', clf1)])\n",
    "\n",
    "# CLF2 : Xgb1\n",
    "sfs2 = SFS(clf2, \n",
    "           k_features=25, \n",
    "           forward=True, \n",
    "           floating=False, \n",
    "           scoring='roc_auc',\n",
    "           cv=5)\n",
    "#sfs2 = sfs2.fit(data.values, y.values)\n",
    "\n",
    "clf2_pipe = Pipeline([('sfs2', sfs2),\n",
    "                      ('Xgb1', clf2)])\n",
    "\n",
    "# CLF3 : Xgb2\n",
    "sfs3 = SFS(clf3, \n",
    "           k_features=25, \n",
    "           forward=True, \n",
    "           floating=False, \n",
    "           scoring='roc_auc',\n",
    "           cv=5)\n",
    "sfs3 = sfs3.fit(data.values, y.values)\n",
    "\n",
    "#clf3_pipe = Pipeline([('sfs3', sfs3),\n",
    "                      ('Xgb2', clf3)])\n",
    "\n",
    "# CLF4 : Logistic lbfgs\n",
    "sfs4 = SFS(clf4, \n",
    "           k_features=25, \n",
    "           forward=True, \n",
    "           floating=False, \n",
    "           scoring='roc_auc',\n",
    "           cv=5)\n",
    "#sfs4 = sfs4.fit(data.values, y.values)\n",
    "\n",
    "clf4_pipe = Pipeline([('sfs4', sfs4),\n",
    "                      ('Logistic lbfgs', clf4)])\n"
   ]
  },
  {
   "cell_type": "code",
   "execution_count": 337,
   "metadata": {
    "collapsed": false
   },
   "outputs": [],
   "source": [
    "# Ensemble\n",
    "eclf = EnsembleVoteClassifier(clfs=[clf1_pipe, clf2_pipe, clf3_pipe, clf4_pipe],\n",
    "                              voting='soft')"
   ]
  },
  {
   "cell_type": "code",
   "execution_count": 281,
   "metadata": {
    "collapsed": false
   },
   "outputs": [
    {
     "name": "stderr",
     "output_type": "stream",
     "text": [
      "Features: 25/25"
     ]
    },
    {
     "name": "stdout",
     "output_type": "stream",
     "text": [
      "roc_auc: 0.6544 (+/- 0.07) [Logistic Newton]\n",
      "roc_auc: 0.6620 (+/- 0.05) [Xgb1]"
     ]
    },
    {
     "name": "stderr",
     "output_type": "stream",
     "text": [
      "Features: 25/25"
     ]
    },
    {
     "name": "stdout",
     "output_type": "stream",
     "text": [
      "\n",
      "roc_auc: 0.6575 (+/- 0.04) [Xgb2]"
     ]
    },
    {
     "name": "stderr",
     "output_type": "stream",
     "text": [
      "Features: 25/25"
     ]
    },
    {
     "name": "stdout",
     "output_type": "stream",
     "text": [
      "\n",
      "roc_auc: 0.6542 (+/- 0.07) [Logistic lbfgs]"
     ]
    },
    {
     "name": "stderr",
     "output_type": "stream",
     "text": [
      "Features: 25/25"
     ]
    },
    {
     "name": "stdout",
     "output_type": "stream",
     "text": [
      "\n",
      "roc_auc: 0.6687 (+/- 0.07) [Ensemble]\n"
     ]
    }
   ],
   "source": [
    "for clf, label in zip([clf1_pipe, clf2_pipe, clf3_pipe, clf4_pipe, eclf], \n",
    "                      ['Logistic Newton', 'Xgb1', 'Xgb2', 'Logistic lbfgs', 'Ensemble']):\n",
    "\n",
    "    scores = cross_val_score(clf, data.values, y.values, cv=5, scoring='roc_auc')\n",
    "    print(\"roc_auc: %0.4f (+/- %0.2f) [%s]\" % (scores.mean(), scores.std(), label))"
   ]
  },
  {
   "cell_type": "code",
   "execution_count": 284,
   "metadata": {
    "collapsed": false
   },
   "outputs": [
    {
     "name": "stderr",
     "output_type": "stream",
     "text": [
      "Features: 25/25"
     ]
    }
   ],
   "source": [
    "# CV for our first Estimator Pipeline (Logistic Newton)\n",
    "scores = cross_val_score(clf1_pipe, data.values, y.values, cv=5, scoring='roc_auc')"
   ]
  },
  {
   "cell_type": "code",
   "execution_count": 287,
   "metadata": {
    "collapsed": false
   },
   "outputs": [
    {
     "name": "stdout",
     "output_type": "stream",
     "text": [
      "roc_auc: 0.6544 (+/- 0.07) [Logistic Newton]\n"
     ]
    }
   ],
   "source": [
    "print(\"roc_auc: %0.4f (+/- %0.2f) [%s]\" % (scores.mean(), scores.std(), 'Logistic Newton'))"
   ]
  },
  {
   "cell_type": "markdown",
   "metadata": {},
   "source": [
    "Our score is **lower** than precious try (*0.7161*). It seems that our SFS (features selection) doesn't take the best score but the last features selection (aka score with *SFS.k_features*)"
   ]
  },
  {
   "cell_type": "code",
   "execution_count": 298,
   "metadata": {
    "collapsed": false
   },
   "outputs": [
    {
     "name": "stdout",
     "output_type": "stream",
     "text": [
      "First SFS for clf1 : [(1, 34, 4, 5, 9, 15, 21, 22, 23, 27)]\n",
      "Pipeline SFS with clf1 : (0, 1, 3, 4, 5, 9, 10, 11, 12, 13, 14, 15, 16, 17, 20, 21, 22, 23, 25, 27, 29, 30, 31, 34, 35)\n"
     ]
    }
   ],
   "source": [
    "# Our first SFS for clf1\n",
    "print \"First SFS for clf1 : \" + str(best_features_clf1)\n",
    "\n",
    "print \"Pipeline SFS with clf1 : \" + str(clf1_pipe.named_steps['sfs1'].k_feature_idx_)"
   ]
  },
  {
   "cell_type": "code",
   "execution_count": 210,
   "metadata": {
    "collapsed": false
   },
   "outputs": [
    {
     "data": {
      "image/png": "[encoded data removed]",
      "text/plain": [
       "<matplotlib.figure.Figure at 0x117baa4d0>"
      ]
     },
     "metadata": {},
     "output_type": "display_data"
    }
   ],
   "source": [
    "fig1bis = plot_sfs(clf1_pipe.named_steps['sfs1'].get_metric_dict(), kind='std_dev')\n",
    "\n"
   ]
  },
  {
   "cell_type": "markdown",
   "metadata": {},
   "source": [
    "As you can see on this graph, the best performance is with 10 features and during the pipeline process we take the performance of 25 features"
   ]
  },
  {
   "cell_type": "code",
   "execution_count": 219,
   "metadata": {
    "collapsed": false
   },
   "outputs": [
    {
     "data": {
      "text/html": [
       "<div>\n",
       "<table border=\"1\" class=\"dataframe\">\n",
       "  <thead>\n",
       "    <tr style=\"text-align: right;\">\n",
       "      <th></th>\n",
       "      <th>avg_score</th>\n",
       "      <th>ci_bound</th>\n",
       "      <th>cv_scores</th>\n",
       "      <th>feature_idx</th>\n",
       "      <th>std_dev</th>\n",
       "      <th>std_err</th>\n",
       "    </tr>\n",
       "  </thead>\n",
       "  <tbody>\n",
       "    <tr>\n",
       "      <th>10</th>\n",
       "      <td>0.7161</td>\n",
       "      <td>0.0535366</td>\n",
       "      <td>[0.689443779904, 0.807644110276, 0.66146326080...</td>\n",
       "      <td>(1, 34, 4, 5, 9, 15, 21, 22, 23, 27)</td>\n",
       "      <td>0.0531368</td>\n",
       "      <td>0.0265684</td>\n",
       "    </tr>\n",
       "    <tr>\n",
       "      <th>9</th>\n",
       "      <td>0.7161</td>\n",
       "      <td>0.0535366</td>\n",
       "      <td>[0.689443779904, 0.807644110276, 0.66146326080...</td>\n",
       "      <td>(1, 34, 4, 5, 9, 15, 21, 23, 27)</td>\n",
       "      <td>0.0531368</td>\n",
       "      <td>0.0265684</td>\n",
       "    </tr>\n",
       "    <tr>\n",
       "      <th>11</th>\n",
       "      <td>0.716091</td>\n",
       "      <td>0.0531213</td>\n",
       "      <td>[0.690340909091, 0.806704260652, 0.66146326080...</td>\n",
       "      <td>(1, 34, 35, 4, 5, 9, 15, 21, 22, 23, 27)</td>\n",
       "      <td>0.0527245</td>\n",
       "      <td>0.0263623</td>\n",
       "    </tr>\n",
       "    <tr>\n",
       "      <th>8</th>\n",
       "      <td>0.71601</td>\n",
       "      <td>0.0554486</td>\n",
       "      <td>[0.691238038278, 0.812969924812, 0.66114790287...</td>\n",
       "      <td>(1, 34, 4, 5, 23, 9, 27, 21)</td>\n",
       "      <td>0.0550345</td>\n",
       "      <td>0.0275172</td>\n",
       "    </tr>\n",
       "    <tr>\n",
       "      <th>12</th>\n",
       "      <td>0.715621</td>\n",
       "      <td>0.0560501</td>\n",
       "      <td>[0.683612440191, 0.812343358396, 0.66099022390...</td>\n",
       "      <td>(1, 34, 35, 4, 5, 9, 11, 15, 21, 22, 23, 27)</td>\n",
       "      <td>0.0556315</td>\n",
       "      <td>0.0278158</td>\n",
       "    </tr>\n",
       "  </tbody>\n",
       "</table>\n",
       "</div>"
      ],
      "text/plain": [
       "   avg_score   ci_bound                                          cv_scores  \\\n",
       "10    0.7161  0.0535366  [0.689443779904, 0.807644110276, 0.66146326080...   \n",
       "9     0.7161  0.0535366  [0.689443779904, 0.807644110276, 0.66146326080...   \n",
       "11  0.716091  0.0531213  [0.690340909091, 0.806704260652, 0.66146326080...   \n",
       "8    0.71601  0.0554486  [0.691238038278, 0.812969924812, 0.66114790287...   \n",
       "12  0.715621  0.0560501  [0.683612440191, 0.812343358396, 0.66099022390...   \n",
       "\n",
       "                                     feature_idx    std_dev    std_err  \n",
       "10          (1, 34, 4, 5, 9, 15, 21, 22, 23, 27)  0.0531368  0.0265684  \n",
       "9               (1, 34, 4, 5, 9, 15, 21, 23, 27)  0.0531368  0.0265684  \n",
       "11      (1, 34, 35, 4, 5, 9, 15, 21, 22, 23, 27)  0.0527245  0.0263623  \n",
       "8                   (1, 34, 4, 5, 23, 9, 27, 21)  0.0550345  0.0275172  \n",
       "12  (1, 34, 35, 4, 5, 9, 11, 15, 21, 22, 23, 27)  0.0556315  0.0278158  "
      ]
     },
     "execution_count": 219,
     "metadata": {},
     "output_type": "execute_result"
    }
   ],
   "source": [
    "result_clf1_pipe = pd.DataFrame.from_dict(clf1_pipe.named_steps['sfs1'].get_metric_dict(confidence_interval=0.90)).T\n",
    "result_clf1_pipe.sort_values('avg_score', ascending=0, inplace=True)\n",
    "result_clf1_pipe.head()"
   ]
  },
  {
   "cell_type": "markdown",
   "metadata": {},
   "source": [
    "## How can we take the features selection with the best performance (SFS) during a Pipeline process ?"
   ]
  },
  {
   "cell_type": "markdown",
   "metadata": {},
   "source": [
    "------------------------------"
   ]
  },
  {
   "cell_type": "markdown",
   "metadata": {},
   "source": [
    "## Find Manually the best k_features for SFS and fit our ensemble "
   ]
  },
  {
   "cell_type": "markdown",
   "metadata": {},
   "source": [
    "### clf1 - Logistic Newton"
   ]
  },
  {
   "cell_type": "code",
   "execution_count": 301,
   "metadata": {
    "collapsed": false
   },
   "outputs": [
    {
     "name": "stderr",
     "output_type": "stream",
     "text": [
      "Features: 10/10"
     ]
    },
    {
     "name": "stdout",
     "output_type": "stream",
     "text": [
      "Feature selection (1, 34, 4, 5, 9, 15, 21, 22, 23, 27)\n",
      "Score : 0.716100012599\n"
     ]
    }
   ],
   "source": [
    "sfs1_manual = SFS(clf1, \n",
    "               k_features=10, #seems the best \n",
    "               forward=True, \n",
    "               floating=False, \n",
    "               scoring='roc_auc',\n",
    "               cv=5)\n",
    "sfs1_manual = sfs1_manual.fit(data.values, y.values)\n",
    "\n",
    "print \"Feature selection \" + str(sfs1_manual.k_feature_idx_)\n",
    "print \"Score : \" + str(sfs1_manual.k_score_)"
   ]
  },
  {
   "cell_type": "code",
   "execution_count": 303,
   "metadata": {
    "collapsed": false
   },
   "outputs": [
    {
     "data": {
      "text/html": [
       "<div>\n",
       "<table border=\"1\" class=\"dataframe\">\n",
       "  <thead>\n",
       "    <tr style=\"text-align: right;\">\n",
       "      <th></th>\n",
       "      <th>avg_score</th>\n",
       "      <th>ci_bound</th>\n",
       "      <th>cv_scores</th>\n",
       "      <th>feature_idx</th>\n",
       "      <th>std_dev</th>\n",
       "      <th>std_err</th>\n",
       "    </tr>\n",
       "  </thead>\n",
       "  <tbody>\n",
       "    <tr>\n",
       "      <th>9</th>\n",
       "      <td>0.7161</td>\n",
       "      <td>0.0682963</td>\n",
       "      <td>[0.689443779904, 0.807644110276, 0.66146326080...</td>\n",
       "      <td>(1, 34, 4, 5, 9, 15, 21, 23, 27)</td>\n",
       "      <td>0.0531368</td>\n",
       "      <td>0.0265684</td>\n",
       "    </tr>\n",
       "    <tr>\n",
       "      <th>10</th>\n",
       "      <td>0.7161</td>\n",
       "      <td>0.0682963</td>\n",
       "      <td>[0.689443779904, 0.807644110276, 0.66146326080...</td>\n",
       "      <td>(1, 34, 4, 5, 9, 15, 21, 22, 23, 27)</td>\n",
       "      <td>0.0531368</td>\n",
       "      <td>0.0265684</td>\n",
       "    </tr>\n",
       "    <tr>\n",
       "      <th>8</th>\n",
       "      <td>0.71601</td>\n",
       "      <td>0.0707353</td>\n",
       "      <td>[0.691238038278, 0.812969924812, 0.66114790287...</td>\n",
       "      <td>(1, 34, 4, 5, 23, 9, 27, 21)</td>\n",
       "      <td>0.0550345</td>\n",
       "      <td>0.0275172</td>\n",
       "    </tr>\n",
       "  </tbody>\n",
       "</table>\n",
       "</div>"
      ],
      "text/plain": [
       "   avg_score   ci_bound                                          cv_scores  \\\n",
       "9     0.7161  0.0682963  [0.689443779904, 0.807644110276, 0.66146326080...   \n",
       "10    0.7161  0.0682963  [0.689443779904, 0.807644110276, 0.66146326080...   \n",
       "8    0.71601  0.0707353  [0.691238038278, 0.812969924812, 0.66114790287...   \n",
       "\n",
       "                             feature_idx    std_dev    std_err  \n",
       "9       (1, 34, 4, 5, 9, 15, 21, 23, 27)  0.0531368  0.0265684  \n",
       "10  (1, 34, 4, 5, 9, 15, 21, 22, 23, 27)  0.0531368  0.0265684  \n",
       "8           (1, 34, 4, 5, 23, 9, 27, 21)  0.0550345  0.0275172  "
      ]
     },
     "execution_count": 303,
     "metadata": {},
     "output_type": "execute_result"
    }
   ],
   "source": [
    "sfs1_manual_df = pd.DataFrame.from_dict(sfs1_manual.get_metric_dict()).T\n",
    "sfs1_manual_df.sort_values('avg_score', ascending=0, inplace=True)\n",
    "sfs1_manual_df.head(3)"
   ]
  },
  {
   "cell_type": "markdown",
   "metadata": {},
   "source": [
    "### clf2 - Xgboost 1"
   ]
  },
  {
   "cell_type": "code",
   "execution_count": 307,
   "metadata": {
    "collapsed": false
   },
   "outputs": [
    {
     "name": "stderr",
     "output_type": "stream",
     "text": [
      "Features: 36/36"
     ]
    },
    {
     "name": "stdout",
     "output_type": "stream",
     "text": [
      "Feature selection (0, 1, 2, 3, 4, 5, 6, 7, 8, 9, 10, 11, 12, 13, 14, 15, 16, 17, 18, 19, 20, 21, 22, 23, 24, 25, 26, 27, 28, 29, 30, 31, 32, 33, 34, 35)\n",
      "Score : 0.630448411818\n"
     ]
    }
   ],
   "source": [
    "# Looking for best number of k_features\n",
    "sfs2_manual = SFS(clf2, \n",
    "               k_features=len(data.columns), #All features\n",
    "               forward=True, \n",
    "               floating=False, \n",
    "               scoring='roc_auc',\n",
    "               cv=5)\n",
    "sfs2_manual = sfs2_manual.fit(data.values, y.values)\n",
    "\n",
    "print \"Feature selection \" + str(sfs2_manual.k_feature_idx_)\n",
    "print \"Score : \" + str(sfs2_manual.k_score_)"
   ]
  },
  {
   "cell_type": "code",
   "execution_count": 306,
   "metadata": {
    "collapsed": false
   },
   "outputs": [
    {
     "data": {
      "text/html": [
       "<div>\n",
       "<table border=\"1\" class=\"dataframe\">\n",
       "  <thead>\n",
       "    <tr style=\"text-align: right;\">\n",
       "      <th></th>\n",
       "      <th>avg_score</th>\n",
       "      <th>ci_bound</th>\n",
       "      <th>cv_scores</th>\n",
       "      <th>feature_idx</th>\n",
       "      <th>std_dev</th>\n",
       "      <th>std_err</th>\n",
       "    </tr>\n",
       "  </thead>\n",
       "  <tbody>\n",
       "    <tr>\n",
       "      <th>15</th>\n",
       "      <td>0.709337</td>\n",
       "      <td>0.0569933</td>\n",
       "      <td>[0.740879186603, 0.776002506266, 0.68148848943...</td>\n",
       "      <td>(1, 34, 3, 5, 35, 33, 8, 13, 15, 19, 22, 23, 2...</td>\n",
       "      <td>0.0443427</td>\n",
       "      <td>0.0221714</td>\n",
       "    </tr>\n",
       "    <tr>\n",
       "      <th>14</th>\n",
       "      <td>0.709308</td>\n",
       "      <td>0.0563241</td>\n",
       "      <td>[0.740879186603, 0.773966165414, 0.67959634184...</td>\n",
       "      <td>(1, 34, 3, 5, 35, 33, 8, 13, 15, 19, 22, 27, 2...</td>\n",
       "      <td>0.043822</td>\n",
       "      <td>0.021911</td>\n",
       "    </tr>\n",
       "    <tr>\n",
       "      <th>16</th>\n",
       "      <td>0.708846</td>\n",
       "      <td>0.0564633</td>\n",
       "      <td>[0.739683014354, 0.775062656642, 0.68117313150...</td>\n",
       "      <td>(1, 34, 3, 5, 35, 33, 8, 11, 13, 15, 19, 22, 2...</td>\n",
       "      <td>0.0439304</td>\n",
       "      <td>0.0219652</td>\n",
       "    </tr>\n",
       "  </tbody>\n",
       "</table>\n",
       "</div>"
      ],
      "text/plain": [
       "   avg_score   ci_bound                                          cv_scores  \\\n",
       "15  0.709337  0.0569933  [0.740879186603, 0.776002506266, 0.68148848943...   \n",
       "14  0.709308  0.0563241  [0.740879186603, 0.773966165414, 0.67959634184...   \n",
       "16  0.708846  0.0564633  [0.739683014354, 0.775062656642, 0.68117313150...   \n",
       "\n",
       "                                          feature_idx    std_dev    std_err  \n",
       "15  (1, 34, 3, 5, 35, 33, 8, 13, 15, 19, 22, 23, 2...  0.0443427  0.0221714  \n",
       "14  (1, 34, 3, 5, 35, 33, 8, 13, 15, 19, 22, 27, 2...   0.043822   0.021911  \n",
       "16  (1, 34, 3, 5, 35, 33, 8, 11, 13, 15, 19, 22, 2...  0.0439304  0.0219652  "
      ]
     },
     "execution_count": 306,
     "metadata": {},
     "output_type": "execute_result"
    }
   ],
   "source": [
    "sfs2_manual_df = pd.DataFrame.from_dict(sfs2_manual.get_metric_dict()).T\n",
    "sfs2_manual_df.sort_values('avg_score', ascending=0, inplace=True)\n",
    "sfs2_manual_df.head(3)"
   ]
  },
  {
   "cell_type": "markdown",
   "metadata": {},
   "source": [
    "** --> 15 seems the best number of k_features**"
   ]
  },
  {
   "cell_type": "code",
   "execution_count": 308,
   "metadata": {
    "collapsed": false
   },
   "outputs": [
    {
     "name": "stderr",
     "output_type": "stream",
     "text": [
      "Features: 15/15"
     ]
    },
    {
     "name": "stdout",
     "output_type": "stream",
     "text": [
      "Feature selection (1, 34, 3, 5, 35, 33, 8, 13, 15, 19, 22, 23, 27, 29, 30)\n",
      "Score : 0.709336603474\n"
     ]
    }
   ],
   "source": [
    "sfs2_manual = SFS(clf2, \n",
    "               k_features=15, # Best numbers \n",
    "               forward=True, \n",
    "               floating=False, \n",
    "               scoring='roc_auc',\n",
    "               cv=5)\n",
    "sfs2_manual = sfs2_manual.fit(data.values, y.values)\n",
    "\n",
    "print \"Feature selection \" + str(sfs2_manual.k_feature_idx_)\n",
    "print \"Score : \" + str(sfs2_manual.k_score_)"
   ]
  },
  {
   "cell_type": "markdown",
   "metadata": {},
   "source": [
    "### clf3 - Xgboost 2"
   ]
  },
  {
   "cell_type": "code",
   "execution_count": 309,
   "metadata": {
    "collapsed": false
   },
   "outputs": [
    {
     "name": "stderr",
     "output_type": "stream",
     "text": [
      "Features: 36/36"
     ]
    },
    {
     "name": "stdout",
     "output_type": "stream",
     "text": [
      "Feature selection (0, 1, 2, 3, 4, 5, 6, 7, 8, 9, 10, 11, 12, 13, 14, 15, 16, 17, 18, 19, 20, 21, 22, 23, 24, 25, 26, 27, 28, 29, 30, 31, 32, 33, 34, 35)\n",
      "Score : 0.623919955669\n"
     ]
    }
   ],
   "source": [
    "# Looking for best number of k_features\n",
    "sfs3_manual = SFS(clf3, \n",
    "               k_features=len(data.columns), #All features\n",
    "               forward=True, \n",
    "               floating=False, \n",
    "               scoring='roc_auc',\n",
    "               cv=5)\n",
    "sfs3_manual = sfs3_manual.fit(data.values, y.values)\n",
    "\n",
    "print \"Feature selection \" + str(sfs3_manual.k_feature_idx_)\n",
    "print \"Score : \" + str(sfs3_manual.k_score_)"
   ]
  },
  {
   "cell_type": "code",
   "execution_count": 310,
   "metadata": {
    "collapsed": false
   },
   "outputs": [
    {
     "data": {
      "text/html": [
       "<div>\n",
       "<table border=\"1\" class=\"dataframe\">\n",
       "  <thead>\n",
       "    <tr style=\"text-align: right;\">\n",
       "      <th></th>\n",
       "      <th>avg_score</th>\n",
       "      <th>ci_bound</th>\n",
       "      <th>cv_scores</th>\n",
       "      <th>feature_idx</th>\n",
       "      <th>std_dev</th>\n",
       "      <th>std_err</th>\n",
       "    </tr>\n",
       "  </thead>\n",
       "  <tbody>\n",
       "    <tr>\n",
       "      <th>13</th>\n",
       "      <td>0.699897</td>\n",
       "      <td>0.0615464</td>\n",
       "      <td>[0.753289473684, 0.753289473684, 0.65184484389...</td>\n",
       "      <td>(1, 34, 35, 5, 13, 15, 19, 22, 24, 27, 29, 30,...</td>\n",
       "      <td>0.0478852</td>\n",
       "      <td>0.0239426</td>\n",
       "    </tr>\n",
       "    <tr>\n",
       "      <th>14</th>\n",
       "      <td>0.699845</td>\n",
       "      <td>0.061976</td>\n",
       "      <td>[0.752093301435, 0.754542606516, 0.65263323872...</td>\n",
       "      <td>(1, 34, 35, 5, 13, 15, 19, 22, 24, 25, 27, 29,...</td>\n",
       "      <td>0.0482194</td>\n",
       "      <td>0.0241097</td>\n",
       "    </tr>\n",
       "    <tr>\n",
       "      <th>6</th>\n",
       "      <td>0.699766</td>\n",
       "      <td>0.0587912</td>\n",
       "      <td>[0.748056220096, 0.752192982456, 0.65373699148...</td>\n",
       "      <td>(1, 19, 24, 13, 30, 29)</td>\n",
       "      <td>0.0457416</td>\n",
       "      <td>0.0228708</td>\n",
       "    </tr>\n",
       "  </tbody>\n",
       "</table>\n",
       "</div>"
      ],
      "text/plain": [
       "   avg_score   ci_bound                                          cv_scores  \\\n",
       "13  0.699897  0.0615464  [0.753289473684, 0.753289473684, 0.65184484389...   \n",
       "14  0.699845   0.061976  [0.752093301435, 0.754542606516, 0.65263323872...   \n",
       "6   0.699766  0.0587912  [0.748056220096, 0.752192982456, 0.65373699148...   \n",
       "\n",
       "                                          feature_idx    std_dev    std_err  \n",
       "13  (1, 34, 35, 5, 13, 15, 19, 22, 24, 27, 29, 30,...  0.0478852  0.0239426  \n",
       "14  (1, 34, 35, 5, 13, 15, 19, 22, 24, 25, 27, 29,...  0.0482194  0.0241097  \n",
       "6                             (1, 19, 24, 13, 30, 29)  0.0457416  0.0228708  "
      ]
     },
     "execution_count": 310,
     "metadata": {},
     "output_type": "execute_result"
    }
   ],
   "source": [
    "sfs3_manual_df = pd.DataFrame.from_dict(sfs3_manual.get_metric_dict()).T\n",
    "sfs3_manual_df.sort_values('avg_score', ascending=0, inplace=True)\n",
    "sfs3_manual_df.head(3)"
   ]
  },
  {
   "cell_type": "markdown",
   "metadata": {},
   "source": [
    "** --> 13 seems the best number of k_features**"
   ]
  },
  {
   "cell_type": "code",
   "execution_count": 312,
   "metadata": {
    "collapsed": false
   },
   "outputs": [
    {
     "name": "stderr",
     "output_type": "stream",
     "text": [
      "Features: 13/13"
     ]
    },
    {
     "name": "stdout",
     "output_type": "stream",
     "text": [
      "Feature selection (1, 34, 35, 5, 13, 15, 19, 22, 24, 27, 29, 30, 31)\n",
      "Score : 0.699896678783\n"
     ]
    }
   ],
   "source": [
    "sfs3_manual = SFS(clf3, \n",
    "               k_features=13, # Best numbers \n",
    "               forward=True, \n",
    "               floating=False, \n",
    "               scoring='roc_auc',\n",
    "               cv=5)\n",
    "sfs3_manual = sfs3_manual.fit(data.values, y.values)\n",
    "\n",
    "print \"Feature selection \" + str(sfs3_manual.k_feature_idx_)\n",
    "print \"Score : \" + str(sfs3_manual.k_score_)"
   ]
  },
  {
   "cell_type": "markdown",
   "metadata": {},
   "source": [
    "### clf4 - Logistic lbfgs"
   ]
  },
  {
   "cell_type": "code",
   "execution_count": 313,
   "metadata": {
    "collapsed": false
   },
   "outputs": [
    {
     "name": "stderr",
     "output_type": "stream",
     "text": [
      "Features: 36/36"
     ]
    },
    {
     "name": "stdout",
     "output_type": "stream",
     "text": [
      "Feature selection (0, 1, 2, 3, 4, 5, 6, 7, 8, 9, 10, 11, 12, 13, 14, 15, 16, 17, 18, 19, 20, 21, 22, 23, 24, 25, 26, 27, 28, 29, 30, 31, 32, 33, 34, 35)\n",
      "Score : 0.675050736414\n"
     ]
    }
   ],
   "source": [
    "# Looking for best number of k_features\n",
    "sfs4_manual = SFS(clf4, \n",
    "               k_features=len(data.columns), #All features\n",
    "               forward=True, \n",
    "               floating=False, \n",
    "               scoring='roc_auc',\n",
    "               cv=5)\n",
    "sfs4_manual = sfs4_manual.fit(data.values, y.values)\n",
    "\n",
    "print \"Feature selection \" + str(sfs4_manual.k_feature_idx_)\n",
    "print \"Score : \" + str(sfs4_manual.k_score_)"
   ]
  },
  {
   "cell_type": "code",
   "execution_count": 314,
   "metadata": {
    "collapsed": false
   },
   "outputs": [
    {
     "data": {
      "text/html": [
       "<div>\n",
       "<table border=\"1\" class=\"dataframe\">\n",
       "  <thead>\n",
       "    <tr style=\"text-align: right;\">\n",
       "      <th></th>\n",
       "      <th>avg_score</th>\n",
       "      <th>ci_bound</th>\n",
       "      <th>cv_scores</th>\n",
       "      <th>feature_idx</th>\n",
       "      <th>std_dev</th>\n",
       "      <th>std_err</th>\n",
       "    </tr>\n",
       "  </thead>\n",
       "  <tbody>\n",
       "    <tr>\n",
       "      <th>9</th>\n",
       "      <td>0.7161</td>\n",
       "      <td>0.0682963</td>\n",
       "      <td>[0.689443779904, 0.807644110276, 0.66146326080...</td>\n",
       "      <td>(1, 34, 4, 5, 9, 15, 21, 23, 27)</td>\n",
       "      <td>0.0531368</td>\n",
       "      <td>0.0265684</td>\n",
       "    </tr>\n",
       "    <tr>\n",
       "      <th>10</th>\n",
       "      <td>0.7161</td>\n",
       "      <td>0.0682963</td>\n",
       "      <td>[0.689443779904, 0.807644110276, 0.66146326080...</td>\n",
       "      <td>(1, 34, 4, 5, 9, 15, 21, 22, 23, 27)</td>\n",
       "      <td>0.0531368</td>\n",
       "      <td>0.0265684</td>\n",
       "    </tr>\n",
       "    <tr>\n",
       "      <th>11</th>\n",
       "      <td>0.716091</td>\n",
       "      <td>0.0677664</td>\n",
       "      <td>[0.690340909091, 0.806704260652, 0.66146326080...</td>\n",
       "      <td>(1, 34, 35, 4, 5, 9, 15, 21, 22, 23, 27)</td>\n",
       "      <td>0.0527245</td>\n",
       "      <td>0.0263623</td>\n",
       "    </tr>\n",
       "  </tbody>\n",
       "</table>\n",
       "</div>"
      ],
      "text/plain": [
       "   avg_score   ci_bound                                          cv_scores  \\\n",
       "9     0.7161  0.0682963  [0.689443779904, 0.807644110276, 0.66146326080...   \n",
       "10    0.7161  0.0682963  [0.689443779904, 0.807644110276, 0.66146326080...   \n",
       "11  0.716091  0.0677664  [0.690340909091, 0.806704260652, 0.66146326080...   \n",
       "\n",
       "                                 feature_idx    std_dev    std_err  \n",
       "9           (1, 34, 4, 5, 9, 15, 21, 23, 27)  0.0531368  0.0265684  \n",
       "10      (1, 34, 4, 5, 9, 15, 21, 22, 23, 27)  0.0531368  0.0265684  \n",
       "11  (1, 34, 35, 4, 5, 9, 15, 21, 22, 23, 27)  0.0527245  0.0263623  "
      ]
     },
     "execution_count": 314,
     "metadata": {},
     "output_type": "execute_result"
    }
   ],
   "source": [
    "sfs4_manual_df = pd.DataFrame.from_dict(sfs4_manual.get_metric_dict()).T\n",
    "sfs4_manual_df.sort_values('avg_score', ascending=0, inplace=True)\n",
    "sfs4_manual_df.head(3)"
   ]
  },
  {
   "cell_type": "markdown",
   "metadata": {},
   "source": [
    "** --> 9 seems the best number of k_features**"
   ]
  },
  {
   "cell_type": "code",
   "execution_count": 315,
   "metadata": {
    "collapsed": false
   },
   "outputs": [
    {
     "name": "stderr",
     "output_type": "stream",
     "text": [
      "Features: 9/9"
     ]
    },
    {
     "name": "stdout",
     "output_type": "stream",
     "text": [
      "Feature selection (1, 34, 4, 5, 9, 15, 21, 23, 27)\n",
      "Score : 0.716100012599\n"
     ]
    }
   ],
   "source": [
    "sfs4_manual = SFS(clf4, \n",
    "               k_features=9, #Best numbers \n",
    "               forward=True, \n",
    "               floating=False, \n",
    "               scoring='roc_auc',\n",
    "               cv=5)\n",
    "sfs4_manual = sfs4_manual.fit(data.values, y.values)\n",
    "\n",
    "print \"Feature selection \" + str(sfs4_manual.k_feature_idx_)\n",
    "print \"Score : \" + str(sfs4_manual.k_score_)"
   ]
  },
  {
   "cell_type": "markdown",
   "metadata": {},
   "source": [
    "### Eclf - Ensemble"
   ]
  },
  {
   "cell_type": "code",
   "execution_count": 317,
   "metadata": {
    "collapsed": true
   },
   "outputs": [],
   "source": [
    "clf1_pipe_manual = Pipeline([('sfs1_manual', sfs1_manual),\n",
    "                              ('Logistic Newton', clf1)])\n",
    "\n",
    "clf2_pipe_manual = Pipeline([('sfs2_manual', sfs2_manual),\n",
    "                              ('Xgb1', clf2)])\n",
    "\n",
    "clf3_pipe_manual = Pipeline([('sfs3_manual', sfs3_manual),\n",
    "                              ('Xgb2', clf3)])\n",
    "\n",
    "clf4_pipe_manual = Pipeline([('sfs4_manual', sfs4_manual),\n",
    "                              ('Logistic lbfgs', clf4)])\n",
    "\n",
    "\n",
    "\n",
    "eclf = EnsembleVoteClassifier(clfs=[clf1_pipe_manual, clf2_pipe_manual, \n",
    "                                    clf3_pipe_manual, clf4_pipe_manual],\n",
    "                              voting='soft')\n"
   ]
  },
  {
   "cell_type": "code",
   "execution_count": 318,
   "metadata": {
    "collapsed": false
   },
   "outputs": [
    {
     "name": "stderr",
     "output_type": "stream",
     "text": [
      "Features: 15/15"
     ]
    },
    {
     "name": "stdout",
     "output_type": "stream",
     "text": [
      "roc_auc: 0.6387 (+/- 0.08) [Logistic Newton]\n",
      "roc_auc: 0.6698 (+/- 0.05) [Xgb1]"
     ]
    },
    {
     "name": "stderr",
     "output_type": "stream",
     "text": [
      "Features: 13/13"
     ]
    },
    {
     "name": "stdout",
     "output_type": "stream",
     "text": [
      "\n",
      "roc_auc: 0.6603 (+/- 0.04) [Xgb2]"
     ]
    },
    {
     "name": "stderr",
     "output_type": "stream",
     "text": [
      "Features: 9/9"
     ]
    },
    {
     "name": "stdout",
     "output_type": "stream",
     "text": [
      "\n",
      "roc_auc: 0.6474 (+/- 0.08) [Logistic lbfgs]"
     ]
    },
    {
     "name": "stderr",
     "output_type": "stream",
     "text": [
      "Features: 9/9"
     ]
    },
    {
     "name": "stdout",
     "output_type": "stream",
     "text": [
      "\n",
      "roc_auc: 0.6564 (+/- 0.08) [Ensemble]\n"
     ]
    }
   ],
   "source": [
    "for clf, label in zip([clf1_pipe_manual, clf2_pipe_manual, clf3_pipe_manual, clf4_pipe_manual, eclf], \n",
    "                      ['Logistic Newton', 'Xgb1', 'Xgb2', 'Logistic lbfgs', 'Ensemble']):\n",
    "\n",
    "    scores = cross_val_score(clf, data.values, y.values, cv=5, scoring='roc_auc')\n",
    "    print(\"roc_auc: %0.4f (+/- %0.2f) [%s]\" % (scores.mean(), scores.std(), label))"
   ]
  },
  {
   "cell_type": "markdown",
   "metadata": {},
   "source": [
    "## Looking for the bad score in SFS  Pipeline :"
   ]
  },
  {
   "cell_type": "markdown",
   "metadata": {},
   "source": [
    "#### The score of our CLF1 was 0.6387 (+/- 0.08) with the pipeline process and 0.7161 (+/- 0.05)) with the manual SFS. Searching why ..."
   ]
  },
  {
   "cell_type": "code",
   "execution_count": 329,
   "metadata": {
    "collapsed": false
   },
   "outputs": [
    {
     "name": "stderr",
     "output_type": "stream",
     "text": [
      "Features: 36/36"
     ]
    },
    {
     "name": "stdout",
     "output_type": "stream",
     "text": [
      "Feature selection (0, 1, 2, 3, 4, 5, 6, 7, 8, 9, 10, 11, 12, 13, 14, 15, 16, 17, 18, 19, 20, 21, 22, 23, 24, 25, 26, 27, 28, 29, 30, 31, 32, 33, 34, 35)\n",
      "Score : 0.675488559599\n"
     ]
    }
   ],
   "source": [
    "# SFS with full numbers of k_features\n",
    "sfs1_manual_all = SFS(clf1, \n",
    "                   k_features=len(data.columns), \n",
    "                   forward=True, \n",
    "                   floating=False, \n",
    "                   scoring='roc_auc',\n",
    "                   cv=5)\n",
    "sfs1_manual_all = sfs1_manual_all.fit(data.values, y.values)\n",
    "\n",
    "print \"Feature selection \" + str(sfs1_manual_all.k_feature_idx_)\n",
    "print \"Score : \" + str(sfs1_manual_all.k_score_)\n"
   ]
  },
  {
   "cell_type": "code",
   "execution_count": 330,
   "metadata": {
    "collapsed": false
   },
   "outputs": [
    {
     "data": {
      "text/html": [
       "<div>\n",
       "<table border=\"1\" class=\"dataframe\">\n",
       "  <thead>\n",
       "    <tr style=\"text-align: right;\">\n",
       "      <th></th>\n",
       "      <th>avg_score</th>\n",
       "      <th>ci_bound</th>\n",
       "      <th>cv_scores</th>\n",
       "      <th>feature_idx</th>\n",
       "      <th>std_dev</th>\n",
       "      <th>std_err</th>\n",
       "    </tr>\n",
       "  </thead>\n",
       "  <tbody>\n",
       "    <tr>\n",
       "      <th>1</th>\n",
       "      <td>0.662581</td>\n",
       "      <td>0.068987</td>\n",
       "      <td>[0.691686602871, 0.743577694236, 0.61857458215...</td>\n",
       "      <td>(1,)</td>\n",
       "      <td>0.0536742</td>\n",
       "      <td>0.0268371</td>\n",
       "    </tr>\n",
       "    <tr>\n",
       "      <th>2</th>\n",
       "      <td>0.694117</td>\n",
       "      <td>0.0623785</td>\n",
       "      <td>[0.706040669856, 0.768327067669, 0.64001892147...</td>\n",
       "      <td>(1, 9)</td>\n",
       "      <td>0.0485326</td>\n",
       "      <td>0.0242663</td>\n",
       "    </tr>\n",
       "    <tr>\n",
       "      <th>3</th>\n",
       "      <td>0.701039</td>\n",
       "      <td>0.0758659</td>\n",
       "      <td>[0.698863636364, 0.791823308271, 0.65231788079...</td>\n",
       "      <td>(1, 23, 9)</td>\n",
       "      <td>0.0590263</td>\n",
       "      <td>0.0295131</td>\n",
       "    </tr>\n",
       "    <tr>\n",
       "      <th>4</th>\n",
       "      <td>0.707582</td>\n",
       "      <td>0.0730441</td>\n",
       "      <td>[0.713217703349, 0.804824561404, 0.66083254493...</td>\n",
       "      <td>(27, 1, 23, 9)</td>\n",
       "      <td>0.0568308</td>\n",
       "      <td>0.0284154</td>\n",
       "    </tr>\n",
       "    <tr>\n",
       "      <th>5</th>\n",
       "      <td>0.711155</td>\n",
       "      <td>0.0800364</td>\n",
       "      <td>[0.708283492823, 0.814223057644, 0.63954588457...</td>\n",
       "      <td>(23, 1, 27, 5, 9)</td>\n",
       "      <td>0.0622711</td>\n",
       "      <td>0.0311355</td>\n",
       "    </tr>\n",
       "    <tr>\n",
       "      <th>6</th>\n",
       "      <td>0.712508</td>\n",
       "      <td>0.0834603</td>\n",
       "      <td>[0.705293062201, 0.817355889724, 0.63923052664...</td>\n",
       "      <td>(1, 34, 5, 23, 9, 27)</td>\n",
       "      <td>0.064935</td>\n",
       "      <td>0.0324675</td>\n",
       "    </tr>\n",
       "    <tr>\n",
       "      <th>7</th>\n",
       "      <td>0.715193</td>\n",
       "      <td>0.0813482</td>\n",
       "      <td>[0.67793062201, 0.825031328321, 0.655786818038...</td>\n",
       "      <td>(1, 34, 5, 23, 9, 27, 21)</td>\n",
       "      <td>0.0632917</td>\n",
       "      <td>0.0316458</td>\n",
       "    </tr>\n",
       "    <tr>\n",
       "      <th>8</th>\n",
       "      <td>0.71601</td>\n",
       "      <td>0.0707353</td>\n",
       "      <td>[0.691238038278, 0.812969924812, 0.66114790287...</td>\n",
       "      <td>(1, 34, 4, 5, 23, 9, 27, 21)</td>\n",
       "      <td>0.0550345</td>\n",
       "      <td>0.0275172</td>\n",
       "    </tr>\n",
       "    <tr>\n",
       "      <th>9</th>\n",
       "      <td>0.7161</td>\n",
       "      <td>0.0682963</td>\n",
       "      <td>[0.689443779904, 0.807644110276, 0.66146326080...</td>\n",
       "      <td>(1, 34, 4, 5, 9, 15, 21, 23, 27)</td>\n",
       "      <td>0.0531368</td>\n",
       "      <td>0.0265684</td>\n",
       "    </tr>\n",
       "    <tr>\n",
       "      <th>10</th>\n",
       "      <td>0.7161</td>\n",
       "      <td>0.0682963</td>\n",
       "      <td>[0.689443779904, 0.807644110276, 0.66146326080...</td>\n",
       "      <td>(1, 34, 4, 5, 9, 15, 21, 22, 23, 27)</td>\n",
       "      <td>0.0531368</td>\n",
       "      <td>0.0265684</td>\n",
       "    </tr>\n",
       "    <tr>\n",
       "      <th>11</th>\n",
       "      <td>0.716091</td>\n",
       "      <td>0.0677664</td>\n",
       "      <td>[0.690340909091, 0.806704260652, 0.66146326080...</td>\n",
       "      <td>(1, 34, 35, 4, 5, 9, 15, 21, 22, 23, 27)</td>\n",
       "      <td>0.0527245</td>\n",
       "      <td>0.0263623</td>\n",
       "    </tr>\n",
       "    <tr>\n",
       "      <th>12</th>\n",
       "      <td>0.715621</td>\n",
       "      <td>0.0715027</td>\n",
       "      <td>[0.683612440191, 0.812343358396, 0.66099022390...</td>\n",
       "      <td>(1, 34, 35, 4, 5, 9, 11, 15, 21, 22, 23, 27)</td>\n",
       "      <td>0.0556315</td>\n",
       "      <td>0.0278158</td>\n",
       "    </tr>\n",
       "    <tr>\n",
       "      <th>13</th>\n",
       "      <td>0.714314</td>\n",
       "      <td>0.0710532</td>\n",
       "      <td>[0.682864832536, 0.80545112782, 0.65862503942,...</td>\n",
       "      <td>(1, 34, 35, 4, 5, 9, 11, 15, 21, 22, 23, 27, 30)</td>\n",
       "      <td>0.0552818</td>\n",
       "      <td>0.0276409</td>\n",
       "    </tr>\n",
       "    <tr>\n",
       "      <th>14</th>\n",
       "      <td>0.713406</td>\n",
       "      <td>0.0729</td>\n",
       "      <td>[0.68211722488, 0.80701754386, 0.659098076317,...</td>\n",
       "      <td>(1, 34, 35, 4, 5, 9, 11, 15, 16, 21, 22, 23, 2...</td>\n",
       "      <td>0.0567186</td>\n",
       "      <td>0.0283593</td>\n",
       "    </tr>\n",
       "    <tr>\n",
       "      <th>15</th>\n",
       "      <td>0.713279</td>\n",
       "      <td>0.0727949</td>\n",
       "      <td>[0.68211722488, 0.80701754386, 0.659098076317,...</td>\n",
       "      <td>(1, 34, 35, 4, 5, 9, 11, 15, 16, 17, 21, 22, 2...</td>\n",
       "      <td>0.0566369</td>\n",
       "      <td>0.0283184</td>\n",
       "    </tr>\n",
       "    <tr>\n",
       "      <th>16</th>\n",
       "      <td>0.711636</td>\n",
       "      <td>0.0710219</td>\n",
       "      <td>[0.683014354067, 0.802631578947, 0.65767896562...</td>\n",
       "      <td>(1, 34, 35, 4, 5, 9, 11, 15, 16, 17, 21, 22, 2...</td>\n",
       "      <td>0.0552574</td>\n",
       "      <td>0.0276287</td>\n",
       "    </tr>\n",
       "    <tr>\n",
       "      <th>17</th>\n",
       "      <td>0.710515</td>\n",
       "      <td>0.0770536</td>\n",
       "      <td>[0.689892344498, 0.806547619048, 0.66162093976...</td>\n",
       "      <td>(1, 4, 5, 9, 11, 15, 16, 17, 21, 22, 23, 25, 2...</td>\n",
       "      <td>0.0599503</td>\n",
       "      <td>0.0299751</td>\n",
       "    </tr>\n",
       "    <tr>\n",
       "      <th>18</th>\n",
       "      <td>0.707521</td>\n",
       "      <td>0.0758251</td>\n",
       "      <td>[0.69019138756, 0.802631578947, 0.660674865973...</td>\n",
       "      <td>(0, 1, 4, 5, 9, 11, 15, 16, 17, 21, 22, 23, 25...</td>\n",
       "      <td>0.0589945</td>\n",
       "      <td>0.0294972</td>\n",
       "    </tr>\n",
       "    <tr>\n",
       "      <th>19</th>\n",
       "      <td>0.704932</td>\n",
       "      <td>0.0744002</td>\n",
       "      <td>[0.688397129187, 0.795739348371, 0.66051718700...</td>\n",
       "      <td>(0, 1, 4, 5, 9, 11, 15, 16, 17, 21, 22, 23, 25...</td>\n",
       "      <td>0.0578859</td>\n",
       "      <td>0.0289429</td>\n",
       "    </tr>\n",
       "    <tr>\n",
       "      <th>20</th>\n",
       "      <td>0.702572</td>\n",
       "      <td>0.0710805</td>\n",
       "      <td>[0.694976076555, 0.785087719298, 0.65815200252...</td>\n",
       "      <td>(0, 1, 4, 5, 9, 10, 11, 15, 16, 17, 21, 22, 23...</td>\n",
       "      <td>0.0553031</td>\n",
       "      <td>0.0276515</td>\n",
       "    </tr>\n",
       "    <tr>\n",
       "      <th>21</th>\n",
       "      <td>0.700254</td>\n",
       "      <td>0.0736301</td>\n",
       "      <td>[0.6875, 0.787593984962, 0.655944497004, 0.740...</td>\n",
       "      <td>(0, 1, 4, 5, 9, 10, 11, 14, 15, 16, 17, 21, 22...</td>\n",
       "      <td>0.0572868</td>\n",
       "      <td>0.0286434</td>\n",
       "    </tr>\n",
       "    <tr>\n",
       "      <th>22</th>\n",
       "      <td>0.697627</td>\n",
       "      <td>0.0758364</td>\n",
       "      <td>[0.673444976077, 0.791353383459, 0.65373699148...</td>\n",
       "      <td>(0, 1, 3, 4, 5, 9, 10, 11, 14, 15, 16, 17, 21,...</td>\n",
       "      <td>0.0590033</td>\n",
       "      <td>0.0295016</td>\n",
       "    </tr>\n",
       "    <tr>\n",
       "      <th>23</th>\n",
       "      <td>0.697175</td>\n",
       "      <td>0.0577431</td>\n",
       "      <td>[0.685107655502, 0.750939849624, 0.64963733837...</td>\n",
       "      <td>(0, 1, 3, 4, 5, 9, 10, 11, 12, 14, 15, 16, 17,...</td>\n",
       "      <td>0.0449261</td>\n",
       "      <td>0.022463</td>\n",
       "    </tr>\n",
       "    <tr>\n",
       "      <th>24</th>\n",
       "      <td>0.697112</td>\n",
       "      <td>0.057829</td>\n",
       "      <td>[0.685107655502, 0.750939849624, 0.64932198044...</td>\n",
       "      <td>(0, 1, 3, 4, 5, 9, 10, 11, 12, 13, 14, 15, 16,...</td>\n",
       "      <td>0.0449929</td>\n",
       "      <td>0.0224965</td>\n",
       "    </tr>\n",
       "    <tr>\n",
       "      <th>25</th>\n",
       "      <td>0.695608</td>\n",
       "      <td>0.0601725</td>\n",
       "      <td>[0.683911483254, 0.75313283208, 0.645537685273...</td>\n",
       "      <td>(0, 1, 3, 4, 5, 9, 10, 11, 12, 13, 14, 15, 16,...</td>\n",
       "      <td>0.0468162</td>\n",
       "      <td>0.0234081</td>\n",
       "    </tr>\n",
       "    <tr>\n",
       "      <th>26</th>\n",
       "      <td>0.692777</td>\n",
       "      <td>0.0605234</td>\n",
       "      <td>[0.683313397129, 0.752506265664, 0.65436770734...</td>\n",
       "      <td>(0, 1, 3, 4, 5, 9, 10, 11, 12, 13, 14, 15, 16,...</td>\n",
       "      <td>0.0470892</td>\n",
       "      <td>0.0235446</td>\n",
       "    </tr>\n",
       "    <tr>\n",
       "      <th>27</th>\n",
       "      <td>0.690958</td>\n",
       "      <td>0.0590519</td>\n",
       "      <td>[0.682715311005, 0.750313283208, 0.65216020182...</td>\n",
       "      <td>(0, 1, 3, 4, 5, 9, 10, 11, 12, 13, 14, 15, 16,...</td>\n",
       "      <td>0.0459444</td>\n",
       "      <td>0.0229722</td>\n",
       "    </tr>\n",
       "    <tr>\n",
       "      <th>28</th>\n",
       "      <td>0.690835</td>\n",
       "      <td>0.0589853</td>\n",
       "      <td>[0.682416267943, 0.750313283208, 0.65216020182...</td>\n",
       "      <td>(0, 1, 3, 4, 5, 9, 10, 11, 12, 13, 14, 15, 16,...</td>\n",
       "      <td>0.0458926</td>\n",
       "      <td>0.0229463</td>\n",
       "    </tr>\n",
       "    <tr>\n",
       "      <th>29</th>\n",
       "      <td>0.687406</td>\n",
       "      <td>0.0600364</td>\n",
       "      <td>[0.66716507177, 0.750313283208, 0.653421633554...</td>\n",
       "      <td>(0, 1, 3, 4, 5, 9, 10, 11, 12, 13, 14, 15, 16,...</td>\n",
       "      <td>0.0467104</td>\n",
       "      <td>0.0233552</td>\n",
       "    </tr>\n",
       "    <tr>\n",
       "      <th>30</th>\n",
       "      <td>0.687284</td>\n",
       "      <td>0.0599615</td>\n",
       "      <td>[0.666866028708, 0.75, 0.653421633554, 0.73478...</td>\n",
       "      <td>(0, 1, 3, 4, 5, 9, 10, 11, 12, 13, 14, 15, 16,...</td>\n",
       "      <td>0.0466521</td>\n",
       "      <td>0.0233261</td>\n",
       "    </tr>\n",
       "    <tr>\n",
       "      <th>31</th>\n",
       "      <td>0.684083</td>\n",
       "      <td>0.057131</td>\n",
       "      <td>[0.665669856459, 0.747807017544, 0.65247555976...</td>\n",
       "      <td>(0, 1, 3, 4, 5, 9, 10, 11, 12, 13, 14, 15, 16,...</td>\n",
       "      <td>0.0444498</td>\n",
       "      <td>0.0222249</td>\n",
       "    </tr>\n",
       "    <tr>\n",
       "      <th>32</th>\n",
       "      <td>0.684023</td>\n",
       "      <td>0.057163</td>\n",
       "      <td>[0.665370813397, 0.747807017544, 0.65247555976...</td>\n",
       "      <td>(0, 1, 3, 4, 5, 9, 10, 11, 12, 13, 14, 15, 16,...</td>\n",
       "      <td>0.0444748</td>\n",
       "      <td>0.0222374</td>\n",
       "    </tr>\n",
       "    <tr>\n",
       "      <th>33</th>\n",
       "      <td>0.68181</td>\n",
       "      <td>0.0593787</td>\n",
       "      <td>[0.665968899522, 0.747493734336, 0.65405234941...</td>\n",
       "      <td>(0, 1, 2, 3, 4, 5, 9, 10, 11, 12, 13, 14, 15, ...</td>\n",
       "      <td>0.0461987</td>\n",
       "      <td>0.0230993</td>\n",
       "    </tr>\n",
       "    <tr>\n",
       "      <th>34</th>\n",
       "      <td>0.678433</td>\n",
       "      <td>0.0560664</td>\n",
       "      <td>[0.669258373206, 0.745614035088, 0.64932198044...</td>\n",
       "      <td>(0, 1, 2, 3, 4, 5, 7, 9, 10, 11, 12, 13, 14, 1...</td>\n",
       "      <td>0.0436216</td>\n",
       "      <td>0.0218108</td>\n",
       "    </tr>\n",
       "    <tr>\n",
       "      <th>35</th>\n",
       "      <td>0.680614</td>\n",
       "      <td>0.056615</td>\n",
       "      <td>[0.671949760766, 0.74373433584, 0.658152002523...</td>\n",
       "      <td>(0, 1, 2, 3, 4, 5, 6, 7, 9, 10, 11, 12, 13, 14...</td>\n",
       "      <td>0.0440484</td>\n",
       "      <td>0.0220242</td>\n",
       "    </tr>\n",
       "    <tr>\n",
       "      <th>36</th>\n",
       "      <td>0.675489</td>\n",
       "      <td>0.0656649</td>\n",
       "      <td>[0.625897129187, 0.75469924812, 0.65752128666,...</td>\n",
       "      <td>(0, 1, 2, 3, 4, 5, 6, 7, 8, 9, 10, 11, 12, 13,...</td>\n",
       "      <td>0.0510896</td>\n",
       "      <td>0.0255448</td>\n",
       "    </tr>\n",
       "  </tbody>\n",
       "</table>\n",
       "</div>"
      ],
      "text/plain": [
       "   avg_score   ci_bound                                          cv_scores  \\\n",
       "1   0.662581   0.068987  [0.691686602871, 0.743577694236, 0.61857458215...   \n",
       "2   0.694117  0.0623785  [0.706040669856, 0.768327067669, 0.64001892147...   \n",
       "3   0.701039  0.0758659  [0.698863636364, 0.791823308271, 0.65231788079...   \n",
       "4   0.707582  0.0730441  [0.713217703349, 0.804824561404, 0.66083254493...   \n",
       "5   0.711155  0.0800364  [0.708283492823, 0.814223057644, 0.63954588457...   \n",
       "6   0.712508  0.0834603  [0.705293062201, 0.817355889724, 0.63923052664...   \n",
       "7   0.715193  0.0813482  [0.67793062201, 0.825031328321, 0.655786818038...   \n",
       "8    0.71601  0.0707353  [0.691238038278, 0.812969924812, 0.66114790287...   \n",
       "9     0.7161  0.0682963  [0.689443779904, 0.807644110276, 0.66146326080...   \n",
       "10    0.7161  0.0682963  [0.689443779904, 0.807644110276, 0.66146326080...   \n",
       "11  0.716091  0.0677664  [0.690340909091, 0.806704260652, 0.66146326080...   \n",
       "12  0.715621  0.0715027  [0.683612440191, 0.812343358396, 0.66099022390...   \n",
       "13  0.714314  0.0710532  [0.682864832536, 0.80545112782, 0.65862503942,...   \n",
       "14  0.713406     0.0729  [0.68211722488, 0.80701754386, 0.659098076317,...   \n",
       "15  0.713279  0.0727949  [0.68211722488, 0.80701754386, 0.659098076317,...   \n",
       "16  0.711636  0.0710219  [0.683014354067, 0.802631578947, 0.65767896562...   \n",
       "17  0.710515  0.0770536  [0.689892344498, 0.806547619048, 0.66162093976...   \n",
       "18  0.707521  0.0758251  [0.69019138756, 0.802631578947, 0.660674865973...   \n",
       "19  0.704932  0.0744002  [0.688397129187, 0.795739348371, 0.66051718700...   \n",
       "20  0.702572  0.0710805  [0.694976076555, 0.785087719298, 0.65815200252...   \n",
       "21  0.700254  0.0736301  [0.6875, 0.787593984962, 0.655944497004, 0.740...   \n",
       "22  0.697627  0.0758364  [0.673444976077, 0.791353383459, 0.65373699148...   \n",
       "23  0.697175  0.0577431  [0.685107655502, 0.750939849624, 0.64963733837...   \n",
       "24  0.697112   0.057829  [0.685107655502, 0.750939849624, 0.64932198044...   \n",
       "25  0.695608  0.0601725  [0.683911483254, 0.75313283208, 0.645537685273...   \n",
       "26  0.692777  0.0605234  [0.683313397129, 0.752506265664, 0.65436770734...   \n",
       "27  0.690958  0.0590519  [0.682715311005, 0.750313283208, 0.65216020182...   \n",
       "28  0.690835  0.0589853  [0.682416267943, 0.750313283208, 0.65216020182...   \n",
       "29  0.687406  0.0600364  [0.66716507177, 0.750313283208, 0.653421633554...   \n",
       "30  0.687284  0.0599615  [0.666866028708, 0.75, 0.653421633554, 0.73478...   \n",
       "31  0.684083   0.057131  [0.665669856459, 0.747807017544, 0.65247555976...   \n",
       "32  0.684023   0.057163  [0.665370813397, 0.747807017544, 0.65247555976...   \n",
       "33   0.68181  0.0593787  [0.665968899522, 0.747493734336, 0.65405234941...   \n",
       "34  0.678433  0.0560664  [0.669258373206, 0.745614035088, 0.64932198044...   \n",
       "35  0.680614   0.056615  [0.671949760766, 0.74373433584, 0.658152002523...   \n",
       "36  0.675489  0.0656649  [0.625897129187, 0.75469924812, 0.65752128666,...   \n",
       "\n",
       "                                          feature_idx    std_dev    std_err  \n",
       "1                                                (1,)  0.0536742  0.0268371  \n",
       "2                                              (1, 9)  0.0485326  0.0242663  \n",
       "3                                          (1, 23, 9)  0.0590263  0.0295131  \n",
       "4                                      (27, 1, 23, 9)  0.0568308  0.0284154  \n",
       "5                                   (23, 1, 27, 5, 9)  0.0622711  0.0311355  \n",
       "6                               (1, 34, 5, 23, 9, 27)   0.064935  0.0324675  \n",
       "7                           (1, 34, 5, 23, 9, 27, 21)  0.0632917  0.0316458  \n",
       "8                        (1, 34, 4, 5, 23, 9, 27, 21)  0.0550345  0.0275172  \n",
       "9                    (1, 34, 4, 5, 9, 15, 21, 23, 27)  0.0531368  0.0265684  \n",
       "10               (1, 34, 4, 5, 9, 15, 21, 22, 23, 27)  0.0531368  0.0265684  \n",
       "11           (1, 34, 35, 4, 5, 9, 15, 21, 22, 23, 27)  0.0527245  0.0263623  \n",
       "12       (1, 34, 35, 4, 5, 9, 11, 15, 21, 22, 23, 27)  0.0556315  0.0278158  \n",
       "13   (1, 34, 35, 4, 5, 9, 11, 15, 21, 22, 23, 27, 30)  0.0552818  0.0276409  \n",
       "14  (1, 34, 35, 4, 5, 9, 11, 15, 16, 21, 22, 23, 2...  0.0567186  0.0283593  \n",
       "15  (1, 34, 35, 4, 5, 9, 11, 15, 16, 17, 21, 22, 2...  0.0566369  0.0283184  \n",
       "16  (1, 34, 35, 4, 5, 9, 11, 15, 16, 17, 21, 22, 2...  0.0552574  0.0276287  \n",
       "17  (1, 4, 5, 9, 11, 15, 16, 17, 21, 22, 23, 25, 2...  0.0599503  0.0299751  \n",
       "18  (0, 1, 4, 5, 9, 11, 15, 16, 17, 21, 22, 23, 25...  0.0589945  0.0294972  \n",
       "19  (0, 1, 4, 5, 9, 11, 15, 16, 17, 21, 22, 23, 25...  0.0578859  0.0289429  \n",
       "20  (0, 1, 4, 5, 9, 10, 11, 15, 16, 17, 21, 22, 23...  0.0553031  0.0276515  \n",
       "21  (0, 1, 4, 5, 9, 10, 11, 14, 15, 16, 17, 21, 22...  0.0572868  0.0286434  \n",
       "22  (0, 1, 3, 4, 5, 9, 10, 11, 14, 15, 16, 17, 21,...  0.0590033  0.0295016  \n",
       "23  (0, 1, 3, 4, 5, 9, 10, 11, 12, 14, 15, 16, 17,...  0.0449261   0.022463  \n",
       "24  (0, 1, 3, 4, 5, 9, 10, 11, 12, 13, 14, 15, 16,...  0.0449929  0.0224965  \n",
       "25  (0, 1, 3, 4, 5, 9, 10, 11, 12, 13, 14, 15, 16,...  0.0468162  0.0234081  \n",
       "26  (0, 1, 3, 4, 5, 9, 10, 11, 12, 13, 14, 15, 16,...  0.0470892  0.0235446  \n",
       "27  (0, 1, 3, 4, 5, 9, 10, 11, 12, 13, 14, 15, 16,...  0.0459444  0.0229722  \n",
       "28  (0, 1, 3, 4, 5, 9, 10, 11, 12, 13, 14, 15, 16,...  0.0458926  0.0229463  \n",
       "29  (0, 1, 3, 4, 5, 9, 10, 11, 12, 13, 14, 15, 16,...  0.0467104  0.0233552  \n",
       "30  (0, 1, 3, 4, 5, 9, 10, 11, 12, 13, 14, 15, 16,...  0.0466521  0.0233261  \n",
       "31  (0, 1, 3, 4, 5, 9, 10, 11, 12, 13, 14, 15, 16,...  0.0444498  0.0222249  \n",
       "32  (0, 1, 3, 4, 5, 9, 10, 11, 12, 13, 14, 15, 16,...  0.0444748  0.0222374  \n",
       "33  (0, 1, 2, 3, 4, 5, 9, 10, 11, 12, 13, 14, 15, ...  0.0461987  0.0230993  \n",
       "34  (0, 1, 2, 3, 4, 5, 7, 9, 10, 11, 12, 13, 14, 1...  0.0436216  0.0218108  \n",
       "35  (0, 1, 2, 3, 4, 5, 6, 7, 9, 10, 11, 12, 13, 14...  0.0440484  0.0220242  \n",
       "36  (0, 1, 2, 3, 4, 5, 6, 7, 8, 9, 10, 11, 12, 13,...  0.0510896  0.0255448  "
      ]
     },
     "execution_count": 330,
     "metadata": {},
     "output_type": "execute_result"
    }
   ],
   "source": [
    "sfs1_manual_all = pd.DataFrame.from_dict(sfs1_manual_all.get_metric_dict()).T\n",
    "sfs1_manual_all"
   ]
  },
  {
   "cell_type": "markdown",
   "metadata": {},
   "source": [
    "No SFS avg_score match with the score find during the Pipeline process (0.6387)"
   ]
  },
  {
   "cell_type": "code",
   "execution_count": 331,
   "metadata": {
    "collapsed": true
   },
   "outputs": [],
   "source": [
    "from IPython.display import Image"
   ]
  },
  {
   "cell_type": "code",
   "execution_count": 335,
   "metadata": {
    "collapsed": false
   },
   "outputs": [
    {
     "data": {
      "text/html": [
       "<img src=\"http://i.giphy.com/ePeHKwWSed0Ag.gif\"/>"
      ],
      "text/plain": [
       "<IPython.core.display.Image object>"
      ]
     },
     "execution_count": 335,
     "metadata": {},
     "output_type": "execute_result"
    }
   ],
   "source": [
    "Image(url=\"http://i.giphy.com/ePeHKwWSed0Ag.gif\")"
   ]
  },
  {
   "cell_type": "code",
   "execution_count": null,
   "metadata": {
    "collapsed": true
   },
   "outputs": [],
   "source": []
  }
 ],
 "metadata": {
  "kernelspec": {
   "display_name": "Python 2",
   "language": "python",
   "name": "python2"
  },
  "language_info": {
   "codemirror_mode": {
    "name": "ipython",
    "version": 2
   },
   "file_extension": ".py",
   "mimetype": "text/x-python",
   "name": "python",
   "nbconvert_exporter": "python",
   "pygments_lexer": "ipython2",
   "version": "2.7.11"
  }
 },
 "nbformat": 4,
 "nbformat_minor": 0
}
