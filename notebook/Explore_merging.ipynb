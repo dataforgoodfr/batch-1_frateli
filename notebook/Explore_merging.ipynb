{
 "cells": [
  {
   "cell_type": "code",
   "execution_count": 286,
   "metadata": {
    "collapsed": false
   },
   "outputs": [],
   "source": [
    "import pandas as pd\n",
    "import numpy as np\n",
    "\n",
    "import matplotlib.pyplot as plt\n",
    "import seaborn as sns\n",
    "sns.set_style('whitegrid')\n",
    "%matplotlib inline"
   ]
  },
  {
   "cell_type": "code",
   "execution_count": 287,
   "metadata": {
    "collapsed": true
   },
   "outputs": [],
   "source": [
    "## Fonctions to plot\n",
    "\n",
    "def col_target_q(col, data):\n",
    "    group_target = data.groupby(['target'])[col].value_counts().reset_index()\n",
    "    group_target.rename(columns={0:'nbr'}, inplace=True)\n",
    "    f, ax = plt.subplots(figsize=(15, 4))\n",
    "    sns.barplot(x=col, y='nbr', hue='target', data=group_target.sort_values(col), hue_order=[0,1])\n",
    "    \n",
    "def col_target(col, data):\n",
    "    group_target = data.groupby(['target'])[col].value_counts()\n",
    "    state_pcts = group_target.groupby(level=1).apply(lambda x: 100*x/float(x.sum()))\n",
    "    lol = pd.DataFrame(state_pcts)\n",
    "    lol.reset_index(inplace=True)\n",
    "    lol.rename(columns={0:'nbr'}, inplace=True)\n",
    "    f, ax = plt.subplots(figsize=(15, 4))\n",
    "    sns.barplot(x=col, y='nbr', hue='target', data=lol.sort_values(col), hue_order=[0,1])"
   ]
  },
  {
   "cell_type": "code",
   "execution_count": 288,
   "metadata": {
    "collapsed": false
   },
   "outputs": [],
   "source": [
    "data = pd.read_csv('../data/data.csv', encoding='utf-8')"
   ]
  },
  {
   "cell_type": "code",
   "execution_count": 289,
   "metadata": {
    "collapsed": false
   },
   "outputs": [
    {
     "data": {
      "text/plain": [
       "(962, 126)"
      ]
     },
     "execution_count": 289,
     "metadata": {},
     "output_type": "execute_result"
    }
   ],
   "source": [
    "data.shape"
   ]
  },
  {
   "cell_type": "code",
   "execution_count": 290,
   "metadata": {
    "collapsed": false
   },
   "outputs": [
    {
     "data": {
      "text/plain": [
       "1.0    0.878378\n",
       "0.0    0.121622\n",
       "Name: target, dtype: float64"
      ]
     },
     "execution_count": 290,
     "metadata": {},
     "output_type": "execute_result"
    }
   ],
   "source": [
    "data.target.value_counts(normalize=True)"
   ]
  },
  {
   "cell_type": "markdown",
   "metadata": {},
   "source": [
    "## Analyse sur le sexe parrain / filleul"
   ]
  },
  {
   "cell_type": "code",
   "execution_count": 291,
   "metadata": {
    "collapsed": false
   },
   "outputs": [
    {
     "data": {
      "text/plain": [
       "0    F\n",
       "1    H\n",
       "2    F\n",
       "3    F\n",
       "4    H\n",
       "Name: H/F, dtype: object"
      ]
     },
     "execution_count": 291,
     "metadata": {},
     "output_type": "execute_result"
    }
   ],
   "source": [
    "# Parrain\n",
    "data[\"H/F\"].head()"
   ]
  },
  {
   "cell_type": "code",
   "execution_count": 292,
   "metadata": {
    "collapsed": false
   },
   "outputs": [
    {
     "data": {
      "text/plain": [
       "0    F\n",
       "1    H\n",
       "2    H\n",
       "3    F\n",
       "4    H\n",
       "Name: Sexe, dtype: object"
      ]
     },
     "execution_count": 292,
     "metadata": {},
     "output_type": "execute_result"
    }
   ],
   "source": [
    "# Filleul\n",
    "data[\"Sexe\"].head()"
   ]
  },
  {
   "cell_type": "code",
   "execution_count": 293,
   "metadata": {
    "collapsed": false
   },
   "outputs": [],
   "source": [
    "data[\"sexe_egal\"] = data.apply(lambda row: 1 if row[\"H/F\"] == row[\"Sexe\"] else 0, axis=1)"
   ]
  },
  {
   "cell_type": "code",
   "execution_count": 294,
   "metadata": {
    "collapsed": false
   },
   "outputs": [
    {
     "data": {
      "text/plain": [
       "1    555\n",
       "0    407\n",
       "Name: sexe_egal, dtype: int64"
      ]
     },
     "execution_count": 294,
     "metadata": {},
     "output_type": "execute_result"
    }
   ],
   "source": [
    "data.sexe_egal.value_counts()"
   ]
  },
  {
   "cell_type": "code",
   "execution_count": 295,
   "metadata": {
    "collapsed": false
   },
   "outputs": [
    {
     "data": {
      "text/plain": [
       "<matplotlib.axes._subplots.AxesSubplot at 0x11b494f50>"
      ]
     },
     "execution_count": 295,
     "metadata": {},
     "output_type": "execute_result"
    },
    {
     "data": {
      "image/png": "[encoded data removed]",
      "text/plain": [
       "<matplotlib.figure.Figure at 0x116c8ecd0>"
      ]
     },
     "metadata": {},
     "output_type": "display_data"
    }
   ],
   "source": [
    "sns.countplot(x='sexe_egal', data=data, hue='target')"
   ]
  },
  {
   "cell_type": "markdown",
   "metadata": {},
   "source": [
    "## Analyse même ville parrain / filleul (résidence)"
   ]
  },
  {
   "cell_type": "markdown",
   "metadata": {},
   "source": [
    "Ne pas prendre"
   ]
  },
  {
   "cell_type": "code",
   "execution_count": 296,
   "metadata": {
    "collapsed": false
   },
   "outputs": [
    {
     "data": {
      "text/plain": [
       "0    75010\n",
       "1    75116\n",
       "2    93100\n",
       "3    92400\n",
       "4    75017\n",
       "Name: Code postal actuel, dtype: object"
      ]
     },
     "execution_count": 296,
     "metadata": {},
     "output_type": "execute_result"
    }
   ],
   "source": [
    "# Parrain \n",
    "data[\"Code postal actuel\"].head()"
   ]
  },
  {
   "cell_type": "code",
   "execution_count": 297,
   "metadata": {
    "collapsed": false
   },
   "outputs": [
    {
     "data": {
      "text/plain": [
       "0    51100\n",
       "1    95260\n",
       "2    95260\n",
       "3    69100\n",
       "4    75010\n",
       "Name: Code postal, dtype: object"
      ]
     },
     "execution_count": 297,
     "metadata": {},
     "output_type": "execute_result"
    }
   ],
   "source": [
    "# filleul\n",
    "data[\"Code postal\"].head()"
   ]
  },
  {
   "cell_type": "code",
   "execution_count": 298,
   "metadata": {
    "collapsed": true
   },
   "outputs": [],
   "source": [
    "data[\"code_postal_residence_egal\"] = data.apply(lambda row: 1 if row[\"Code postal actuel\"] == row[\"Code postal\"] else 0, axis=1)"
   ]
  },
  {
   "cell_type": "code",
   "execution_count": 299,
   "metadata": {
    "collapsed": false
   },
   "outputs": [
    {
     "data": {
      "text/plain": [
       "0    953\n",
       "1      9\n",
       "Name: code_postal_residence_egal, dtype: int64"
      ]
     },
     "execution_count": 299,
     "metadata": {},
     "output_type": "execute_result"
    }
   ],
   "source": [
    "data[\"code_postal_residence_egal\"].value_counts()"
   ]
  },
  {
   "cell_type": "markdown",
   "metadata": {},
   "source": [
    "## Analyse même ville parrain / filleul (école)"
   ]
  },
  {
   "cell_type": "markdown",
   "metadata": {},
   "source": [
    "Ne pas prendre"
   ]
  },
  {
   "cell_type": "code",
   "execution_count": 300,
   "metadata": {
    "collapsed": false
   },
   "outputs": [
    {
     "data": {
      "text/plain": [
       "0    51100\n",
       "1    95000\n",
       "2    78351\n",
       "3    69001\n",
       "4    75000\n",
       "Name: Code postal de l'établissement actuel, dtype: object"
      ]
     },
     "execution_count": 300,
     "metadata": {},
     "output_type": "execute_result"
    }
   ],
   "source": [
    "# filleul\n",
    "data[u\"Code postal de l'établissement actuel\"].head()"
   ]
  },
  {
   "cell_type": "code",
   "execution_count": 301,
   "metadata": {
    "collapsed": false
   },
   "outputs": [],
   "source": [
    "data[\"code_postal_residence_egal\"] = data.apply(lambda row: 1 if row[\"Code postal actuel\"] == row[u\"Code postal de l'établissement actuel\"] else 0, axis=1)"
   ]
  },
  {
   "cell_type": "code",
   "execution_count": 302,
   "metadata": {
    "collapsed": false
   },
   "outputs": [
    {
     "data": {
      "text/plain": [
       "0    950\n",
       "1     12\n",
       "Name: code_postal_residence_egal, dtype: int64"
      ]
     },
     "execution_count": 302,
     "metadata": {},
     "output_type": "execute_result"
    }
   ],
   "source": [
    "data[\"code_postal_residence_egal\"].value_counts()"
   ]
  },
  {
   "cell_type": "markdown",
   "metadata": {},
   "source": [
    "## Analyse Age parrain / filleul"
   ]
  },
  {
   "cell_type": "code",
   "execution_count": 303,
   "metadata": {
    "collapsed": false
   },
   "outputs": [],
   "source": [
    "# Parrain :\n",
    "data[\"annee_naissance_p\"] = pd.to_datetime(data[\"Date de naissance_p\"], errors='coerce').dt.year"
   ]
  },
  {
   "cell_type": "code",
   "execution_count": 304,
   "metadata": {
    "collapsed": false
   },
   "outputs": [],
   "source": [
    "# Filleul :\n",
    "data[\"annee_naissance_f\"] = pd.to_datetime(data[\"Date de naissance_f\"], errors='coerce').dt.year"
   ]
  },
  {
   "cell_type": "code",
   "execution_count": 305,
   "metadata": {
    "collapsed": false
   },
   "outputs": [
    {
     "data": {
      "text/plain": [
       "0    1996\n",
       "1    1991\n",
       "2    1993\n",
       "3    1997\n",
       "4    1994\n",
       "Name: annee_naissance_f, dtype: int64"
      ]
     },
     "execution_count": 305,
     "metadata": {},
     "output_type": "execute_result"
    }
   ],
   "source": [
    "data[\"annee_naissance_f\"].head()"
   ]
  },
  {
   "cell_type": "code",
   "execution_count": 306,
   "metadata": {
    "collapsed": false
   },
   "outputs": [],
   "source": [
    "data['diff_annee_naissance'] = data[\"annee_naissance_f\"] - data[\"annee_naissance_p\"]"
   ]
  },
  {
   "cell_type": "code",
   "execution_count": 307,
   "metadata": {
    "collapsed": false
   },
   "outputs": [
    {
     "data": {
      "text/plain": [
       "count    779.000000\n",
       "mean      14.178434\n",
       "std       10.798231\n",
       "min      -22.000000\n",
       "25%        9.000000\n",
       "50%       12.000000\n",
       "75%       17.000000\n",
       "max       92.000000\n",
       "Name: diff_annee_naissance, dtype: float64"
      ]
     },
     "execution_count": 307,
     "metadata": {},
     "output_type": "execute_result"
    }
   ],
   "source": [
    "data['diff_annee_naissance'].describe()"
   ]
  },
  {
   "cell_type": "code",
   "execution_count": 308,
   "metadata": {
    "collapsed": false
   },
   "outputs": [
    {
     "data": {
      "text/html": [
       "<div>\n",
       "<table border=\"1\" class=\"dataframe\">\n",
       "  <thead>\n",
       "    <tr style=\"text-align: right;\">\n",
       "      <th></th>\n",
       "      <th>Date de naissance_p</th>\n",
       "      <th>annee_naissance_f</th>\n",
       "    </tr>\n",
       "  </thead>\n",
       "  <tbody>\n",
       "    <tr>\n",
       "      <th>472</th>\n",
       "      <td>2013-11-25 00:00:00</td>\n",
       "      <td>1991</td>\n",
       "    </tr>\n",
       "  </tbody>\n",
       "</table>\n",
       "</div>"
      ],
      "text/plain": [
       "     Date de naissance_p  annee_naissance_f\n",
       "472  2013-11-25 00:00:00               1991"
      ]
     },
     "execution_count": 308,
     "metadata": {},
     "output_type": "execute_result"
    }
   ],
   "source": [
    "data[[\"Date de naissance_p\", \"annee_naissance_f\"]][data['diff_annee_naissance'] == -22.0]"
   ]
  },
  {
   "cell_type": "code",
   "execution_count": 309,
   "metadata": {
    "collapsed": false
   },
   "outputs": [
    {
     "data": {
      "text/plain": [
       "<matplotlib.axes._subplots.AxesSubplot at 0x11b448e90>"
      ]
     },
     "execution_count": 309,
     "metadata": {},
     "output_type": "execute_result"
    },
    {
     "data": {
      "image/png": "[encoded data removed]",
      "text/plain": [
       "<matplotlib.figure.Figure at 0x11b424dd0>"
      ]
     },
     "metadata": {},
     "output_type": "display_data"
    }
   ],
   "source": [
    "sns.distplot(data.annee_naissance_f)"
   ]
  },
  {
   "cell_type": "markdown",
   "metadata": {},
   "source": [
    "## Age du Filleul"
   ]
  },
  {
   "cell_type": "code",
   "execution_count": 310,
   "metadata": {
    "collapsed": true
   },
   "outputs": [],
   "source": [
    "import datetime"
   ]
  },
  {
   "cell_type": "code",
   "execution_count": 312,
   "metadata": {
    "collapsed": false
   },
   "outputs": [],
   "source": [
    "today = datetime.date.today()\n",
    "#data['age_f'] = ((pd.to_datetime(data[\"Date de naissance_f\"], errors='coerce') - pd.datetime.now()) \\\n",
    "#                 / np.timedelta64(1, 'D')).astype(int)\n",
    "\n",
    "data['age_f'] = pd.datetime.now().year - pd.to_datetime(data[\"Date de naissance_f\"], errors='coerce').dt.year"
   ]
  },
  {
   "cell_type": "code",
   "execution_count": 313,
   "metadata": {
    "collapsed": false
   },
   "outputs": [
    {
     "data": {
      "text/plain": [
       "0    20\n",
       "1    25\n",
       "2    23\n",
       "3    19\n",
       "4    22\n",
       "Name: age_f, dtype: int64"
      ]
     },
     "execution_count": 313,
     "metadata": {},
     "output_type": "execute_result"
    }
   ],
   "source": [
    "data['age_f'].head()"
   ]
  },
  {
   "cell_type": "code",
   "execution_count": 314,
   "metadata": {
    "collapsed": false
   },
   "outputs": [
    {
     "data": {
      "text/plain": [
       "<seaborn.axisgrid.FacetGrid at 0x11b448f50>"
      ]
     },
     "execution_count": 314,
     "metadata": {},
     "output_type": "execute_result"
    },
    {
     "data": {
      "image/png": "[encoded data removed]",
      "text/plain": [
       "<matplotlib.figure.Figure at 0x11672b850>"
      ]
     },
     "metadata": {},
     "output_type": "display_data"
    }
   ],
   "source": [
    "pal = [\"g\", \"r\"]\n",
    "facet = sns.FacetGrid(data, hue=\"target\",aspect=4, palette=pal)\n",
    "facet.map(sns.kdeplot,'age_f',shade= True)\n",
    "facet.add_legend()"
   ]
  },
  {
   "cell_type": "markdown",
   "metadata": {
    "collapsed": false
   },
   "source": [
    "## Age Parrain"
   ]
  },
  {
   "cell_type": "code",
   "execution_count": 625,
   "metadata": {
    "collapsed": false
   },
   "outputs": [
    {
     "name": "stdout",
     "output_type": "stream",
     "text": [
      "Imput missing value...\n"
     ]
    },
    {
     "name": "stderr",
     "output_type": "stream",
     "text": [
      "/Users/babou/anaconda/lib/python2.7/site-packages/sklearn/utils/validation.py:386: DeprecationWarning: Passing 1d arrays as data is deprecated in 0.17 and willraise ValueError in 0.19. Reshape your data either using X.reshape(-1, 1) if your data has a single feature or X.reshape(1, -1) if it contains a single sample.\n",
      "  DeprecationWarning)\n"
     ]
    }
   ],
   "source": [
    "from sklearn.preprocessing import Imputer\n",
    "data['age_p'] = pd.datetime.now().year - pd.to_datetime(data[\"Date de naissance_p\"], errors='coerce').dt.year\n",
    "print \"Imput missing value...\"\n",
    "# col age_p have some NaN\n",
    "imp = Imputer(strategy='median', axis=1)\n",
    "data[\"age_p\"] = pd.Series(imp.fit_transform(data[\"age_p\"])[0])"
   ]
  },
  {
   "cell_type": "code",
   "execution_count": 626,
   "metadata": {
    "collapsed": false
   },
   "outputs": [
    {
     "data": {
      "text/plain": [
       "<seaborn.axisgrid.FacetGrid at 0x11bfe2a50>"
      ]
     },
     "execution_count": 626,
     "metadata": {},
     "output_type": "execute_result"
    },
    {
     "data": {
      "image/png": "[encoded data removed]",
      "text/plain": [
       "<matplotlib.figure.Figure at 0x121294450>"
      ]
     },
     "metadata": {},
     "output_type": "display_data"
    }
   ],
   "source": [
    "pal = [\"g\", \"r\"]\n",
    "facet = sns.FacetGrid(data, hue=\"target\",aspect=4, palette=pal)\n",
    "facet.map(sns.kdeplot,'age_p',shade= True)\n",
    "facet.add_legend()"
   ]
  },
  {
   "cell_type": "markdown",
   "metadata": {},
   "source": [
    "### Detect outlier"
   ]
  },
  {
   "cell_type": "code",
   "execution_count": 741,
   "metadata": {
    "collapsed": false
   },
   "outputs": [
    {
     "data": {
      "text/plain": [
       "9"
      ]
     },
     "execution_count": 741,
     "metadata": {},
     "output_type": "execute_result"
    }
   ],
   "source": [
    "len(data.age_p[data.age_p >= data.age_p.mean() + 3*(data.age_p.std())])"
   ]
  },
  {
   "cell_type": "code",
   "execution_count": 740,
   "metadata": {
    "collapsed": false
   },
   "outputs": [
    {
     "data": {
      "text/plain": [
       "40     2.0\n",
       "313    2.0\n",
       "378    3.0\n",
       "472    3.0\n",
       "482    2.0\n",
       "520    2.0\n",
       "587    4.0\n",
       "615    2.0\n",
       "618    2.0\n",
       "919    2.0\n",
       "Name: age_p, dtype: float64"
      ]
     },
     "execution_count": 740,
     "metadata": {},
     "output_type": "execute_result"
    }
   ],
   "source": [
    "data.age_p[data.age_p <= data.age_p.mean() - 3*(data.age_p.std())]"
   ]
  },
  {
   "cell_type": "code",
   "execution_count": 743,
   "metadata": {
    "collapsed": false
   },
   "outputs": [
    {
     "data": {
      "text/plain": [
       "<seaborn.axisgrid.FacetGrid at 0x11bdf2890>"
      ]
     },
     "execution_count": 743,
     "metadata": {},
     "output_type": "execute_result"
    },
    {
     "data": {
      "image/png": "[encoded data removed]",
      "text/plain": [
       "<matplotlib.figure.Figure at 0x122165550>"
      ]
     },
     "metadata": {},
     "output_type": "display_data"
    }
   ],
   "source": [
    "data.loc[data['age_p'] >= (data['age_p'].mean() + 3 * data['age_p'].std()), 'age_p'] = np.nan\n",
    "data.loc[data['age_p'] <= (data['age_p'].mean() - 3 * data['age_p'].std()), 'age_p'] = np.nan\n",
    "\n",
    "pal = [\"g\", \"r\"]\n",
    "facet = sns.FacetGrid(data, hue=\"target\",aspect=4, palette=pal)\n",
    "facet.map(sns.kdeplot,'age_p',shade= True)\n",
    "facet.add_legend()"
   ]
  },
  {
   "cell_type": "markdown",
   "metadata": {},
   "source": [
    "## Formation filleul"
   ]
  },
  {
   "cell_type": "code",
   "execution_count": 317,
   "metadata": {
    "collapsed": true
   },
   "outputs": [],
   "source": [
    "def group_formation(x):\n",
    "#    try:\n",
    "    if \"ecole\" in x.lower():\n",
    "        return \"ecole\"\n",
    "    elif \"universit\" in x.lower():\n",
    "        return \"universite\"\n",
    "    elif \"institut\" in x.lower():\n",
    "        return \"institut\"\n",
    "    else:\n",
    "        return \"autre\"\n",
    "#    except:\n",
    "#        print x"
   ]
  },
  {
   "cell_type": "code",
   "execution_count": 318,
   "metadata": {
    "collapsed": false
   },
   "outputs": [],
   "source": [
    "data[\"group_formation_f\"] = data[\"Formation actuelle\"].apply(lambda x: group_formation(x))"
   ]
  },
  {
   "cell_type": "code",
   "execution_count": 319,
   "metadata": {
    "collapsed": false
   },
   "outputs": [
    {
     "data": {
      "text/plain": [
       "ecole         370\n",
       "universite    282\n",
       "autre         254\n",
       "institut       56\n",
       "Name: group_formation_f, dtype: int64"
      ]
     },
     "execution_count": 319,
     "metadata": {},
     "output_type": "execute_result"
    }
   ],
   "source": [
    "data.group_formation_f.value_counts()"
   ]
  },
  {
   "cell_type": "code",
   "execution_count": 320,
   "metadata": {
    "collapsed": false
   },
   "outputs": [
    {
     "data": {
      "image/png": "[encoded data removed]",
      "text/plain": [
       "<matplotlib.figure.Figure at 0x11b18d110>"
      ]
     },
     "metadata": {},
     "output_type": "display_data"
    }
   ],
   "source": [
    "col_target(\"group_formation_f\", data)"
   ]
  },
  {
   "cell_type": "markdown",
   "metadata": {},
   "source": [
    "## Formation parrain"
   ]
  },
  {
   "cell_type": "code",
   "execution_count": 321,
   "metadata": {
    "collapsed": false
   },
   "outputs": [],
   "source": [
    "# Rename col\n",
    "data.rename(columns={u'Dipl\\xf4me Principal':'Diplome Principal'}, inplace=True)"
   ]
  },
  {
   "cell_type": "code",
   "execution_count": 322,
   "metadata": {
    "collapsed": false
   },
   "outputs": [],
   "source": [
    "\n",
    "\n",
    "data[\"group_formation_p\"] = data[\"Diplome Principal\"].apply(lambda x: group_formation(x))"
   ]
  },
  {
   "cell_type": "code",
   "execution_count": 323,
   "metadata": {
    "collapsed": false
   },
   "outputs": [
    {
     "data": {
      "text/plain": [
       "ecole         798\n",
       "universite    162\n",
       "autre           2\n",
       "Name: group_formation_p, dtype: int64"
      ]
     },
     "execution_count": 323,
     "metadata": {},
     "output_type": "execute_result"
    }
   ],
   "source": [
    "data.group_formation_p.value_counts()"
   ]
  },
  {
   "cell_type": "code",
   "execution_count": 324,
   "metadata": {
    "collapsed": false
   },
   "outputs": [
    {
     "data": {
      "image/png": "[encoded data removed]",
      "text/plain": [
       "<matplotlib.figure.Figure at 0x11bb9d0d0>"
      ]
     },
     "metadata": {},
     "output_type": "display_data"
    }
   ],
   "source": [
    "col_target(\"group_formation_p\", data)"
   ]
  },
  {
   "cell_type": "markdown",
   "metadata": {},
   "source": [
    "## Similitude formation parrain / filleul"
   ]
  },
  {
   "cell_type": "code",
   "execution_count": 325,
   "metadata": {
    "collapsed": true
   },
   "outputs": [],
   "source": [
    "data['formation_egal'] = data.apply(lambda row: 1 if row[\"group_formation_p\"] == row[\"group_formation_f\"] else 0, axis=1)"
   ]
  },
  {
   "cell_type": "code",
   "execution_count": 326,
   "metadata": {
    "collapsed": false
   },
   "outputs": [
    {
     "data": {
      "text/plain": [
       "0    497\n",
       "1    465\n",
       "Name: formation_egal, dtype: int64"
      ]
     },
     "execution_count": 326,
     "metadata": {},
     "output_type": "execute_result"
    }
   ],
   "source": [
    "data['formation_egal'].value_counts()"
   ]
  },
  {
   "cell_type": "code",
   "execution_count": 327,
   "metadata": {
    "collapsed": false
   },
   "outputs": [
    {
     "data": {
      "image/png": "[encoded data removed]",
      "text/plain": [
       "<matplotlib.figure.Figure at 0x118fbd950>"
      ]
     },
     "metadata": {},
     "output_type": "display_data"
    }
   ],
   "source": [
    "col_target(\"formation_egal\", data)"
   ]
  },
  {
   "cell_type": "markdown",
   "metadata": {},
   "source": [
    "## Similitude Code Formation parrain / filleul"
   ]
  },
  {
   "cell_type": "code",
   "execution_count": 328,
   "metadata": {
    "collapsed": false
   },
   "outputs": [
    {
     "data": {
      "text/plain": [
       "3 : Commerce / Finance / Gestion                                                   384\n",
       "1 : Ingénieurs / Sciences dures                                                    277\n",
       "4 : Sciences politiques / Droit                                                    165\n",
       "5 : Sciences humaines et Sociales (anciennement lettres, histoire, philo, arts)     64\n",
       "2 : Sciences du vivant                                                              44\n",
       "6 : Autres                                                                          28\n",
       "Name: Code formation_p, dtype: int64"
      ]
     },
     "execution_count": 328,
     "metadata": {},
     "output_type": "execute_result"
    }
   ],
   "source": [
    "data[\"Code formation_p\"].value_counts()"
   ]
  },
  {
   "cell_type": "code",
   "execution_count": 329,
   "metadata": {
    "collapsed": false
   },
   "outputs": [
    {
     "data": {
      "image/png": "[encoded data removed]",
      "text/plain": [
       "<matplotlib.figure.Figure at 0x117490110>"
      ]
     },
     "metadata": {},
     "output_type": "display_data"
    }
   ],
   "source": [
    "col_target(\"Code formation_p\", data)"
   ]
  },
  {
   "cell_type": "code",
   "execution_count": 330,
   "metadata": {
    "collapsed": false
   },
   "outputs": [
    {
     "data": {
      "text/plain": [
       "3 : Commerce / Finance / Gestion                                                   370\n",
       "1 : Ingénieurs / Sciences dures                                                    278\n",
       "4 : Sciences politiques / Droit                                                    167\n",
       "5 : Sciences humaines et Sociales (anciennement lettres, histoire, philo, arts)     77\n",
       "2 : Sciences du vivant                                                              46\n",
       "6 : Autres                                                                          24\n",
       "Name: Code formation_f, dtype: int64"
      ]
     },
     "execution_count": 330,
     "metadata": {},
     "output_type": "execute_result"
    }
   ],
   "source": [
    "data[\"Code formation_f\"].value_counts()"
   ]
  },
  {
   "cell_type": "code",
   "execution_count": 331,
   "metadata": {
    "collapsed": false
   },
   "outputs": [
    {
     "data": {
      "image/png": "[encoded data removed]",
      "text/plain": [
       "<matplotlib.figure.Figure at 0x11ae9c190>"
      ]
     },
     "metadata": {},
     "output_type": "display_data"
    }
   ],
   "source": [
    "col_target(\"Code formation_f\", data)"
   ]
  },
  {
   "cell_type": "code",
   "execution_count": 332,
   "metadata": {
    "collapsed": false
   },
   "outputs": [],
   "source": [
    "data[\"code_formation_egal\"] = data.apply(lambda row: 1 if row[\"Code formation_f\"] == row[\"Code formation_p\"] else 0, axis=1)"
   ]
  },
  {
   "cell_type": "code",
   "execution_count": 333,
   "metadata": {
    "collapsed": false
   },
   "outputs": [
    {
     "data": {
      "text/plain": [
       "1    886\n",
       "0     76\n",
       "Name: code_formation_egal, dtype: int64"
      ]
     },
     "execution_count": 333,
     "metadata": {},
     "output_type": "execute_result"
    }
   ],
   "source": [
    "data[\"code_formation_egal\"].value_counts()"
   ]
  },
  {
   "cell_type": "code",
   "execution_count": 334,
   "metadata": {
    "collapsed": false
   },
   "outputs": [
    {
     "data": {
      "image/png": "[encoded data removed]",
      "text/plain": [
       "<matplotlib.figure.Figure at 0x11658cfd0>"
      ]
     },
     "metadata": {},
     "output_type": "display_data"
    }
   ],
   "source": [
    "col_target(\"code_formation_egal\", data)"
   ]
  },
  {
   "cell_type": "markdown",
   "metadata": {},
   "source": [
    "## Analyse projet motivation filleul / activité parrain"
   ]
  },
  {
   "cell_type": "code",
   "execution_count": 335,
   "metadata": {
    "collapsed": false
   },
   "outputs": [],
   "source": [
    "from nltk.corpus import stopwords\n",
    "from nltk.tokenize import word_tokenize\n",
    "from nltk.tokenize import TreebankWordTokenizer\n",
    "\n",
    "\n",
    "\n",
    "import nltk.stem"
   ]
  },
  {
   "cell_type": "code",
   "execution_count": 336,
   "metadata": {
    "collapsed": true
   },
   "outputs": [],
   "source": [
    "stem = nltk.stem.snowball.FrenchStemmer(ignore_stopwords=True)"
   ]
  },
  {
   "cell_type": "code",
   "execution_count": 337,
   "metadata": {
    "collapsed": true
   },
   "outputs": [],
   "source": [
    "stop = [word for word in stopwords.words('french')]"
   ]
  },
  {
   "cell_type": "code",
   "execution_count": 338,
   "metadata": {
    "collapsed": false
   },
   "outputs": [],
   "source": [
    "def get_similitude_projet_activite(projet, activite):\n",
    "    \"\"\"\n",
    "    projet : motivation du filleul\n",
    "    activite : activité du parrain\n",
    "    -----------\n",
    "    Stem all word in description.\n",
    "    If match with this stem description (1 word activite in projet) return 1 else 0.\n",
    "    \n",
    "    If projet or activite is NaN, return 0\n",
    "    \"\"\"\n",
    "    if projet is np.nan:\n",
    "        return 0\n",
    "    if activite is np.nan:\n",
    "        return 0\n",
    "    projet_stem = [stem.stem(word) for word in word_tokenize(projet) if word not in stop]\n",
    "    activite_stem = [stem.stem(word) for word in word_tokenize(activite) if word not in stop]\n",
    "    \n",
    "    if len(set(activite_stem).intersection(projet_stem)) >= 1:\n",
    "        return 1\n",
    "    else:\n",
    "        return 0"
   ]
  },
  {
   "cell_type": "code",
   "execution_count": 339,
   "metadata": {
    "collapsed": false
   },
   "outputs": [],
   "source": [
    "data[\"projet_f_activite_p_egal\"] = data.apply(lambda row: get_similitude_projet_activite(row[\"Projet professionnel\"],\n",
    "                                                                                        row[u\"Secteur d'activité\"]),\n",
    "                                             axis=1)"
   ]
  },
  {
   "cell_type": "code",
   "execution_count": 340,
   "metadata": {
    "collapsed": false
   },
   "outputs": [
    {
     "data": {
      "text/plain": [
       "0    765\n",
       "1    197\n",
       "Name: projet_f_activite_p_egal, dtype: int64"
      ]
     },
     "execution_count": 340,
     "metadata": {},
     "output_type": "execute_result"
    }
   ],
   "source": [
    "data[\"projet_f_activite_p_egal\"].value_counts()"
   ]
  },
  {
   "cell_type": "code",
   "execution_count": 341,
   "metadata": {
    "collapsed": false
   },
   "outputs": [
    {
     "data": {
      "image/png": "[encoded data removed]",
      "text/plain": [
       "<matplotlib.figure.Figure at 0x11bd708d0>"
      ]
     },
     "metadata": {},
     "output_type": "display_data"
    }
   ],
   "source": [
    "col_target(\"projet_f_activite_p_egal\", data)"
   ]
  },
  {
   "cell_type": "markdown",
   "metadata": {},
   "source": [
    "## Analyse projet motivation filleul / activité parrain précédente"
   ]
  },
  {
   "cell_type": "code",
   "execution_count": 344,
   "metadata": {
    "collapsed": false
   },
   "outputs": [],
   "source": [
    "data[\"projet_f_activite_pre_p_egal\"] = data.apply(lambda row: get_similitude_projet_activite(row[\"Projet professionnel\"],\n",
    "                                                                                        row[u\"Fonction précédente\"]),\n",
    "                                             axis=1)"
   ]
  },
  {
   "cell_type": "code",
   "execution_count": 345,
   "metadata": {
    "collapsed": false
   },
   "outputs": [
    {
     "data": {
      "text/plain": [
       "0    898\n",
       "1     64\n",
       "Name: projet_f_activite_pre_p_egal, dtype: int64"
      ]
     },
     "execution_count": 345,
     "metadata": {},
     "output_type": "execute_result"
    }
   ],
   "source": [
    "data[\"projet_f_activite_pre_p_egal\"].value_counts()"
   ]
  },
  {
   "cell_type": "code",
   "execution_count": 346,
   "metadata": {
    "collapsed": false,
    "scrolled": true
   },
   "outputs": [
    {
     "data": {
      "image/png": "[encoded data removed]",
      "text/plain": [
       "<matplotlib.figure.Figure at 0x11c023150>"
      ]
     },
     "metadata": {},
     "output_type": "display_data"
    }
   ],
   "source": [
    "col_target(\"projet_f_activite_pre_p_egal\", data)"
   ]
  },
  {
   "cell_type": "markdown",
   "metadata": {},
   "source": [
    "## Analyse projet motivation filleul / activité parrain (précédent ou non)"
   ]
  },
  {
   "cell_type": "code",
   "execution_count": 347,
   "metadata": {
    "collapsed": true
   },
   "outputs": [],
   "source": [
    "data['projet_f_activite_p_egal_all'] = 0"
   ]
  },
  {
   "cell_type": "code",
   "execution_count": 348,
   "metadata": {
    "collapsed": false
   },
   "outputs": [],
   "source": [
    "data.loc[(data[\"projet_f_activite_p_egal\"] == 1) | (data[\"projet_f_activite_pre_p_egal\"] == 1), 'projet_f_activite_p_egal_all'] = 1"
   ]
  },
  {
   "cell_type": "code",
   "execution_count": 349,
   "metadata": {
    "collapsed": false
   },
   "outputs": [
    {
     "data": {
      "text/plain": [
       "projet_f_activite_pre_p_egal  projet_f_activite_p_egal\n",
       "0                             0                           717\n",
       "                              1                           181\n",
       "1                             0                            48\n",
       "                              1                            16\n",
       "dtype: int64"
      ]
     },
     "execution_count": 349,
     "metadata": {},
     "output_type": "execute_result"
    }
   ],
   "source": [
    "data.groupby([\"projet_f_activite_pre_p_egal\", \"projet_f_activite_p_egal\"]).size()"
   ]
  },
  {
   "cell_type": "code",
   "execution_count": 350,
   "metadata": {
    "collapsed": false
   },
   "outputs": [
    {
     "data": {
      "text/plain": [
       "0    717\n",
       "1    245\n",
       "Name: projet_f_activite_p_egal_all, dtype: int64"
      ]
     },
     "execution_count": 350,
     "metadata": {},
     "output_type": "execute_result"
    }
   ],
   "source": [
    "data[\"projet_f_activite_p_egal_all\"].value_counts()"
   ]
  },
  {
   "cell_type": "code",
   "execution_count": 351,
   "metadata": {
    "collapsed": false
   },
   "outputs": [
    {
     "data": {
      "image/png": "[encoded data removed]",
      "text/plain": [
       "<matplotlib.figure.Figure at 0x11c01ddd0>"
      ]
     },
     "metadata": {},
     "output_type": "display_data"
    }
   ],
   "source": [
    "col_target(\"projet_f_activite_p_egal_all\", data)"
   ]
  },
  {
   "cell_type": "markdown",
   "metadata": {},
   "source": [
    "## Connaissance de Frateli (filleul)"
   ]
  },
  {
   "cell_type": "code",
   "execution_count": 352,
   "metadata": {
    "collapsed": false
   },
   "outputs": [
    {
     "data": {
      "text/plain": [
       "Autre                                            236\n",
       "Par un autre filleul                             162\n",
       "Lors d'une visite de Frateli en terminale        155\n",
       "Par l'équipe enseignante de mon établissement    106\n",
       "Par la plaquette CNOUS                            98\n",
       "Par le bouche à oreille                           85\n",
       "Lors d'une visite de Frateli en prépa             84\n",
       "Sur internet                                      36\n",
       "Name: Connaissance du programme Frateli, dtype: int64"
      ]
     },
     "execution_count": 352,
     "metadata": {},
     "output_type": "execute_result"
    }
   ],
   "source": [
    "data[\"Connaissance du programme Frateli\"].value_counts()"
   ]
  },
  {
   "cell_type": "code",
   "execution_count": 353,
   "metadata": {
    "collapsed": false
   },
   "outputs": [
    {
     "data": {
      "image/png": "[encoded data removed]",
      "text/plain": [
       "<matplotlib.figure.Figure at 0x11f28e8d0>"
      ]
     },
     "metadata": {},
     "output_type": "display_data"
    }
   ],
   "source": [
    "col_target(\"Connaissance du programme Frateli\", data)"
   ]
  },
  {
   "cell_type": "code",
   "execution_count": 354,
   "metadata": {
    "collapsed": false
   },
   "outputs": [
    {
     "data": {
      "image/png": "[encoded data removed]",
      "text/plain": [
       "<matplotlib.figure.Figure at 0x11fb93290>"
      ]
     },
     "metadata": {},
     "output_type": "display_data"
    }
   ],
   "source": [
    "col_target_q(\"Connaissance du programme Frateli\", data)"
   ]
  },
  {
   "cell_type": "markdown",
   "metadata": {},
   "source": [
    "## Analyse similitude de niveau d'étude"
   ]
  },
  {
   "cell_type": "code",
   "execution_count": 355,
   "metadata": {
    "collapsed": false
   },
   "outputs": [
    {
     "data": {
      "text/plain": [
       "Bac +5               811\n",
       "Bac +6                45\n",
       "Bac +8 et au-delà     38\n",
       "Bac +4                30\n",
       "Bac +7                26\n",
       "Bac +3                 5\n",
       "1er emploi             2\n",
       "Bac +2                 1\n",
       "Bac +1                 1\n",
       "Name: Niveau diplôme, dtype: int64"
      ]
     },
     "execution_count": 355,
     "metadata": {},
     "output_type": "execute_result"
    }
   ],
   "source": [
    "# Parrain\n",
    "data[u\"Niveau diplôme\"].value_counts()"
   ]
  },
  {
   "cell_type": "code",
   "execution_count": 356,
   "metadata": {
    "collapsed": false
   },
   "outputs": [
    {
     "data": {
      "text/plain": [
       "Bac +3               202\n",
       "Bac +2               192\n",
       "Bac +4               187\n",
       "Bac +1               170\n",
       "Bac +5               155\n",
       "Bac +6                25\n",
       "1er emploi            23\n",
       "Bac +7                 6\n",
       "Bac +8 et au-delà      1\n",
       "Terminale              1\n",
       "Name: Niveau, dtype: int64"
      ]
     },
     "execution_count": 356,
     "metadata": {},
     "output_type": "execute_result"
    }
   ],
   "source": [
    "# Filleul\n",
    "data[\"Niveau\"].value_counts()"
   ]
  },
  {
   "cell_type": "code",
   "execution_count": 733,
   "metadata": {
    "collapsed": true
   },
   "outputs": [],
   "source": [
    "data[\"niveau_etude_egal\"] = data.apply(lambda row: 1 if row[u\"Niveau diplôme\"] == row[u\"Niveau\"] else 0, axis=1)"
   ]
  },
  {
   "cell_type": "code",
   "execution_count": 734,
   "metadata": {
    "collapsed": false
   },
   "outputs": [
    {
     "data": {
      "text/plain": [
       "0    823\n",
       "1    139\n",
       "Name: niveau_etude_egal, dtype: int64"
      ]
     },
     "execution_count": 734,
     "metadata": {},
     "output_type": "execute_result"
    }
   ],
   "source": [
    "data[\"niveau_etude_egal\"].value_counts()"
   ]
  },
  {
   "cell_type": "code",
   "execution_count": 735,
   "metadata": {
    "collapsed": false
   },
   "outputs": [
    {
     "data": {
      "image/png": "[encoded data removed]",
      "text/plain": [
       "<matplotlib.figure.Figure at 0x121c6d450>"
      ]
     },
     "metadata": {},
     "output_type": "display_data"
    }
   ],
   "source": [
    "col_target(\"niveau_etude_egal\", data)"
   ]
  },
  {
   "cell_type": "code",
   "execution_count": 360,
   "metadata": {
    "collapsed": false
   },
   "outputs": [
    {
     "data": {
      "image/png": "[encoded data removed]",
      "text/plain": [
       "<matplotlib.figure.Figure at 0x11f6b4510>"
      ]
     },
     "metadata": {},
     "output_type": "display_data"
    }
   ],
   "source": [
    "col_target_q(\"niveau_etude_egal\", data)"
   ]
  },
  {
   "cell_type": "code",
   "execution_count": null,
   "metadata": {
    "collapsed": true
   },
   "outputs": [],
   "source": [
    "data[\"niveau_etude_egal\"] = "
   ]
  },
  {
   "cell_type": "markdown",
   "metadata": {},
   "source": [
    "## Analyse similitude de niveau d'étude (différence)"
   ]
  },
  {
   "cell_type": "code",
   "execution_count": 361,
   "metadata": {
    "collapsed": false
   },
   "outputs": [],
   "source": [
    "map_niveau = {\"Bac +3\" : 3,\n",
    "                \"Bac +2\" : 2,\n",
    "                \"Bac +4\" : 4,\n",
    "                \"Bac +1\" : 1,\n",
    "                \"Bac +5\" : 5,\n",
    "                \"Bac +6\" : 6,\n",
    "                \"1er emploi\" : 0,\n",
    "                \"Bac +7\" : 7,\n",
    "                u\"Bac +8 et au-del\\xe0\" : 8,\n",
    "                \"Terminale\" : 0}"
   ]
  },
  {
   "cell_type": "code",
   "execution_count": 362,
   "metadata": {
    "collapsed": false
   },
   "outputs": [
    {
     "data": {
      "text/plain": [
       "238    Bac +8 et au-delà\n",
       "Name: Niveau, dtype: object"
      ]
     },
     "execution_count": 362,
     "metadata": {},
     "output_type": "execute_result"
    }
   ],
   "source": [
    "data[\"Niveau\"][data.Niveau.str.contains(\"8\")]"
   ]
  },
  {
   "cell_type": "code",
   "execution_count": 363,
   "metadata": {
    "collapsed": false
   },
   "outputs": [
    {
     "data": {
      "text/plain": [
       "8"
      ]
     },
     "execution_count": 363,
     "metadata": {},
     "output_type": "execute_result"
    }
   ],
   "source": [
    "map_niveau.get(data[\"Niveau\"].iloc[238])"
   ]
  },
  {
   "cell_type": "code",
   "execution_count": 364,
   "metadata": {
    "collapsed": false
   },
   "outputs": [],
   "source": [
    "# Filleul\n",
    "data[\"Niveau_num\"] = data[\"Niveau\"].apply(lambda x: map_niveau.get(x))"
   ]
  },
  {
   "cell_type": "code",
   "execution_count": 645,
   "metadata": {
    "collapsed": false
   },
   "outputs": [],
   "source": [
    "# Parrain\n",
    "data[u\"Niveau_diplome_num\"] = data[u\"Niveau diplôme\"].apply(lambda x: map_niveau.get(x, -1)) # if Nan -> -1"
   ]
  },
  {
   "cell_type": "code",
   "execution_count": 647,
   "metadata": {
    "collapsed": false
   },
   "outputs": [
    {
     "data": {
      "text/plain": [
       "Bac +5               811\n",
       "Bac +6                45\n",
       "Bac +8 et au-delà     38\n",
       "Bac +4                30\n",
       "Bac +7                26\n",
       "Bac +3                 5\n",
       "1er emploi             2\n",
       "Bac +2                 1\n",
       "Bac +1                 1\n",
       "Name: Niveau diplôme, dtype: int64"
      ]
     },
     "execution_count": 647,
     "metadata": {},
     "output_type": "execute_result"
    }
   ],
   "source": [
    "data[u\"Niveau diplôme\"].value_counts()"
   ]
  },
  {
   "cell_type": "code",
   "execution_count": 367,
   "metadata": {
    "collapsed": false
   },
   "outputs": [],
   "source": [
    "data[\"diff_niveau_etude_num\"] = data[\"Niveau_num\"] - data[u\"Niveau_diplome_num\"]"
   ]
  },
  {
   "cell_type": "code",
   "execution_count": 368,
   "metadata": {
    "collapsed": false
   },
   "outputs": [
    {
     "data": {
      "text/plain": [
       "<seaborn.axisgrid.FacetGrid at 0x11f4313d0>"
      ]
     },
     "execution_count": 368,
     "metadata": {},
     "output_type": "execute_result"
    },
    {
     "data": {
      "image/png": "[encoded data removed]",
      "text/plain": [
       "<matplotlib.figure.Figure at 0x11bdba610>"
      ]
     },
     "metadata": {},
     "output_type": "display_data"
    }
   ],
   "source": [
    "pal = [\"g\", \"r\"]\n",
    "facet = sns.FacetGrid(data, hue=\"target\",aspect=4, palette=pal)\n",
    "facet.map(sns.kdeplot,'diff_niveau_etude_num',shade= True)\n",
    "facet.add_legend()"
   ]
  },
  {
   "cell_type": "markdown",
   "metadata": {},
   "source": [
    "## Clustering des Filleuls"
   ]
  },
  {
   "cell_type": "code",
   "execution_count": 495,
   "metadata": {
    "collapsed": true
   },
   "outputs": [],
   "source": [
    "from sklearn.preprocessing import StandardScaler, LabelEncoder"
   ]
  },
  {
   "cell_type": "code",
   "execution_count": 594,
   "metadata": {
    "collapsed": true
   },
   "outputs": [],
   "source": [
    "features_f = [\"Sexe\", \"group_formation_f\", \"Niveau_num\", \"Code formation_f\" ,\n",
    "              \"age_f\", u\"Nombre de frères et soeurs\"]\n",
    "            # Boursier de l'enseignement supérieur\n",
    "            # Bousier de l'enseignement secondaire\n",
    "            # Ordinateur disponible\n",
    "            # Internet disponible\n",
    "            \n",
    "features_f_continus = [\"Niveau_num\", \"age_f\", u\"Nombre de frères et soeurs\"]\n"
   ]
  },
  {
   "cell_type": "code",
   "execution_count": 595,
   "metadata": {
    "collapsed": false
   },
   "outputs": [
    {
     "data": {
      "text/html": [
       "<div>\n",
       "<table border=\"1\" class=\"dataframe\">\n",
       "  <thead>\n",
       "    <tr style=\"text-align: right;\">\n",
       "      <th></th>\n",
       "      <th>Sexe</th>\n",
       "      <th>group_formation_f</th>\n",
       "      <th>Niveau_num</th>\n",
       "      <th>Code formation_f</th>\n",
       "      <th>age_f</th>\n",
       "      <th>Nombre de frères et soeurs</th>\n",
       "    </tr>\n",
       "  </thead>\n",
       "  <tbody>\n",
       "    <tr>\n",
       "      <th>0</th>\n",
       "      <td>F</td>\n",
       "      <td>autre</td>\n",
       "      <td>1</td>\n",
       "      <td>3 : Commerce / Finance / Gestion</td>\n",
       "      <td>20</td>\n",
       "      <td>4.0</td>\n",
       "    </tr>\n",
       "    <tr>\n",
       "      <th>1</th>\n",
       "      <td>H</td>\n",
       "      <td>ecole</td>\n",
       "      <td>5</td>\n",
       "      <td>3 : Commerce / Finance / Gestion</td>\n",
       "      <td>25</td>\n",
       "      <td>4.0</td>\n",
       "    </tr>\n",
       "    <tr>\n",
       "      <th>2</th>\n",
       "      <td>H</td>\n",
       "      <td>ecole</td>\n",
       "      <td>4</td>\n",
       "      <td>3 : Commerce / Finance / Gestion</td>\n",
       "      <td>23</td>\n",
       "      <td>4.0</td>\n",
       "    </tr>\n",
       "    <tr>\n",
       "      <th>3</th>\n",
       "      <td>F</td>\n",
       "      <td>ecole</td>\n",
       "      <td>1</td>\n",
       "      <td>3 : Commerce / Finance / Gestion</td>\n",
       "      <td>19</td>\n",
       "      <td>1.0</td>\n",
       "    </tr>\n",
       "    <tr>\n",
       "      <th>4</th>\n",
       "      <td>H</td>\n",
       "      <td>ecole</td>\n",
       "      <td>4</td>\n",
       "      <td>3 : Commerce / Finance / Gestion</td>\n",
       "      <td>22</td>\n",
       "      <td>2.0</td>\n",
       "    </tr>\n",
       "  </tbody>\n",
       "</table>\n",
       "</div>"
      ],
      "text/plain": [
       "  Sexe group_formation_f  Niveau_num                  Code formation_f  age_f  \\\n",
       "0    F             autre           1  3 : Commerce / Finance / Gestion     20   \n",
       "1    H             ecole           5  3 : Commerce / Finance / Gestion     25   \n",
       "2    H             ecole           4  3 : Commerce / Finance / Gestion     23   \n",
       "3    F             ecole           1  3 : Commerce / Finance / Gestion     19   \n",
       "4    H             ecole           4  3 : Commerce / Finance / Gestion     22   \n",
       "\n",
       "   Nombre de frères et soeurs  \n",
       "0                         4.0  \n",
       "1                         4.0  \n",
       "2                         4.0  \n",
       "3                         1.0  \n",
       "4                         2.0  "
      ]
     },
     "execution_count": 595,
     "metadata": {},
     "output_type": "execute_result"
    }
   ],
   "source": [
    "filleul = data[features_f].copy()\n",
    "filleul.head()"
   ]
  },
  {
   "cell_type": "code",
   "execution_count": 596,
   "metadata": {
    "collapsed": false
   },
   "outputs": [],
   "source": [
    "# If no value then \"Nombre de frères et soeurs\" = 0\n",
    "filleul.loc[pd.isnull(filleul[u\"Nombre de frères et soeurs\"]), u\"Nombre de frères et soeurs\"] = 0"
   ]
  },
  {
   "cell_type": "code",
   "execution_count": 597,
   "metadata": {
    "collapsed": false
   },
   "outputs": [
    {
     "data": {
      "text/html": [
       "<div>\n",
       "<table border=\"1\" class=\"dataframe\">\n",
       "  <thead>\n",
       "    <tr style=\"text-align: right;\">\n",
       "      <th></th>\n",
       "      <th>Niveau_num</th>\n",
       "      <th>age_f</th>\n",
       "      <th>Nombre de frères et soeurs</th>\n",
       "    </tr>\n",
       "  </thead>\n",
       "  <tbody>\n",
       "    <tr>\n",
       "      <th>0</th>\n",
       "      <td>1</td>\n",
       "      <td>20</td>\n",
       "      <td>4.0</td>\n",
       "    </tr>\n",
       "    <tr>\n",
       "      <th>1</th>\n",
       "      <td>5</td>\n",
       "      <td>25</td>\n",
       "      <td>4.0</td>\n",
       "    </tr>\n",
       "    <tr>\n",
       "      <th>2</th>\n",
       "      <td>4</td>\n",
       "      <td>23</td>\n",
       "      <td>4.0</td>\n",
       "    </tr>\n",
       "    <tr>\n",
       "      <th>3</th>\n",
       "      <td>1</td>\n",
       "      <td>19</td>\n",
       "      <td>1.0</td>\n",
       "    </tr>\n",
       "    <tr>\n",
       "      <th>4</th>\n",
       "      <td>4</td>\n",
       "      <td>22</td>\n",
       "      <td>2.0</td>\n",
       "    </tr>\n",
       "  </tbody>\n",
       "</table>\n",
       "</div>"
      ],
      "text/plain": [
       "   Niveau_num  age_f  Nombre de frères et soeurs\n",
       "0           1     20                         4.0\n",
       "1           5     25                         4.0\n",
       "2           4     23                         4.0\n",
       "3           1     19                         1.0\n",
       "4           4     22                         2.0"
      ]
     },
     "execution_count": 597,
     "metadata": {},
     "output_type": "execute_result"
    }
   ],
   "source": [
    "filleul[features_f_continus].head()"
   ]
  },
  {
   "cell_type": "code",
   "execution_count": 598,
   "metadata": {
    "collapsed": false
   },
   "outputs": [
    {
     "name": "stderr",
     "output_type": "stream",
     "text": [
      "/Users/babou/anaconda/lib/python2.7/site-packages/sklearn/utils/validation.py:420: DataConversionWarning: Data with input dtype int64 was converted to float64 by StandardScaler.\n",
      "  warnings.warn(msg, DataConversionWarning)\n",
      "/Users/babou/anaconda/lib/python2.7/site-packages/sklearn/preprocessing/data.py:583: DeprecationWarning: Passing 1d arrays as data is deprecated in 0.17 and will raise ValueError in 0.19. Reshape your data either using X.reshape(-1, 1) if your data has a single feature or X.reshape(1, -1) if it contains a single sample.\n",
      "  warnings.warn(DEPRECATION_MSG_1D, DeprecationWarning)\n",
      "/Users/babou/anaconda/lib/python2.7/site-packages/sklearn/utils/validation.py:420: DataConversionWarning: Data with input dtype int64 was converted to float64 by StandardScaler.\n",
      "  warnings.warn(msg, DataConversionWarning)\n",
      "/Users/babou/anaconda/lib/python2.7/site-packages/sklearn/preprocessing/data.py:646: DeprecationWarning: Passing 1d arrays as data is deprecated in 0.17 and will raise ValueError in 0.19. Reshape your data either using X.reshape(-1, 1) if your data has a single feature or X.reshape(1, -1) if it contains a single sample.\n",
      "  warnings.warn(DEPRECATION_MSG_1D, DeprecationWarning)\n",
      "/Users/babou/anaconda/lib/python2.7/site-packages/sklearn/utils/validation.py:420: DataConversionWarning: Data with input dtype int64 was converted to float64 by StandardScaler.\n",
      "  warnings.warn(msg, DataConversionWarning)\n",
      "/Users/babou/anaconda/lib/python2.7/site-packages/sklearn/preprocessing/data.py:583: DeprecationWarning: Passing 1d arrays as data is deprecated in 0.17 and will raise ValueError in 0.19. Reshape your data either using X.reshape(-1, 1) if your data has a single feature or X.reshape(1, -1) if it contains a single sample.\n",
      "  warnings.warn(DEPRECATION_MSG_1D, DeprecationWarning)\n",
      "/Users/babou/anaconda/lib/python2.7/site-packages/sklearn/utils/validation.py:420: DataConversionWarning: Data with input dtype int64 was converted to float64 by StandardScaler.\n",
      "  warnings.warn(msg, DataConversionWarning)\n",
      "/Users/babou/anaconda/lib/python2.7/site-packages/sklearn/preprocessing/data.py:646: DeprecationWarning: Passing 1d arrays as data is deprecated in 0.17 and will raise ValueError in 0.19. Reshape your data either using X.reshape(-1, 1) if your data has a single feature or X.reshape(1, -1) if it contains a single sample.\n",
      "  warnings.warn(DEPRECATION_MSG_1D, DeprecationWarning)\n",
      "/Users/babou/anaconda/lib/python2.7/site-packages/sklearn/preprocessing/data.py:583: DeprecationWarning: Passing 1d arrays as data is deprecated in 0.17 and will raise ValueError in 0.19. Reshape your data either using X.reshape(-1, 1) if your data has a single feature or X.reshape(1, -1) if it contains a single sample.\n",
      "  warnings.warn(DEPRECATION_MSG_1D, DeprecationWarning)\n",
      "/Users/babou/anaconda/lib/python2.7/site-packages/sklearn/preprocessing/data.py:646: DeprecationWarning: Passing 1d arrays as data is deprecated in 0.17 and will raise ValueError in 0.19. Reshape your data either using X.reshape(-1, 1) if your data has a single feature or X.reshape(1, -1) if it contains a single sample.\n",
      "  warnings.warn(DEPRECATION_MSG_1D, DeprecationWarning)\n"
     ]
    }
   ],
   "source": [
    "for col_continus in features_f_continus:\n",
    "    scaler = StandardScaler()\n",
    "    filleul[col_continus] = scaler.fit_transform(filleul[col_continus].values)"
   ]
  },
  {
   "cell_type": "code",
   "execution_count": 599,
   "metadata": {
    "collapsed": false
   },
   "outputs": [
    {
     "data": {
      "text/html": [
       "<div>\n",
       "<table border=\"1\" class=\"dataframe\">\n",
       "  <thead>\n",
       "    <tr style=\"text-align: right;\">\n",
       "      <th></th>\n",
       "      <th>Sexe</th>\n",
       "      <th>group_formation_f</th>\n",
       "      <th>Niveau_num</th>\n",
       "      <th>Code formation_f</th>\n",
       "      <th>age_f</th>\n",
       "      <th>Nombre de frères et soeurs</th>\n",
       "    </tr>\n",
       "  </thead>\n",
       "  <tbody>\n",
       "    <tr>\n",
       "      <th>0</th>\n",
       "      <td>F</td>\n",
       "      <td>autre</td>\n",
       "      <td>-1.308338</td>\n",
       "      <td>3 : Commerce / Finance / Gestion</td>\n",
       "      <td>-0.600508</td>\n",
       "      <td>1.067573</td>\n",
       "    </tr>\n",
       "    <tr>\n",
       "      <th>1</th>\n",
       "      <td>H</td>\n",
       "      <td>ecole</td>\n",
       "      <td>1.312424</td>\n",
       "      <td>3 : Commerce / Finance / Gestion</td>\n",
       "      <td>0.785501</td>\n",
       "      <td>1.067573</td>\n",
       "    </tr>\n",
       "    <tr>\n",
       "      <th>2</th>\n",
       "      <td>H</td>\n",
       "      <td>ecole</td>\n",
       "      <td>0.657234</td>\n",
       "      <td>3 : Commerce / Finance / Gestion</td>\n",
       "      <td>0.231098</td>\n",
       "      <td>1.067573</td>\n",
       "    </tr>\n",
       "    <tr>\n",
       "      <th>3</th>\n",
       "      <td>F</td>\n",
       "      <td>ecole</td>\n",
       "      <td>-1.308338</td>\n",
       "      <td>3 : Commerce / Finance / Gestion</td>\n",
       "      <td>-0.877710</td>\n",
       "      <td>-0.672131</td>\n",
       "    </tr>\n",
       "    <tr>\n",
       "      <th>4</th>\n",
       "      <td>H</td>\n",
       "      <td>ecole</td>\n",
       "      <td>0.657234</td>\n",
       "      <td>3 : Commerce / Finance / Gestion</td>\n",
       "      <td>-0.046104</td>\n",
       "      <td>-0.092230</td>\n",
       "    </tr>\n",
       "  </tbody>\n",
       "</table>\n",
       "</div>"
      ],
      "text/plain": [
       "  Sexe group_formation_f  Niveau_num                  Code formation_f  \\\n",
       "0    F             autre   -1.308338  3 : Commerce / Finance / Gestion   \n",
       "1    H             ecole    1.312424  3 : Commerce / Finance / Gestion   \n",
       "2    H             ecole    0.657234  3 : Commerce / Finance / Gestion   \n",
       "3    F             ecole   -1.308338  3 : Commerce / Finance / Gestion   \n",
       "4    H             ecole    0.657234  3 : Commerce / Finance / Gestion   \n",
       "\n",
       "      age_f  Nombre de frères et soeurs  \n",
       "0 -0.600508                    1.067573  \n",
       "1  0.785501                    1.067573  \n",
       "2  0.231098                    1.067573  \n",
       "3 -0.877710                   -0.672131  \n",
       "4 -0.046104                   -0.092230  "
      ]
     },
     "execution_count": 599,
     "metadata": {},
     "output_type": "execute_result"
    }
   ],
   "source": [
    "filleul.head()"
   ]
  },
  {
   "cell_type": "code",
   "execution_count": 600,
   "metadata": {
    "collapsed": false
   },
   "outputs": [],
   "source": [
    "# Better use dummy than LabelEncoder\n",
    "\n",
    "filleul_dummy = pd.get_dummies(filleul)\n",
    "\n",
    "#for col in filleul.columns:\n",
    "#        if filleul[col].dtype=='object':\n",
    "#            print str(col) + \" is encoded\"\n",
    "#            lbl = LabelEncoder()\n",
    "#            filleul[col] = lbl.fit_transform(filleul[col].values)\n"
   ]
  },
  {
   "cell_type": "code",
   "execution_count": 601,
   "metadata": {
    "collapsed": false
   },
   "outputs": [
    {
     "data": {
      "text/html": [
       "<div>\n",
       "<table border=\"1\" class=\"dataframe\">\n",
       "  <thead>\n",
       "    <tr style=\"text-align: right;\">\n",
       "      <th></th>\n",
       "      <th>Niveau_num</th>\n",
       "      <th>age_f</th>\n",
       "      <th>Nombre de frères et soeurs</th>\n",
       "      <th>Sexe_F</th>\n",
       "      <th>Sexe_H</th>\n",
       "      <th>group_formation_f_autre</th>\n",
       "      <th>group_formation_f_ecole</th>\n",
       "      <th>group_formation_f_institut</th>\n",
       "      <th>group_formation_f_universite</th>\n",
       "      <th>Code formation_f_1 : Ingénieurs / Sciences dures</th>\n",
       "      <th>Code formation_f_2 : Sciences du vivant</th>\n",
       "      <th>Code formation_f_3 : Commerce / Finance / Gestion</th>\n",
       "      <th>Code formation_f_4 : Sciences politiques / Droit</th>\n",
       "      <th>Code formation_f_5 : Sciences humaines et Sociales (anciennement lettres, histoire, philo, arts)</th>\n",
       "      <th>Code formation_f_6 : Autres</th>\n",
       "    </tr>\n",
       "  </thead>\n",
       "  <tbody>\n",
       "    <tr>\n",
       "      <th>0</th>\n",
       "      <td>-1.308338</td>\n",
       "      <td>-0.600508</td>\n",
       "      <td>1.067573</td>\n",
       "      <td>1.0</td>\n",
       "      <td>0.0</td>\n",
       "      <td>1.0</td>\n",
       "      <td>0.0</td>\n",
       "      <td>0.0</td>\n",
       "      <td>0.0</td>\n",
       "      <td>0.0</td>\n",
       "      <td>0.0</td>\n",
       "      <td>1.0</td>\n",
       "      <td>0.0</td>\n",
       "      <td>0.0</td>\n",
       "      <td>0.0</td>\n",
       "    </tr>\n",
       "    <tr>\n",
       "      <th>1</th>\n",
       "      <td>1.312424</td>\n",
       "      <td>0.785501</td>\n",
       "      <td>1.067573</td>\n",
       "      <td>0.0</td>\n",
       "      <td>1.0</td>\n",
       "      <td>0.0</td>\n",
       "      <td>1.0</td>\n",
       "      <td>0.0</td>\n",
       "      <td>0.0</td>\n",
       "      <td>0.0</td>\n",
       "      <td>0.0</td>\n",
       "      <td>1.0</td>\n",
       "      <td>0.0</td>\n",
       "      <td>0.0</td>\n",
       "      <td>0.0</td>\n",
       "    </tr>\n",
       "    <tr>\n",
       "      <th>2</th>\n",
       "      <td>0.657234</td>\n",
       "      <td>0.231098</td>\n",
       "      <td>1.067573</td>\n",
       "      <td>0.0</td>\n",
       "      <td>1.0</td>\n",
       "      <td>0.0</td>\n",
       "      <td>1.0</td>\n",
       "      <td>0.0</td>\n",
       "      <td>0.0</td>\n",
       "      <td>0.0</td>\n",
       "      <td>0.0</td>\n",
       "      <td>1.0</td>\n",
       "      <td>0.0</td>\n",
       "      <td>0.0</td>\n",
       "      <td>0.0</td>\n",
       "    </tr>\n",
       "    <tr>\n",
       "      <th>3</th>\n",
       "      <td>-1.308338</td>\n",
       "      <td>-0.877710</td>\n",
       "      <td>-0.672131</td>\n",
       "      <td>1.0</td>\n",
       "      <td>0.0</td>\n",
       "      <td>0.0</td>\n",
       "      <td>1.0</td>\n",
       "      <td>0.0</td>\n",
       "      <td>0.0</td>\n",
       "      <td>0.0</td>\n",
       "      <td>0.0</td>\n",
       "      <td>1.0</td>\n",
       "      <td>0.0</td>\n",
       "      <td>0.0</td>\n",
       "      <td>0.0</td>\n",
       "    </tr>\n",
       "    <tr>\n",
       "      <th>4</th>\n",
       "      <td>0.657234</td>\n",
       "      <td>-0.046104</td>\n",
       "      <td>-0.092230</td>\n",
       "      <td>0.0</td>\n",
       "      <td>1.0</td>\n",
       "      <td>0.0</td>\n",
       "      <td>1.0</td>\n",
       "      <td>0.0</td>\n",
       "      <td>0.0</td>\n",
       "      <td>0.0</td>\n",
       "      <td>0.0</td>\n",
       "      <td>1.0</td>\n",
       "      <td>0.0</td>\n",
       "      <td>0.0</td>\n",
       "      <td>0.0</td>\n",
       "    </tr>\n",
       "  </tbody>\n",
       "</table>\n",
       "</div>"
      ],
      "text/plain": [
       "   Niveau_num     age_f  Nombre de frères et soeurs  Sexe_F  Sexe_H  \\\n",
       "0   -1.308338 -0.600508                    1.067573     1.0     0.0   \n",
       "1    1.312424  0.785501                    1.067573     0.0     1.0   \n",
       "2    0.657234  0.231098                    1.067573     0.0     1.0   \n",
       "3   -1.308338 -0.877710                   -0.672131     1.0     0.0   \n",
       "4    0.657234 -0.046104                   -0.092230     0.0     1.0   \n",
       "\n",
       "   group_formation_f_autre  group_formation_f_ecole  \\\n",
       "0                      1.0                      0.0   \n",
       "1                      0.0                      1.0   \n",
       "2                      0.0                      1.0   \n",
       "3                      0.0                      1.0   \n",
       "4                      0.0                      1.0   \n",
       "\n",
       "   group_formation_f_institut  group_formation_f_universite  \\\n",
       "0                         0.0                           0.0   \n",
       "1                         0.0                           0.0   \n",
       "2                         0.0                           0.0   \n",
       "3                         0.0                           0.0   \n",
       "4                         0.0                           0.0   \n",
       "\n",
       "   Code formation_f_1 : Ingénieurs / Sciences dures  \\\n",
       "0                                               0.0   \n",
       "1                                               0.0   \n",
       "2                                               0.0   \n",
       "3                                               0.0   \n",
       "4                                               0.0   \n",
       "\n",
       "   Code formation_f_2 : Sciences du vivant  \\\n",
       "0                                      0.0   \n",
       "1                                      0.0   \n",
       "2                                      0.0   \n",
       "3                                      0.0   \n",
       "4                                      0.0   \n",
       "\n",
       "   Code formation_f_3 : Commerce / Finance / Gestion  \\\n",
       "0                                                1.0   \n",
       "1                                                1.0   \n",
       "2                                                1.0   \n",
       "3                                                1.0   \n",
       "4                                                1.0   \n",
       "\n",
       "   Code formation_f_4 : Sciences politiques / Droit  \\\n",
       "0                                               0.0   \n",
       "1                                               0.0   \n",
       "2                                               0.0   \n",
       "3                                               0.0   \n",
       "4                                               0.0   \n",
       "\n",
       "   Code formation_f_5 : Sciences humaines et Sociales (anciennement lettres, histoire, philo, arts)  \\\n",
       "0                                                0.0                                                  \n",
       "1                                                0.0                                                  \n",
       "2                                                0.0                                                  \n",
       "3                                                0.0                                                  \n",
       "4                                                0.0                                                  \n",
       "\n",
       "   Code formation_f_6 : Autres  \n",
       "0                          0.0  \n",
       "1                          0.0  \n",
       "2                          0.0  \n",
       "3                          0.0  \n",
       "4                          0.0  "
      ]
     },
     "execution_count": 601,
     "metadata": {},
     "output_type": "execute_result"
    }
   ],
   "source": [
    "filleul_dummy.head()\n",
    "#filleul.head()"
   ]
  },
  {
   "cell_type": "code",
   "execution_count": 602,
   "metadata": {
    "collapsed": false
   },
   "outputs": [],
   "source": [
    "from sklearn.decomposition import PCA\n",
    "from sklearn.cluster import KMeans\n"
   ]
  },
  {
   "cell_type": "code",
   "execution_count": 603,
   "metadata": {
    "collapsed": false
   },
   "outputs": [],
   "source": [
    "pca = PCA(n_components=9).fit(filleul_dummy.values)\n",
    "X_pca = pca.transform(filleul_dummy.values)\n",
    "k_means = KMeans(init='k-means++', n_clusters=5).fit(X_pca)\n"
   ]
  },
  {
   "cell_type": "code",
   "execution_count": 604,
   "metadata": {
    "collapsed": false
   },
   "outputs": [
    {
     "name": "stdout",
     "output_type": "stream",
     "text": [
      "[ 0.31622437  0.20711639  0.11646109  0.11204219  0.07135688  0.05953058\n",
      "  0.04200243  0.03166671  0.01825089]\n",
      "0.974651527711\n"
     ]
    }
   ],
   "source": [
    "print pca.explained_variance_ratio_\n",
    "print pca.explained_variance_ratio_.sum()"
   ]
  },
  {
   "cell_type": "code",
   "execution_count": 605,
   "metadata": {
    "collapsed": false
   },
   "outputs": [],
   "source": [
    "#distortions = []\n",
    "#for i in range (1, 15):\n",
    "#    km = k_means = KMeans(init='k-means++', n_clusters=i, n_init=10).fit(X_pca)\n",
    "#    distortions.append(km.inertia_)\n",
    "#plt.plot(range(1, 15), distortions, marker='o')\n",
    "#plt.xlabel('Number of cluster')\n",
    "#plt.ylabel('Distortion')\n",
    "#plt.show()"
   ]
  },
  {
   "cell_type": "markdown",
   "metadata": {},
   "source": [
    "#### Prendre 5 ou 6 cluster pour les filleuls"
   ]
  },
  {
   "cell_type": "code",
   "execution_count": 606,
   "metadata": {
    "collapsed": true
   },
   "outputs": [],
   "source": [
    "filleul[\"cluster\"] = k_means.labels_\n",
    "filleul[\"pca_1\"] =  X_pca[:,0]\n",
    "filleul[\"pca_2\"] =  X_pca[:,1]\n",
    "filleul[\"pca_3\"] =  X_pca[:,2]"
   ]
  },
  {
   "cell_type": "code",
   "execution_count": 608,
   "metadata": {
    "collapsed": false
   },
   "outputs": [],
   "source": [
    "#filleul.groupby('cluster').describe()"
   ]
  },
  {
   "cell_type": "code",
   "execution_count": 609,
   "metadata": {
    "collapsed": true
   },
   "outputs": [],
   "source": [
    "k_means_labels = k_means.labels_\n",
    "k_means_cluster_centers = k_means.cluster_centers_\n",
    "k_means_labels_unique = np.unique(k_means_labels)"
   ]
  },
  {
   "cell_type": "code",
   "execution_count": 610,
   "metadata": {
    "collapsed": true
   },
   "outputs": [],
   "source": [
    "dico_color = {0: '#4169e1',\n",
    "              1: '#4169e1',\n",
    "              2: '#00ff7f',\n",
    "              3: '#77dfc9',\n",
    "              4: '#c2cc4a',\n",
    "              5: '#ff8c00',\n",
    "              6: '#ff6d00',\n",
    "              7: '#ff4500',\n",
    "              8: '#f1ae50',\n",
    "              9: '#ffa500'\n",
    "              }\n",
    "#'#4169e1','#4169e1','#00ff7f','#c2cc4a','#ff8c00','#ff6d00','#ff4500'\n",
    "\n",
    "center_color = [col for col in dico_color.values()]\n",
    "\n",
    "color = [col for col in dico_color.values()]\n",
    "filleul[\"color\"] = filleul.cluster.map(dico_color)"
   ]
  },
  {
   "cell_type": "code",
   "execution_count": 611,
   "metadata": {
    "collapsed": false
   },
   "outputs": [
    {
     "data": {
      "text/plain": [
       "<matplotlib.text.Text at 0x120029150>"
      ]
     },
     "execution_count": 611,
     "metadata": {},
     "output_type": "execute_result"
    },
    {
     "data": {
      "image/png": "[encoded data removed]",
      "text/plain": [
       "<matplotlib.figure.Figure at 0x1200915d0>"
      ]
     },
     "metadata": {},
     "output_type": "display_data"
    }
   ],
   "source": [
    "for k, col in zip(range(k_means_labels_unique.argmax() + 1), color):\n",
    "    my_members = k_means_labels == k\n",
    "    cluster_center = k_means_cluster_centers[k]\n",
    "    plt.scatter(filleul.pca_1, filleul.pca_2, color=filleul.color,\n",
    "             marker='.', alpha=0.6)\n",
    "    plt.plot(cluster_center[0], cluster_center[1], \n",
    "         '*', markerfacecolor=col, markersize=15)\n",
    "                     \n",
    "plt.title(\"Number of Filleul's cluster %d\" % k_means.n_clusters)\n",
    "plt.xlabel('First PCA direction (%s)' % round(pca.explained_variance_ratio_[0], 2))\n",
    "plt.ylabel('Seconde PCA direction (%s)' % round(pca.explained_variance_ratio_[1], 2))"
   ]
  },
  {
   "cell_type": "code",
   "execution_count": 612,
   "metadata": {
    "collapsed": false
   },
   "outputs": [
    {
     "data": {
      "text/plain": [
       "2    356\n",
       "1    271\n",
       "4    168\n",
       "0    150\n",
       "3     17\n",
       "Name: cluster, dtype: int64"
      ]
     },
     "execution_count": 612,
     "metadata": {},
     "output_type": "execute_result"
    }
   ],
   "source": [
    "filleul.cluster.value_counts()"
   ]
  },
  {
   "cell_type": "code",
   "execution_count": 613,
   "metadata": {
    "collapsed": true
   },
   "outputs": [],
   "source": [
    "filleul['target'] = data.target"
   ]
  },
  {
   "cell_type": "code",
   "execution_count": 614,
   "metadata": {
    "collapsed": false
   },
   "outputs": [
    {
     "data": {
      "image/png": "[encoded data removed]",
      "text/plain": [
       "<matplotlib.figure.Figure at 0x120084790>"
      ]
     },
     "metadata": {},
     "output_type": "display_data"
    }
   ],
   "source": [
    "col_target(\"cluster\", filleul)"
   ]
  },
  {
   "cell_type": "code",
   "execution_count": 615,
   "metadata": {
    "collapsed": false
   },
   "outputs": [
    {
     "data": {
      "image/png": "[encoded data removed]",
      "text/plain": [
       "<matplotlib.figure.Figure at 0x11f9eb490>"
      ]
     },
     "metadata": {},
     "output_type": "display_data"
    }
   ],
   "source": [
    "col_target_q(\"cluster\", filleul)"
   ]
  },
  {
   "cell_type": "code",
   "execution_count": 619,
   "metadata": {
    "collapsed": false
   },
   "outputs": [
    {
     "data": {
      "text/plain": [
       "[]"
      ]
     },
     "execution_count": 619,
     "metadata": {},
     "output_type": "execute_result"
    },
    {
     "data": {
      "image/png": "[encoded data removed]",
      "text/plain": [
       "<matplotlib.figure.Figure at 0x1204ccc90>"
      ]
     },
     "metadata": {},
     "output_type": "display_data"
    }
   ],
   "source": [
    "from mpl_toolkits.mplot3d import Axes3D\n",
    "fig = plt.figure(1, figsize=(8, 6))\n",
    "ax = Axes3D(fig, elev=-150, azim=110)\n",
    "ax.scatter(X_pca[:, 0], X_pca[:, 1], X_pca[:, 2], c=k_means.labels_,\n",
    "           cmap=plt.cm.Paired)\n",
    "ax.set_title(\"First three PCA directions\")\n",
    "ax.set_xlabel('First PCA direction (%s)' % round(pca.explained_variance_ratio_[0], 2))\n",
    "ax.w_xaxis.set_ticklabels([])\n",
    "ax.set_ylabel('First PCA direction (%s)' % round(pca.explained_variance_ratio_[1], 2))\n",
    "ax.w_yaxis.set_ticklabels([])\n",
    "ax.set_zlabel('First PCA direction (%s)' % round(pca.explained_variance_ratio_[2], 2))\n",
    "ax.w_zaxis.set_ticklabels([])\n"
   ]
  },
  {
   "cell_type": "markdown",
   "metadata": {},
   "source": [
    "## Clustering des Parrains"
   ]
  },
  {
   "cell_type": "code",
   "execution_count": 726,
   "metadata": {
    "collapsed": true
   },
   "outputs": [],
   "source": [
    "features_p = [\"H/F\", \"group_formation_p\", \"Niveau_diplome_num\", \"Code formation_p\" ,\n",
    "              \"age_p\", u\"Secteur d'activité\", \"Fonction actuelle\", u\"A déjà eu un parrainage annulé ?\",\n",
    "             \"Temporairement indisponible\"]\n",
    "            # Niveau autre formation\n",
    "            \n",
    "features_p_continus = [\"Niveau_diplome_num\", \"age_p\"]"
   ]
  },
  {
   "cell_type": "code",
   "execution_count": 727,
   "metadata": {
    "collapsed": false
   },
   "outputs": [
    {
     "data": {
      "text/html": [
       "<div>\n",
       "<table border=\"1\" class=\"dataframe\">\n",
       "  <thead>\n",
       "    <tr style=\"text-align: right;\">\n",
       "      <th></th>\n",
       "      <th>H/F</th>\n",
       "      <th>group_formation_p</th>\n",
       "      <th>Niveau_diplome_num</th>\n",
       "      <th>Code formation_p</th>\n",
       "      <th>age_p</th>\n",
       "      <th>Secteur d'activité</th>\n",
       "      <th>Fonction actuelle</th>\n",
       "      <th>A déjà eu un parrainage annulé ?</th>\n",
       "      <th>Temporairement indisponible</th>\n",
       "    </tr>\n",
       "  </thead>\n",
       "  <tbody>\n",
       "    <tr>\n",
       "      <th>0</th>\n",
       "      <td>F</td>\n",
       "      <td>ecole</td>\n",
       "      <td>5</td>\n",
       "      <td>3 : Commerce / Finance / Gestion</td>\n",
       "      <td>27.0</td>\n",
       "      <td>Conseil / Etudes</td>\n",
       "      <td>Consultant en stratégie</td>\n",
       "      <td>Non</td>\n",
       "      <td>Non</td>\n",
       "    </tr>\n",
       "    <tr>\n",
       "      <th>1</th>\n",
       "      <td>H</td>\n",
       "      <td>ecole</td>\n",
       "      <td>5</td>\n",
       "      <td>3 : Commerce / Finance / Gestion</td>\n",
       "      <td>25.0</td>\n",
       "      <td>Conseil / Etudes</td>\n",
       "      <td>Associé</td>\n",
       "      <td>Non</td>\n",
       "      <td>Non</td>\n",
       "    </tr>\n",
       "    <tr>\n",
       "      <th>2</th>\n",
       "      <td>F</td>\n",
       "      <td>ecole</td>\n",
       "      <td>4</td>\n",
       "      <td>3 : Commerce / Finance / Gestion</td>\n",
       "      <td>33.0</td>\n",
       "      <td>Autre</td>\n",
       "      <td>Responsable marketing</td>\n",
       "      <td>Non</td>\n",
       "      <td>Oui</td>\n",
       "    </tr>\n",
       "    <tr>\n",
       "      <th>3</th>\n",
       "      <td>F</td>\n",
       "      <td>ecole</td>\n",
       "      <td>6</td>\n",
       "      <td>3 : Commerce / Finance / Gestion</td>\n",
       "      <td>35.0</td>\n",
       "      <td>Communication / Médias</td>\n",
       "      <td>Consultant en communication</td>\n",
       "      <td>Non</td>\n",
       "      <td>Non</td>\n",
       "    </tr>\n",
       "    <tr>\n",
       "      <th>4</th>\n",
       "      <td>H</td>\n",
       "      <td>ecole</td>\n",
       "      <td>5</td>\n",
       "      <td>3 : Commerce / Finance / Gestion</td>\n",
       "      <td>39.0</td>\n",
       "      <td>Autre</td>\n",
       "      <td>Président</td>\n",
       "      <td>Non</td>\n",
       "      <td>Non</td>\n",
       "    </tr>\n",
       "  </tbody>\n",
       "</table>\n",
       "</div>"
      ],
      "text/plain": [
       "  H/F group_formation_p  Niveau_diplome_num                  Code formation_p  \\\n",
       "0   F             ecole                   5  3 : Commerce / Finance / Gestion   \n",
       "1   H             ecole                   5  3 : Commerce / Finance / Gestion   \n",
       "2   F             ecole                   4  3 : Commerce / Finance / Gestion   \n",
       "3   F             ecole                   6  3 : Commerce / Finance / Gestion   \n",
       "4   H             ecole                   5  3 : Commerce / Finance / Gestion   \n",
       "\n",
       "   age_p      Secteur d'activité            Fonction actuelle  \\\n",
       "0   27.0        Conseil / Etudes      Consultant en stratégie   \n",
       "1   25.0        Conseil / Etudes                      Associé   \n",
       "2   33.0                   Autre        Responsable marketing   \n",
       "3   35.0  Communication / Médias  Consultant en communication   \n",
       "4   39.0                   Autre                    Président   \n",
       "\n",
       "  A déjà eu un parrainage annulé ? Temporairement indisponible  \n",
       "0                              Non                         Non  \n",
       "1                              Non                         Non  \n",
       "2                              Non                         Oui  \n",
       "3                              Non                         Non  \n",
       "4                              Non                         Non  "
      ]
     },
     "execution_count": 727,
     "metadata": {},
     "output_type": "execute_result"
    }
   ],
   "source": [
    "parrain = data[features_p].copy()\n",
    "parrain.head()"
   ]
  },
  {
   "cell_type": "code",
   "execution_count": 728,
   "metadata": {
    "collapsed": false
   },
   "outputs": [
    {
     "data": {
      "text/plain": [
       "H/F                                 0\n",
       "group_formation_p                   0\n",
       "Niveau_diplome_num                  0\n",
       "Code formation_p                    0\n",
       "age_p                               0\n",
       "Secteur d'activité                  0\n",
       "Fonction actuelle                   3\n",
       "A déjà eu un parrainage annulé ?    0\n",
       "Temporairement indisponible         0\n",
       "dtype: int64"
      ]
     },
     "execution_count": 728,
     "metadata": {},
     "output_type": "execute_result"
    }
   ],
   "source": [
    "pd.isnull(parrain).sum()"
   ]
  },
  {
   "cell_type": "code",
   "execution_count": 711,
   "metadata": {
    "collapsed": false
   },
   "outputs": [
    {
     "name": "stderr",
     "output_type": "stream",
     "text": [
      "/Users/babou/anaconda/lib/python2.7/site-packages/sklearn/utils/validation.py:420: DataConversionWarning: Data with input dtype int64 was converted to float64 by StandardScaler.\n",
      "  warnings.warn(msg, DataConversionWarning)\n",
      "/Users/babou/anaconda/lib/python2.7/site-packages/sklearn/preprocessing/data.py:583: DeprecationWarning: Passing 1d arrays as data is deprecated in 0.17 and will raise ValueError in 0.19. Reshape your data either using X.reshape(-1, 1) if your data has a single feature or X.reshape(1, -1) if it contains a single sample.\n",
      "  warnings.warn(DEPRECATION_MSG_1D, DeprecationWarning)\n",
      "/Users/babou/anaconda/lib/python2.7/site-packages/sklearn/utils/validation.py:420: DataConversionWarning: Data with input dtype int64 was converted to float64 by StandardScaler.\n",
      "  warnings.warn(msg, DataConversionWarning)\n",
      "/Users/babou/anaconda/lib/python2.7/site-packages/sklearn/preprocessing/data.py:646: DeprecationWarning: Passing 1d arrays as data is deprecated in 0.17 and will raise ValueError in 0.19. Reshape your data either using X.reshape(-1, 1) if your data has a single feature or X.reshape(1, -1) if it contains a single sample.\n",
      "  warnings.warn(DEPRECATION_MSG_1D, DeprecationWarning)\n",
      "/Users/babou/anaconda/lib/python2.7/site-packages/sklearn/preprocessing/data.py:583: DeprecationWarning: Passing 1d arrays as data is deprecated in 0.17 and will raise ValueError in 0.19. Reshape your data either using X.reshape(-1, 1) if your data has a single feature or X.reshape(1, -1) if it contains a single sample.\n",
      "  warnings.warn(DEPRECATION_MSG_1D, DeprecationWarning)\n",
      "/Users/babou/anaconda/lib/python2.7/site-packages/sklearn/preprocessing/data.py:646: DeprecationWarning: Passing 1d arrays as data is deprecated in 0.17 and will raise ValueError in 0.19. Reshape your data either using X.reshape(-1, 1) if your data has a single feature or X.reshape(1, -1) if it contains a single sample.\n",
      "  warnings.warn(DEPRECATION_MSG_1D, DeprecationWarning)\n"
     ]
    }
   ],
   "source": [
    "for col_continus in features_p_continus:\n",
    "    scaler = StandardScaler()\n",
    "    parrain[col_continus] = scaler.fit_transform(parrain[col_continus].values)"
   ]
  },
  {
   "cell_type": "code",
   "execution_count": 712,
   "metadata": {
    "collapsed": false
   },
   "outputs": [],
   "source": [
    "# Better use dummy than LabelEncoder\n",
    "\n",
    "parrain_dummy = pd.get_dummies(parrain)\n",
    "\n",
    "#for col in parrain.columns:\n",
    "#        if parrain[col].dtype=='object':\n",
    "#            print str(col.encode('utf-8')) + \" is encoded\"\n",
    "#            lbl = LabelEncoder()\n",
    "#            parrain[col] = lbl.fit_transform(parrain[col].values)\n"
   ]
  },
  {
   "cell_type": "code",
   "execution_count": 713,
   "metadata": {
    "collapsed": false
   },
   "outputs": [
    {
     "data": {
      "text/html": [
       "<div>\n",
       "<table border=\"1\" class=\"dataframe\">\n",
       "  <thead>\n",
       "    <tr style=\"text-align: right;\">\n",
       "      <th></th>\n",
       "      <th>Niveau_diplome_num</th>\n",
       "      <th>age_p</th>\n",
       "      <th>H/F_F</th>\n",
       "      <th>H/F_H</th>\n",
       "      <th>group_formation_p_autre</th>\n",
       "      <th>group_formation_p_ecole</th>\n",
       "      <th>group_formation_p_universite</th>\n",
       "      <th>Code formation_p_1 : Ingénieurs / Sciences dures</th>\n",
       "      <th>Code formation_p_2 : Sciences du vivant</th>\n",
       "      <th>Code formation_p_3 : Commerce / Finance / Gestion</th>\n",
       "      <th>...</th>\n",
       "      <th>Fonction actuelle_Responsable qualité</th>\n",
       "      <th>Fonction actuelle_Responsable recherche et développement</th>\n",
       "      <th>Fonction actuelle_Réalisateur</th>\n",
       "      <th>Fonction actuelle_Rédactrice</th>\n",
       "      <th>Fonction actuelle_Secrétaire général</th>\n",
       "      <th>Fonction actuelle_Trader</th>\n",
       "      <th>A déjà eu un parrainage annulé ?_Non</th>\n",
       "      <th>A déjà eu un parrainage annulé ?_Oui</th>\n",
       "      <th>Temporairement indisponible_Non</th>\n",
       "      <th>Temporairement indisponible_Oui</th>\n",
       "    </tr>\n",
       "  </thead>\n",
       "  <tbody>\n",
       "    <tr>\n",
       "      <th>0</th>\n",
       "      <td>-0.165168</td>\n",
       "      <td>-0.950358</td>\n",
       "      <td>1.0</td>\n",
       "      <td>0.0</td>\n",
       "      <td>0.0</td>\n",
       "      <td>1.0</td>\n",
       "      <td>0.0</td>\n",
       "      <td>0.0</td>\n",
       "      <td>0.0</td>\n",
       "      <td>1.0</td>\n",
       "      <td>...</td>\n",
       "      <td>0.0</td>\n",
       "      <td>0.0</td>\n",
       "      <td>0.0</td>\n",
       "      <td>0.0</td>\n",
       "      <td>0.0</td>\n",
       "      <td>0.0</td>\n",
       "      <td>1.0</td>\n",
       "      <td>0.0</td>\n",
       "      <td>1.0</td>\n",
       "      <td>0.0</td>\n",
       "    </tr>\n",
       "    <tr>\n",
       "      <th>1</th>\n",
       "      <td>-0.165168</td>\n",
       "      <td>-1.159951</td>\n",
       "      <td>0.0</td>\n",
       "      <td>1.0</td>\n",
       "      <td>0.0</td>\n",
       "      <td>1.0</td>\n",
       "      <td>0.0</td>\n",
       "      <td>0.0</td>\n",
       "      <td>0.0</td>\n",
       "      <td>1.0</td>\n",
       "      <td>...</td>\n",
       "      <td>0.0</td>\n",
       "      <td>0.0</td>\n",
       "      <td>0.0</td>\n",
       "      <td>0.0</td>\n",
       "      <td>0.0</td>\n",
       "      <td>0.0</td>\n",
       "      <td>1.0</td>\n",
       "      <td>0.0</td>\n",
       "      <td>1.0</td>\n",
       "      <td>0.0</td>\n",
       "    </tr>\n",
       "    <tr>\n",
       "      <th>2</th>\n",
       "      <td>-1.333491</td>\n",
       "      <td>-0.321579</td>\n",
       "      <td>1.0</td>\n",
       "      <td>0.0</td>\n",
       "      <td>0.0</td>\n",
       "      <td>1.0</td>\n",
       "      <td>0.0</td>\n",
       "      <td>0.0</td>\n",
       "      <td>0.0</td>\n",
       "      <td>1.0</td>\n",
       "      <td>...</td>\n",
       "      <td>0.0</td>\n",
       "      <td>0.0</td>\n",
       "      <td>0.0</td>\n",
       "      <td>0.0</td>\n",
       "      <td>0.0</td>\n",
       "      <td>0.0</td>\n",
       "      <td>1.0</td>\n",
       "      <td>0.0</td>\n",
       "      <td>0.0</td>\n",
       "      <td>1.0</td>\n",
       "    </tr>\n",
       "    <tr>\n",
       "      <th>3</th>\n",
       "      <td>1.003154</td>\n",
       "      <td>-0.111986</td>\n",
       "      <td>1.0</td>\n",
       "      <td>0.0</td>\n",
       "      <td>0.0</td>\n",
       "      <td>1.0</td>\n",
       "      <td>0.0</td>\n",
       "      <td>0.0</td>\n",
       "      <td>0.0</td>\n",
       "      <td>1.0</td>\n",
       "      <td>...</td>\n",
       "      <td>0.0</td>\n",
       "      <td>0.0</td>\n",
       "      <td>0.0</td>\n",
       "      <td>0.0</td>\n",
       "      <td>0.0</td>\n",
       "      <td>0.0</td>\n",
       "      <td>1.0</td>\n",
       "      <td>0.0</td>\n",
       "      <td>1.0</td>\n",
       "      <td>0.0</td>\n",
       "    </tr>\n",
       "    <tr>\n",
       "      <th>4</th>\n",
       "      <td>-0.165168</td>\n",
       "      <td>0.307200</td>\n",
       "      <td>0.0</td>\n",
       "      <td>1.0</td>\n",
       "      <td>0.0</td>\n",
       "      <td>1.0</td>\n",
       "      <td>0.0</td>\n",
       "      <td>0.0</td>\n",
       "      <td>0.0</td>\n",
       "      <td>1.0</td>\n",
       "      <td>...</td>\n",
       "      <td>0.0</td>\n",
       "      <td>0.0</td>\n",
       "      <td>0.0</td>\n",
       "      <td>0.0</td>\n",
       "      <td>0.0</td>\n",
       "      <td>0.0</td>\n",
       "      <td>1.0</td>\n",
       "      <td>0.0</td>\n",
       "      <td>1.0</td>\n",
       "      <td>0.0</td>\n",
       "    </tr>\n",
       "  </tbody>\n",
       "</table>\n",
       "<p>5 rows × 156 columns</p>\n",
       "</div>"
      ],
      "text/plain": [
       "   Niveau_diplome_num     age_p  H/F_F  H/F_H  group_formation_p_autre  \\\n",
       "0           -0.165168 -0.950358    1.0    0.0                      0.0   \n",
       "1           -0.165168 -1.159951    0.0    1.0                      0.0   \n",
       "2           -1.333491 -0.321579    1.0    0.0                      0.0   \n",
       "3            1.003154 -0.111986    1.0    0.0                      0.0   \n",
       "4           -0.165168  0.307200    0.0    1.0                      0.0   \n",
       "\n",
       "   group_formation_p_ecole  group_formation_p_universite  \\\n",
       "0                      1.0                           0.0   \n",
       "1                      1.0                           0.0   \n",
       "2                      1.0                           0.0   \n",
       "3                      1.0                           0.0   \n",
       "4                      1.0                           0.0   \n",
       "\n",
       "   Code formation_p_1 : Ingénieurs / Sciences dures  \\\n",
       "0                                               0.0   \n",
       "1                                               0.0   \n",
       "2                                               0.0   \n",
       "3                                               0.0   \n",
       "4                                               0.0   \n",
       "\n",
       "   Code formation_p_2 : Sciences du vivant  \\\n",
       "0                                      0.0   \n",
       "1                                      0.0   \n",
       "2                                      0.0   \n",
       "3                                      0.0   \n",
       "4                                      0.0   \n",
       "\n",
       "   Code formation_p_3 : Commerce / Finance / Gestion  \\\n",
       "0                                                1.0   \n",
       "1                                                1.0   \n",
       "2                                                1.0   \n",
       "3                                                1.0   \n",
       "4                                                1.0   \n",
       "\n",
       "                ...                 Fonction actuelle_Responsable qualité  \\\n",
       "0               ...                                                   0.0   \n",
       "1               ...                                                   0.0   \n",
       "2               ...                                                   0.0   \n",
       "3               ...                                                   0.0   \n",
       "4               ...                                                   0.0   \n",
       "\n",
       "   Fonction actuelle_Responsable recherche et développement  \\\n",
       "0                                                0.0          \n",
       "1                                                0.0          \n",
       "2                                                0.0          \n",
       "3                                                0.0          \n",
       "4                                                0.0          \n",
       "\n",
       "   Fonction actuelle_Réalisateur  Fonction actuelle_Rédactrice  \\\n",
       "0                            0.0                           0.0   \n",
       "1                            0.0                           0.0   \n",
       "2                            0.0                           0.0   \n",
       "3                            0.0                           0.0   \n",
       "4                            0.0                           0.0   \n",
       "\n",
       "   Fonction actuelle_Secrétaire général  Fonction actuelle_Trader  \\\n",
       "0                                   0.0                       0.0   \n",
       "1                                   0.0                       0.0   \n",
       "2                                   0.0                       0.0   \n",
       "3                                   0.0                       0.0   \n",
       "4                                   0.0                       0.0   \n",
       "\n",
       "   A déjà eu un parrainage annulé ?_Non  A déjà eu un parrainage annulé ?_Oui  \\\n",
       "0                                   1.0                                   0.0   \n",
       "1                                   1.0                                   0.0   \n",
       "2                                   1.0                                   0.0   \n",
       "3                                   1.0                                   0.0   \n",
       "4                                   1.0                                   0.0   \n",
       "\n",
       "   Temporairement indisponible_Non  Temporairement indisponible_Oui  \n",
       "0                              1.0                              0.0  \n",
       "1                              1.0                              0.0  \n",
       "2                              0.0                              1.0  \n",
       "3                              1.0                              0.0  \n",
       "4                              1.0                              0.0  \n",
       "\n",
       "[5 rows x 156 columns]"
      ]
     },
     "execution_count": 713,
     "metadata": {},
     "output_type": "execute_result"
    }
   ],
   "source": [
    "parrain_dummy.head()\n",
    "#parrain.head()"
   ]
  },
  {
   "cell_type": "code",
   "execution_count": 714,
   "metadata": {
    "collapsed": false
   },
   "outputs": [],
   "source": [
    "pca = PCA(n_components=0.97).fit(parrain_dummy.values)\n",
    "X_pca = pca.transform(parrain_dummy.values)\n",
    "k_means = KMeans(init='k-means++', n_clusters=4).fit(X_pca)"
   ]
  },
  {
   "cell_type": "code",
   "execution_count": 715,
   "metadata": {
    "collapsed": false
   },
   "outputs": [
    {
     "name": "stdout",
     "output_type": "stream",
     "text": [
      "[ 0.1885006   0.17452963  0.09433286  0.06761165  0.05418767  0.03908192\n",
      "  0.03590377  0.03137621  0.02357838  0.02063153  0.02001021  0.01532156\n",
      "  0.01385791  0.01106258  0.01059112  0.00930474  0.00921197  0.0088699\n",
      "  0.00821891  0.00754341  0.00692793  0.00627366  0.00597676  0.00509216\n",
      "  0.00482873  0.00460151  0.00420253  0.00343249  0.00332421  0.00326318\n",
      "  0.00313667  0.0028666   0.00280058  0.00275991  0.00268578  0.00245126\n",
      "  0.00241923  0.00232468  0.0022439   0.00217165  0.00206596  0.00203363\n",
      "  0.00195987  0.0019362   0.00191149  0.0019036   0.00185833  0.00178056\n",
      "  0.00174427  0.00172526  0.00169593  0.0016374   0.00159542  0.0015237\n",
      "  0.00145867  0.00143973  0.00143434  0.00140143  0.00139231  0.00137401\n",
      "  0.00131335  0.00126948  0.00125813  0.00124311  0.00123195  0.00114243\n",
      "  0.00109937  0.00108547  0.00107801  0.00104098  0.00101428  0.00096914\n",
      "  0.00091649  0.00090173  0.00089425  0.00089084  0.00088155  0.00086276]\n",
      "0.970475348053\n"
     ]
    }
   ],
   "source": [
    "print pca.explained_variance_ratio_\n",
    "print pca.explained_variance_ratio_.sum()"
   ]
  },
  {
   "cell_type": "code",
   "execution_count": 704,
   "metadata": {
    "collapsed": false
   },
   "outputs": [
    {
     "data": {
      "image/png": "[encoded data removed]",
      "text/plain": [
       "<matplotlib.figure.Figure at 0x11f612c10>"
      ]
     },
     "metadata": {},
     "output_type": "display_data"
    }
   ],
   "source": [
    "distortions = []\n",
    "for i in range (1, 15):\n",
    "    km = k_means = KMeans(init='k-means++', n_clusters=i, n_init=10).fit(X_pca)\n",
    "    distortions.append(km.inertia_)\n",
    "plt.plot(range(1, 15), distortions, marker='o')\n",
    "plt.xlabel('Number of cluster')\n",
    "plt.ylabel('Distortion')\n",
    "plt.show()"
   ]
  },
  {
   "cell_type": "markdown",
   "metadata": {},
   "source": [
    "#### Prendre 4 ou 5 cluster pour les parrains"
   ]
  },
  {
   "cell_type": "code",
   "execution_count": 716,
   "metadata": {
    "collapsed": true
   },
   "outputs": [],
   "source": [
    "parrain[\"cluster\"] = k_means.labels_\n",
    "parrain[\"pca_1\"] =  X_pca[:,0]\n",
    "parrain[\"pca_2\"] =  X_pca[:,1]\n",
    "parrain[\"pca_3\"] =  X_pca[:,2]"
   ]
  },
  {
   "cell_type": "code",
   "execution_count": 717,
   "metadata": {
    "collapsed": true
   },
   "outputs": [],
   "source": [
    "k_means_labels = k_means.labels_\n",
    "k_means_cluster_centers = k_means.cluster_centers_\n",
    "k_means_labels_unique = np.unique(k_means_labels)"
   ]
  },
  {
   "cell_type": "code",
   "execution_count": 718,
   "metadata": {
    "collapsed": true
   },
   "outputs": [],
   "source": [
    "dico_color = {0: '#4169e1',\n",
    "              1: '#4169e1',\n",
    "              2: '#00ff7f',\n",
    "              3: '#77dfc9',\n",
    "              4: '#c2cc4a',\n",
    "              5: '#ff8c00',\n",
    "              6: '#ff6d00',\n",
    "              7: '#ff4500',\n",
    "              8: '#f1ae50',\n",
    "              9: '#ffa500'\n",
    "              }\n",
    "#'#4169e1','#4169e1','#00ff7f','#c2cc4a','#ff8c00','#ff6d00','#ff4500'\n",
    "\n",
    "center_color = [col for col in dico_color.values()]\n",
    "\n",
    "color = [col for col in dico_color.values()]\n",
    "parrain[\"color\"] = parrain.cluster.map(dico_color)"
   ]
  },
  {
   "cell_type": "code",
   "execution_count": 719,
   "metadata": {
    "collapsed": false
   },
   "outputs": [
    {
     "data": {
      "text/plain": [
       "<matplotlib.text.Text at 0x1202a5190>"
      ]
     },
     "execution_count": 719,
     "metadata": {},
     "output_type": "execute_result"
    },
    {
     "data": {
      "image/png": "[encoded data removed]",
      "text/plain": [
       "<matplotlib.figure.Figure at 0x11be5fe90>"
      ]
     },
     "metadata": {},
     "output_type": "display_data"
    }
   ],
   "source": [
    "for k, col in zip(range(k_means_labels_unique.argmax() + 1), color):\n",
    "    my_members = k_means_labels == k\n",
    "    cluster_center = k_means_cluster_centers[k]\n",
    "    plt.scatter(parrain.pca_1, parrain.pca_2, color=parrain.color,\n",
    "             marker='.', alpha=0.6)\n",
    "    plt.plot(cluster_center[0], cluster_center[1], \n",
    "         '*', markerfacecolor=col, markersize=15)\n",
    "                     \n",
    "plt.title(\"Number of Parrain's cluster %d\" % k_means.n_clusters)\n",
    "plt.xlabel('First PCA direction (%s)' % round(pca.explained_variance_ratio_[0], 2))\n",
    "plt.ylabel('Seconde PCA direction (%s)' % round(pca.explained_variance_ratio_[1], 2))"
   ]
  },
  {
   "cell_type": "code",
   "execution_count": 720,
   "metadata": {
    "collapsed": false
   },
   "outputs": [
    {
     "data": {
      "text/plain": [
       "2    511\n",
       "1    380\n",
       "0     64\n",
       "3      7\n",
       "Name: cluster, dtype: int64"
      ]
     },
     "execution_count": 720,
     "metadata": {},
     "output_type": "execute_result"
    }
   ],
   "source": [
    "parrain.cluster.value_counts()"
   ]
  },
  {
   "cell_type": "code",
   "execution_count": 721,
   "metadata": {
    "collapsed": true
   },
   "outputs": [],
   "source": [
    "parrain['target'] = data.target"
   ]
  },
  {
   "cell_type": "code",
   "execution_count": 722,
   "metadata": {
    "collapsed": false
   },
   "outputs": [
    {
     "data": {
      "image/png": "[encoded data removed]",
      "text/plain": [
       "<matplotlib.figure.Figure at 0x1219f7250>"
      ]
     },
     "metadata": {},
     "output_type": "display_data"
    }
   ],
   "source": [
    "col_target(\"cluster\", parrain)"
   ]
  },
  {
   "cell_type": "code",
   "execution_count": 723,
   "metadata": {
    "collapsed": false
   },
   "outputs": [
    {
     "data": {
      "image/png": "[encoded data removed]",
      "text/plain": [
       "<matplotlib.figure.Figure at 0x11bde6550>"
      ]
     },
     "metadata": {},
     "output_type": "display_data"
    }
   ],
   "source": [
    "col_target_q(\"cluster\", parrain)"
   ]
  },
  {
   "cell_type": "code",
   "execution_count": 725,
   "metadata": {
    "collapsed": false
   },
   "outputs": [
    {
     "data": {
      "text/html": [
       "<div>\n",
       "<table border=\"1\" class=\"dataframe\">\n",
       "  <thead>\n",
       "    <tr style=\"text-align: right;\">\n",
       "      <th></th>\n",
       "      <th>H/F</th>\n",
       "      <th>group_formation_p</th>\n",
       "      <th>Niveau_diplome_num</th>\n",
       "      <th>Code formation_p</th>\n",
       "      <th>age_p</th>\n",
       "      <th>Secteur d'activité</th>\n",
       "      <th>Fonction actuelle</th>\n",
       "      <th>A déjà eu un parrainage annulé ?</th>\n",
       "      <th>Temporairement indisponible</th>\n",
       "    </tr>\n",
       "  </thead>\n",
       "  <tbody>\n",
       "    <tr>\n",
       "      <th>0</th>\n",
       "      <td>F</td>\n",
       "      <td>ecole</td>\n",
       "      <td>5</td>\n",
       "      <td>3 : Commerce / Finance / Gestion</td>\n",
       "      <td>27.0</td>\n",
       "      <td>Conseil / Etudes</td>\n",
       "      <td>Consultant en stratégie</td>\n",
       "      <td>Non</td>\n",
       "      <td>Non</td>\n",
       "    </tr>\n",
       "    <tr>\n",
       "      <th>1</th>\n",
       "      <td>H</td>\n",
       "      <td>ecole</td>\n",
       "      <td>5</td>\n",
       "      <td>3 : Commerce / Finance / Gestion</td>\n",
       "      <td>25.0</td>\n",
       "      <td>Conseil / Etudes</td>\n",
       "      <td>Associé</td>\n",
       "      <td>Non</td>\n",
       "      <td>Non</td>\n",
       "    </tr>\n",
       "    <tr>\n",
       "      <th>2</th>\n",
       "      <td>F</td>\n",
       "      <td>ecole</td>\n",
       "      <td>4</td>\n",
       "      <td>3 : Commerce / Finance / Gestion</td>\n",
       "      <td>33.0</td>\n",
       "      <td>Autre</td>\n",
       "      <td>Responsable marketing</td>\n",
       "      <td>Non</td>\n",
       "      <td>Oui</td>\n",
       "    </tr>\n",
       "    <tr>\n",
       "      <th>3</th>\n",
       "      <td>F</td>\n",
       "      <td>ecole</td>\n",
       "      <td>6</td>\n",
       "      <td>3 : Commerce / Finance / Gestion</td>\n",
       "      <td>35.0</td>\n",
       "      <td>Communication / Médias</td>\n",
       "      <td>Consultant en communication</td>\n",
       "      <td>Non</td>\n",
       "      <td>Non</td>\n",
       "    </tr>\n",
       "    <tr>\n",
       "      <th>4</th>\n",
       "      <td>H</td>\n",
       "      <td>ecole</td>\n",
       "      <td>5</td>\n",
       "      <td>3 : Commerce / Finance / Gestion</td>\n",
       "      <td>39.0</td>\n",
       "      <td>Autre</td>\n",
       "      <td>Président</td>\n",
       "      <td>Non</td>\n",
       "      <td>Non</td>\n",
       "    </tr>\n",
       "  </tbody>\n",
       "</table>\n",
       "</div>"
      ],
      "text/plain": [
       "  H/F group_formation_p  Niveau_diplome_num                  Code formation_p  \\\n",
       "0   F             ecole                   5  3 : Commerce / Finance / Gestion   \n",
       "1   H             ecole                   5  3 : Commerce / Finance / Gestion   \n",
       "2   F             ecole                   4  3 : Commerce / Finance / Gestion   \n",
       "3   F             ecole                   6  3 : Commerce / Finance / Gestion   \n",
       "4   H             ecole                   5  3 : Commerce / Finance / Gestion   \n",
       "\n",
       "   age_p      Secteur d'activité            Fonction actuelle  \\\n",
       "0   27.0        Conseil / Etudes      Consultant en stratégie   \n",
       "1   25.0        Conseil / Etudes                      Associé   \n",
       "2   33.0                   Autre        Responsable marketing   \n",
       "3   35.0  Communication / Médias  Consultant en communication   \n",
       "4   39.0                   Autre                    Président   \n",
       "\n",
       "  A déjà eu un parrainage annulé ? Temporairement indisponible  \n",
       "0                              Non                         Non  \n",
       "1                              Non                         Non  \n",
       "2                              Non                         Oui  \n",
       "3                              Non                         Non  \n",
       "4                              Non                         Non  "
      ]
     },
     "execution_count": 725,
     "metadata": {},
     "output_type": "execute_result"
    }
   ],
   "source": [
    "data[features_p].head()"
   ]
  },
  {
   "cell_type": "code",
   "execution_count": null,
   "metadata": {
    "collapsed": true
   },
   "outputs": [],
   "source": []
  }
 ],
 "metadata": {
  "kernelspec": {
   "display_name": "Python 2",
   "language": "python",
   "name": "python2"
  },
  "language_info": {
   "codemirror_mode": {
    "name": "ipython",
    "version": 2
   },
   "file_extension": ".py",
   "mimetype": "text/x-python",
   "name": "python",
   "nbconvert_exporter": "python",
   "pygments_lexer": "ipython2",
   "version": "2.7.11"
  }
 },
 "nbformat": 4,
 "nbformat_minor": 0
}
